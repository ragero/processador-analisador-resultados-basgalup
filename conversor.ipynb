{
 "metadata": {
  "language_info": {
   "codemirror_mode": {
    "name": "ipython",
    "version": 3
   },
   "file_extension": ".py",
   "mimetype": "text/x-python",
   "name": "python",
   "nbconvert_exporter": "python",
   "pygments_lexer": "ipython3",
   "version": "3.7.3-final"
  },
  "orig_nbformat": 2,
  "kernelspec": {
   "name": "python3",
   "display_name": "Python 3",
   "language": "python"
  }
 },
 "nbformat": 4,
 "nbformat_minor": 2,
 "cells": [
  {
   "source": [
    "# Definições"
   ],
   "cell_type": "markdown",
   "metadata": {}
  },
  {
   "cell_type": "code",
   "execution_count": 63,
   "metadata": {},
   "outputs": [],
   "source": [
    "algoritmo = 'LLGC'\n",
    "metrica = 'MacroF1'\n",
    "dir_results = '/media/rafael/DadosCompartilhados/experimentos/experimentos_marcio/Temp'\n",
    "path = '/media/rafael/DadosCompartilhados/experimentos/experimentos_marcio/LLGC_MacroF1.xlsx'"
   ]
  },
  {
   "source": [
    "# Importações"
   ],
   "cell_type": "markdown",
   "metadata": {}
  },
  {
   "cell_type": "code",
   "execution_count": 64,
   "metadata": {},
   "outputs": [],
   "source": [
    "import pandas as pd\n",
    "import os"
   ]
  },
  {
   "source": [
    "# Funções"
   ],
   "cell_type": "markdown",
   "metadata": {}
  },
  {
   "cell_type": "code",
   "execution_count": 65,
   "metadata": {},
   "outputs": [],
   "source": [
    "def statistics(series): \n",
    "    series['Máximo'] = series.max()\n",
    "    series['Mínimo'] = series.min()\n",
    "    series['Média'] = series.mean()\n",
    "    series['Desvio Padrão'] = series.std()\n",
    "    return series   "
   ]
  },
  {
   "source": [
    "# Definições"
   ],
   "cell_type": "markdown",
   "metadata": {}
  },
  {
   "cell_type": "code",
   "execution_count": 66,
   "metadata": {},
   "outputs": [],
   "source": [
    "lista_algoritmos = ['GE','CHD','ED','MD','Cov','ITML','LFDA','LMNN','LSMN','NCA','RCA','SDML']\n",
    "lista_conversao = ['GE','Cov','ITML','LFDA','LMNN','LSMN','NCA','RCA','SDML']"
   ]
  },
  {
   "source": [
    "# Leitura (definindo as colunas que serão lidas)"
   ],
   "cell_type": "markdown",
   "metadata": {}
  },
  {
   "cell_type": "code",
   "execution_count": 67,
   "metadata": {},
   "outputs": [],
   "source": [
    "#df = pd.read_excel(path, sheet_name=['GE','CHD','ED','MD','Cov','ITML','LFDA','LMNN','LSMN','NCA','RCA','SDML'])\n",
    "df = pd.read_excel(path, sheet_name=lista_algoritmos)"
   ]
  },
  {
   "source": [
    "# Processamento e geração dos resultados"
   ],
   "cell_type": "markdown",
   "metadata": {}
  },
  {
   "cell_type": "code",
   "execution_count": 68,
   "metadata": {},
   "outputs": [
    {
     "output_type": "stream",
     "name": "stdout",
     "text": [
      "GE\n",
      "CHD\n",
      "ED\n",
      "MD\n",
      "Cov\n",
      "ITML\n",
      "LFDA\n",
      "LMNN\n",
      "LSMN\n",
      "NCA\n",
      "RCA\n",
      "SDML\n",
      "Done!\n"
     ]
    }
   ],
   "source": [
    "for key in df.keys(): \n",
    "    if key != 'GE': \n",
    "        df[key] = df[key][df[key].columns[:-1]]\n",
    "    else: \n",
    "        df[key] = df[key][df[key].columns[:]]\n",
    "    coluna_base = df[key].columns[0]\n",
    "    df[key].index = df[key][coluna_base]\n",
    "    df[key] = df[key].drop(columns=[coluna_base])\n",
    "    if key in lista_conversao: \n",
    "        df[key] = df[key] / 100\n",
    "    df[key] = df[key].apply(statistics, axis=1)\n",
    "    df[key].to_csv(os.path.join(dir_results, f'{metrica}_{key}_{algoritmo}.csv'))\n",
    "    print(key)\n",
    "print('Done!')"
   ]
  },
  {
   "source": [
    "# Área de Testes"
   ],
   "cell_type": "markdown",
   "metadata": {}
  },
  {
   "cell_type": "code",
   "execution_count": 62,
   "metadata": {},
   "outputs": [],
   "source": [
    "df = pd.read_excel('/media/rafael/DadosCompartilhados/experimentos/experimentos_marcio/LLGC_MicroF1.xlsx', sheet_name=['Cov'])"
   ]
  },
  {
   "cell_type": "code",
   "execution_count": 53,
   "metadata": {},
   "outputs": [],
   "source": [
    "data = df['Cov'][df['Cov'].columns[1:]]"
   ]
  },
  {
   "cell_type": "code",
   "execution_count": 54,
   "metadata": {},
   "outputs": [],
   "source": [
    "data = data/100"
   ]
  },
  {
   "cell_type": "code",
   "execution_count": 55,
   "metadata": {},
   "outputs": [
    {
     "output_type": "execute_result",
     "data": {
      "text/plain": [
       "       param1    param2    param3    param4    param5    param6    param7  \\\n",
       "0    0.684186  0.680233  0.560000  0.720465  0.442326  0.711628  0.585581   \n",
       "1    0.766222  0.763852  0.953926  0.568000  0.956741  0.563407  0.953926   \n",
       "2    0.047863  0.047863  0.059829  0.059829  0.047863  0.059829  0.059829   \n",
       "3    0.113243  0.573649  0.340946  0.237838  0.459189  0.596216  0.474595   \n",
       "4    0.734694  0.734694  0.734694  0.551020  0.734694  0.918367  0.918367   \n",
       "..        ...       ...       ...       ...       ...       ...       ...   \n",
       "137  0.317011  0.341379  0.349195  0.479080  0.461839  0.588966  0.486437   \n",
       "138  0.597333  0.596000  0.795000  0.597333  0.997333  0.996000  0.798667   \n",
       "139  0.468811  0.636643  0.724476  0.916084  0.553287  0.906573  0.698741   \n",
       "140  0.470189  0.609434  0.258868  0.566038  0.243774  0.444528  0.447925   \n",
       "141  0.266047  0.515349  0.683023  0.404651  0.696977  0.569767  0.550233   \n",
       "\n",
       "       param8    param9   param10  ...   param12   param13   param14  \\\n",
       "0    0.715814  0.265581  0.579767  ...  0.544186  0.530698  0.443023   \n",
       "1    0.374519  0.951407  0.553333  ...  0.762074  0.955704  0.739704   \n",
       "2    0.047863  0.059829  0.059829  ...  0.035897  0.047863  0.059829   \n",
       "3    0.596757  0.450946  0.590270  ...  0.563514  0.576757  0.356351   \n",
       "4    0.734694  0.551020  0.551020  ...  0.734694  0.918367  0.918367   \n",
       "..        ...       ...       ...  ...       ...       ...       ...   \n",
       "137  0.334253  0.551954  0.443448  ...  0.572414  0.405517  0.547816   \n",
       "138  0.997333  0.995000  0.998667  ...  0.993333  0.796667  0.800000   \n",
       "139  0.921678  0.907413  0.918881  ...  0.525315  0.442797  0.735944   \n",
       "140  0.441509  0.477358  0.525660  ...  0.486038  0.597736  0.304528   \n",
       "141  0.563256  0.399535  0.571860  ...  0.390698  0.616279  0.711395   \n",
       "\n",
       "      param15   param16   param17   param18   param19   param20  \\\n",
       "0    0.579535  0.575814  0.405116  0.707209  0.571628  0.571628   \n",
       "1    0.951852  0.950667  0.947852  0.567407  0.384296  0.563556   \n",
       "2    0.047863  0.059829  0.059829  0.035897  0.047863  0.047863   \n",
       "3    0.596757  0.229459  0.339730  0.479730  0.575946  0.480135   \n",
       "4    0.918367  0.734694  0.734694  0.551020  0.734694  0.734694   \n",
       "..        ...       ...       ...       ...       ...       ...   \n",
       "137  0.480920  0.351724  0.333563  0.562759  0.352874  0.469425   \n",
       "138  0.996000  0.996667  0.996667  0.597333  0.995000  0.796000   \n",
       "139  0.740140  0.919441  0.558322  0.736224  0.557483  0.735664   \n",
       "140  0.459623  0.361132  0.486415  0.328302  0.372075  0.561132   \n",
       "141  0.695116  0.579070  0.669767  0.422558  0.696279  0.707674   \n",
       "\n",
       "     Melhores_Resultados  \n",
       "0               0.720465  \n",
       "1               0.956741  \n",
       "2               0.059829  \n",
       "3               0.596757  \n",
       "4               0.918367  \n",
       "..                   ...  \n",
       "137             0.588966  \n",
       "138             0.998667  \n",
       "139             0.921678  \n",
       "140             0.609434  \n",
       "141             0.711395  \n",
       "\n",
       "[142 rows x 21 columns]"
      ],
      "text/html": "<div>\n<style scoped>\n    .dataframe tbody tr th:only-of-type {\n        vertical-align: middle;\n    }\n\n    .dataframe tbody tr th {\n        vertical-align: top;\n    }\n\n    .dataframe thead th {\n        text-align: right;\n    }\n</style>\n<table border=\"1\" class=\"dataframe\">\n  <thead>\n    <tr style=\"text-align: right;\">\n      <th></th>\n      <th>param1</th>\n      <th>param2</th>\n      <th>param3</th>\n      <th>param4</th>\n      <th>param5</th>\n      <th>param6</th>\n      <th>param7</th>\n      <th>param8</th>\n      <th>param9</th>\n      <th>param10</th>\n      <th>...</th>\n      <th>param12</th>\n      <th>param13</th>\n      <th>param14</th>\n      <th>param15</th>\n      <th>param16</th>\n      <th>param17</th>\n      <th>param18</th>\n      <th>param19</th>\n      <th>param20</th>\n      <th>Melhores_Resultados</th>\n    </tr>\n  </thead>\n  <tbody>\n    <tr>\n      <th>0</th>\n      <td>0.684186</td>\n      <td>0.680233</td>\n      <td>0.560000</td>\n      <td>0.720465</td>\n      <td>0.442326</td>\n      <td>0.711628</td>\n      <td>0.585581</td>\n      <td>0.715814</td>\n      <td>0.265581</td>\n      <td>0.579767</td>\n      <td>...</td>\n      <td>0.544186</td>\n      <td>0.530698</td>\n      <td>0.443023</td>\n      <td>0.579535</td>\n      <td>0.575814</td>\n      <td>0.405116</td>\n      <td>0.707209</td>\n      <td>0.571628</td>\n      <td>0.571628</td>\n      <td>0.720465</td>\n    </tr>\n    <tr>\n      <th>1</th>\n      <td>0.766222</td>\n      <td>0.763852</td>\n      <td>0.953926</td>\n      <td>0.568000</td>\n      <td>0.956741</td>\n      <td>0.563407</td>\n      <td>0.953926</td>\n      <td>0.374519</td>\n      <td>0.951407</td>\n      <td>0.553333</td>\n      <td>...</td>\n      <td>0.762074</td>\n      <td>0.955704</td>\n      <td>0.739704</td>\n      <td>0.951852</td>\n      <td>0.950667</td>\n      <td>0.947852</td>\n      <td>0.567407</td>\n      <td>0.384296</td>\n      <td>0.563556</td>\n      <td>0.956741</td>\n    </tr>\n    <tr>\n      <th>2</th>\n      <td>0.047863</td>\n      <td>0.047863</td>\n      <td>0.059829</td>\n      <td>0.059829</td>\n      <td>0.047863</td>\n      <td>0.059829</td>\n      <td>0.059829</td>\n      <td>0.047863</td>\n      <td>0.059829</td>\n      <td>0.059829</td>\n      <td>...</td>\n      <td>0.035897</td>\n      <td>0.047863</td>\n      <td>0.059829</td>\n      <td>0.047863</td>\n      <td>0.059829</td>\n      <td>0.059829</td>\n      <td>0.035897</td>\n      <td>0.047863</td>\n      <td>0.047863</td>\n      <td>0.059829</td>\n    </tr>\n    <tr>\n      <th>3</th>\n      <td>0.113243</td>\n      <td>0.573649</td>\n      <td>0.340946</td>\n      <td>0.237838</td>\n      <td>0.459189</td>\n      <td>0.596216</td>\n      <td>0.474595</td>\n      <td>0.596757</td>\n      <td>0.450946</td>\n      <td>0.590270</td>\n      <td>...</td>\n      <td>0.563514</td>\n      <td>0.576757</td>\n      <td>0.356351</td>\n      <td>0.596757</td>\n      <td>0.229459</td>\n      <td>0.339730</td>\n      <td>0.479730</td>\n      <td>0.575946</td>\n      <td>0.480135</td>\n      <td>0.596757</td>\n    </tr>\n    <tr>\n      <th>4</th>\n      <td>0.734694</td>\n      <td>0.734694</td>\n      <td>0.734694</td>\n      <td>0.551020</td>\n      <td>0.734694</td>\n      <td>0.918367</td>\n      <td>0.918367</td>\n      <td>0.734694</td>\n      <td>0.551020</td>\n      <td>0.551020</td>\n      <td>...</td>\n      <td>0.734694</td>\n      <td>0.918367</td>\n      <td>0.918367</td>\n      <td>0.918367</td>\n      <td>0.734694</td>\n      <td>0.734694</td>\n      <td>0.551020</td>\n      <td>0.734694</td>\n      <td>0.734694</td>\n      <td>0.918367</td>\n    </tr>\n    <tr>\n      <th>...</th>\n      <td>...</td>\n      <td>...</td>\n      <td>...</td>\n      <td>...</td>\n      <td>...</td>\n      <td>...</td>\n      <td>...</td>\n      <td>...</td>\n      <td>...</td>\n      <td>...</td>\n      <td>...</td>\n      <td>...</td>\n      <td>...</td>\n      <td>...</td>\n      <td>...</td>\n      <td>...</td>\n      <td>...</td>\n      <td>...</td>\n      <td>...</td>\n      <td>...</td>\n      <td>...</td>\n    </tr>\n    <tr>\n      <th>137</th>\n      <td>0.317011</td>\n      <td>0.341379</td>\n      <td>0.349195</td>\n      <td>0.479080</td>\n      <td>0.461839</td>\n      <td>0.588966</td>\n      <td>0.486437</td>\n      <td>0.334253</td>\n      <td>0.551954</td>\n      <td>0.443448</td>\n      <td>...</td>\n      <td>0.572414</td>\n      <td>0.405517</td>\n      <td>0.547816</td>\n      <td>0.480920</td>\n      <td>0.351724</td>\n      <td>0.333563</td>\n      <td>0.562759</td>\n      <td>0.352874</td>\n      <td>0.469425</td>\n      <td>0.588966</td>\n    </tr>\n    <tr>\n      <th>138</th>\n      <td>0.597333</td>\n      <td>0.596000</td>\n      <td>0.795000</td>\n      <td>0.597333</td>\n      <td>0.997333</td>\n      <td>0.996000</td>\n      <td>0.798667</td>\n      <td>0.997333</td>\n      <td>0.995000</td>\n      <td>0.998667</td>\n      <td>...</td>\n      <td>0.993333</td>\n      <td>0.796667</td>\n      <td>0.800000</td>\n      <td>0.996000</td>\n      <td>0.996667</td>\n      <td>0.996667</td>\n      <td>0.597333</td>\n      <td>0.995000</td>\n      <td>0.796000</td>\n      <td>0.998667</td>\n    </tr>\n    <tr>\n      <th>139</th>\n      <td>0.468811</td>\n      <td>0.636643</td>\n      <td>0.724476</td>\n      <td>0.916084</td>\n      <td>0.553287</td>\n      <td>0.906573</td>\n      <td>0.698741</td>\n      <td>0.921678</td>\n      <td>0.907413</td>\n      <td>0.918881</td>\n      <td>...</td>\n      <td>0.525315</td>\n      <td>0.442797</td>\n      <td>0.735944</td>\n      <td>0.740140</td>\n      <td>0.919441</td>\n      <td>0.558322</td>\n      <td>0.736224</td>\n      <td>0.557483</td>\n      <td>0.735664</td>\n      <td>0.921678</td>\n    </tr>\n    <tr>\n      <th>140</th>\n      <td>0.470189</td>\n      <td>0.609434</td>\n      <td>0.258868</td>\n      <td>0.566038</td>\n      <td>0.243774</td>\n      <td>0.444528</td>\n      <td>0.447925</td>\n      <td>0.441509</td>\n      <td>0.477358</td>\n      <td>0.525660</td>\n      <td>...</td>\n      <td>0.486038</td>\n      <td>0.597736</td>\n      <td>0.304528</td>\n      <td>0.459623</td>\n      <td>0.361132</td>\n      <td>0.486415</td>\n      <td>0.328302</td>\n      <td>0.372075</td>\n      <td>0.561132</td>\n      <td>0.609434</td>\n    </tr>\n    <tr>\n      <th>141</th>\n      <td>0.266047</td>\n      <td>0.515349</td>\n      <td>0.683023</td>\n      <td>0.404651</td>\n      <td>0.696977</td>\n      <td>0.569767</td>\n      <td>0.550233</td>\n      <td>0.563256</td>\n      <td>0.399535</td>\n      <td>0.571860</td>\n      <td>...</td>\n      <td>0.390698</td>\n      <td>0.616279</td>\n      <td>0.711395</td>\n      <td>0.695116</td>\n      <td>0.579070</td>\n      <td>0.669767</td>\n      <td>0.422558</td>\n      <td>0.696279</td>\n      <td>0.707674</td>\n      <td>0.711395</td>\n    </tr>\n  </tbody>\n</table>\n<p>142 rows × 21 columns</p>\n</div>"
     },
     "metadata": {},
     "execution_count": 55
    }
   ],
   "source": [
    "data"
   ]
  },
  {
   "cell_type": "code",
   "execution_count": null,
   "metadata": {},
   "outputs": [],
   "source": []
  },
  {
   "cell_type": "code",
   "execution_count": null,
   "metadata": {},
   "outputs": [],
   "source": []
  },
  {
   "cell_type": "code",
   "execution_count": null,
   "metadata": {},
   "outputs": [],
   "source": []
  }
 ]
}