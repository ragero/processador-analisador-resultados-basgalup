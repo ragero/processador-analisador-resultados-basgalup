{
 "metadata": {
  "language_info": {
   "codemirror_mode": {
    "name": "ipython",
    "version": 3
   },
   "file_extension": ".py",
   "mimetype": "text/x-python",
   "name": "python",
   "nbconvert_exporter": "python",
   "pygments_lexer": "ipython3",
   "version": "3.7.3-final"
  },
  "orig_nbformat": 2,
  "kernelspec": {
   "name": "python3",
   "display_name": "Python 3",
   "language": "python"
  }
 },
 "nbformat": 4,
 "nbformat_minor": 2,
 "cells": [
  {
   "source": [
    "# Importações"
   ],
   "cell_type": "markdown",
   "metadata": {}
  },
  {
   "cell_type": "code",
   "execution_count": 119,
   "metadata": {},
   "outputs": [],
   "source": [
    "import json"
   ]
  },
  {
   "source": [
    "# Definições"
   ],
   "cell_type": "markdown",
   "metadata": {}
  },
  {
   "cell_type": "code",
   "execution_count": 107,
   "metadata": {},
   "outputs": [],
   "source": [
    "algoritmo = 'GFHF'\n",
    "medida = 'MacroF1'\n",
    "coluna = 'Máximo'\n",
    "dir_resultados = '/media/rafael/DadosCompartilhados/experimentos/experimentos_marcio/Temp'\n",
    "dir_saida = '/media/rafael/DadosCompartilhados/experimentos/experimentos_marcio/ResultadosProcessados'"
   ]
  },
  {
   "source": [
    "# Importações"
   ],
   "cell_type": "markdown",
   "metadata": {}
  },
  {
   "cell_type": "code",
   "execution_count": 108,
   "metadata": {},
   "outputs": [],
   "source": [
    "import pandas as pd \n",
    "import os"
   ]
  },
  {
   "source": [
    "# Processando e Juntando os Dados"
   ],
   "cell_type": "markdown",
   "metadata": {}
  },
  {
   "source": [
    "## Obtendo a lista dos arquivos a serem processados"
   ],
   "cell_type": "markdown",
   "metadata": {}
  },
  {
   "cell_type": "code",
   "execution_count": 109,
   "metadata": {},
   "outputs": [],
   "source": [
    "lista_arquivos = []\n",
    "for root, dirs, files in os.walk(dir_resultados): \n",
    "    for file in files: \n",
    "        if (file.count(algoritmo) > 0) and (file.count(medida) > 0): \n",
    "            lista_arquivos.append(os.path.join(root, file))"
   ]
  },
  {
   "cell_type": "code",
   "execution_count": 110,
   "metadata": {},
   "outputs": [
    {
     "output_type": "execute_result",
     "data": {
      "text/plain": [
       "['/media/rafael/DadosCompartilhados/experimentos/experimentos_marcio/Temp/MacroF1_GP_GFHF.csv',\n",
       " '/media/rafael/DadosCompartilhados/experimentos/experimentos_marcio/Temp/MacroF1_ITML_GFHF.csv',\n",
       " '/media/rafael/DadosCompartilhados/experimentos/experimentos_marcio/Temp/MacroF1_LFDA_GFHF.csv',\n",
       " '/media/rafael/DadosCompartilhados/experimentos/experimentos_marcio/Temp/MacroF1_LMNN_GFHF.csv',\n",
       " '/media/rafael/DadosCompartilhados/experimentos/experimentos_marcio/Temp/MacroF1_LSMN_GFHF.csv',\n",
       " '/media/rafael/DadosCompartilhados/experimentos/experimentos_marcio/Temp/MacroF1_MD_GFHF.csv',\n",
       " '/media/rafael/DadosCompartilhados/experimentos/experimentos_marcio/Temp/MacroF1_NCA_GFHF.csv',\n",
       " '/media/rafael/DadosCompartilhados/experimentos/experimentos_marcio/Temp/MacroF1_RCA_GFHF.csv',\n",
       " '/media/rafael/DadosCompartilhados/experimentos/experimentos_marcio/Temp/MacroF1_CHD_GFHF.csv',\n",
       " '/media/rafael/DadosCompartilhados/experimentos/experimentos_marcio/Temp/MacroF1_Cov_GFHF.csv',\n",
       " '/media/rafael/DadosCompartilhados/experimentos/experimentos_marcio/Temp/MacroF1_ED_GFHF.csv',\n",
       " '/media/rafael/DadosCompartilhados/experimentos/experimentos_marcio/Temp/MacroF1_GE_GFHF.csv',\n",
       " '/media/rafael/DadosCompartilhados/experimentos/experimentos_marcio/Temp/MacroF1_SDML_GFHF.csv']"
      ]
     },
     "metadata": {},
     "execution_count": 110
    }
   ],
   "source": [
    "lista_arquivos"
   ]
  },
  {
   "source": [
    "## Abrindo cada arquivo e fazendo o join das tabelas"
   ],
   "cell_type": "markdown",
   "metadata": {}
  },
  {
   "cell_type": "code",
   "execution_count": 111,
   "metadata": {},
   "outputs": [],
   "source": [
    "df_geral = pd.DataFrame()\n",
    "for file in lista_arquivos: \n",
    "    #Abrindo o csv\n",
    "    nome_arquivo = os.path.basename(file)[:-4]\n",
    "    med, alg_metr, alg_prop = nome_arquivo.split('_')\n",
    "    df = pd.read_csv(file,index_col=0)\n",
    "    df = df[[coluna]]\n",
    "    df.columns = [alg_metr]\n",
    "    if(len(df_geral) == 0): \n",
    "        df_geral = df \n",
    "    else:\n",
    "        df_geral = df_geral.join(df)"
   ]
  },
  {
   "cell_type": "code",
   "execution_count": 112,
   "metadata": {},
   "outputs": [],
   "source": [
    "df_geral = df_geral.dropna()"
   ]
  },
  {
   "cell_type": "code",
   "execution_count": 113,
   "metadata": {},
   "outputs": [
    {
     "output_type": "execute_result",
     "data": {
      "text/plain": [
       "                       GP    ITML    LFDA    LMNN    LSMN        MD     NCA  \\\n",
       "1005_glass       0.687481  0.6621  0.5545  0.2618  0.6879  0.712794  0.5502   \n",
       "1011_ecoli       1.000000  0.7710  0.9619  0.2390  0.9547  0.962367  0.7745   \n",
       "1045_kc1-top5    0.555462  0.5553  0.3279  0.0565  0.0565  0.664932  0.1567   \n",
       "1059_ar1         0.504006  0.4109  0.3901  0.4787  0.4061  0.523570  0.5689   \n",
       "1061_ar4         0.537895  0.5001  0.5980  0.4487  0.3590  0.621531  0.5636   \n",
       "...                   ...     ...     ...     ...     ...       ...     ...   \n",
       "952_prnn_fglass  0.737619  0.4144  0.4593  0.0198  0.4087  0.565868  0.1923   \n",
       "969_iris         1.000000  1.0000  0.8000  0.2500  0.9996  1.000000  0.8000   \n",
       "973_wine         0.986879  0.9873  0.9956  0.2850  0.7561  0.982680  0.6000   \n",
       "974_hayes-roth   0.597198  0.6012  0.6417  0.2789  0.3355  0.575144  0.5233   \n",
       "996_prnn_fglass  0.978211  0.5550  0.6259  0.2618  0.7001  0.717346  0.5569   \n",
       "\n",
       "                    RCA       CHD     Cov        ED        GE    SDML  \n",
       "1005_glass       0.2618  0.531449  0.5367  0.686067  0.604628  0.6276  \n",
       "1011_ecoli       0.2987  0.778341  0.9566  0.962807  0.999615  0.7721  \n",
       "1045_kc1-top5    0.0565  0.705074  0.0565  0.628523  0.522863  0.3418  \n",
       "1059_ar1         0.4787  0.495539  0.4787  0.537908  0.524114  0.5164  \n",
       "1061_ar4         0.4487  0.483759  0.3590  0.594786  0.539467  0.6011  \n",
       "...                 ...       ...     ...       ...       ...     ...  \n",
       "952_prnn_fglass  0.0198  0.279903  0.4599  0.518129  0.732058  0.5092  \n",
       "969_iris         0.2500  1.000000  0.9985  1.000000  1.000000  0.9940  \n",
       "973_wine         0.2850  0.757768  0.9534  0.976808  0.986359  0.9586  \n",
       "974_hayes-roth   0.2789  0.580169  0.5454  0.552622  0.590443  0.6322  \n",
       "996_prnn_fglass  0.2618  0.564115  0.5928  0.682584  0.914124  0.6277  \n",
       "\n",
       "[119 rows x 13 columns]"
      ],
      "text/html": "<div>\n<style scoped>\n    .dataframe tbody tr th:only-of-type {\n        vertical-align: middle;\n    }\n\n    .dataframe tbody tr th {\n        vertical-align: top;\n    }\n\n    .dataframe thead th {\n        text-align: right;\n    }\n</style>\n<table border=\"1\" class=\"dataframe\">\n  <thead>\n    <tr style=\"text-align: right;\">\n      <th></th>\n      <th>GP</th>\n      <th>ITML</th>\n      <th>LFDA</th>\n      <th>LMNN</th>\n      <th>LSMN</th>\n      <th>MD</th>\n      <th>NCA</th>\n      <th>RCA</th>\n      <th>CHD</th>\n      <th>Cov</th>\n      <th>ED</th>\n      <th>GE</th>\n      <th>SDML</th>\n    </tr>\n  </thead>\n  <tbody>\n    <tr>\n      <th>1005_glass</th>\n      <td>0.687481</td>\n      <td>0.6621</td>\n      <td>0.5545</td>\n      <td>0.2618</td>\n      <td>0.6879</td>\n      <td>0.712794</td>\n      <td>0.5502</td>\n      <td>0.2618</td>\n      <td>0.531449</td>\n      <td>0.5367</td>\n      <td>0.686067</td>\n      <td>0.604628</td>\n      <td>0.6276</td>\n    </tr>\n    <tr>\n      <th>1011_ecoli</th>\n      <td>1.000000</td>\n      <td>0.7710</td>\n      <td>0.9619</td>\n      <td>0.2390</td>\n      <td>0.9547</td>\n      <td>0.962367</td>\n      <td>0.7745</td>\n      <td>0.2987</td>\n      <td>0.778341</td>\n      <td>0.9566</td>\n      <td>0.962807</td>\n      <td>0.999615</td>\n      <td>0.7721</td>\n    </tr>\n    <tr>\n      <th>1045_kc1-top5</th>\n      <td>0.555462</td>\n      <td>0.5553</td>\n      <td>0.3279</td>\n      <td>0.0565</td>\n      <td>0.0565</td>\n      <td>0.664932</td>\n      <td>0.1567</td>\n      <td>0.0565</td>\n      <td>0.705074</td>\n      <td>0.0565</td>\n      <td>0.628523</td>\n      <td>0.522863</td>\n      <td>0.3418</td>\n    </tr>\n    <tr>\n      <th>1059_ar1</th>\n      <td>0.504006</td>\n      <td>0.4109</td>\n      <td>0.3901</td>\n      <td>0.4787</td>\n      <td>0.4061</td>\n      <td>0.523570</td>\n      <td>0.5689</td>\n      <td>0.4787</td>\n      <td>0.495539</td>\n      <td>0.4787</td>\n      <td>0.537908</td>\n      <td>0.524114</td>\n      <td>0.5164</td>\n    </tr>\n    <tr>\n      <th>1061_ar4</th>\n      <td>0.537895</td>\n      <td>0.5001</td>\n      <td>0.5980</td>\n      <td>0.4487</td>\n      <td>0.3590</td>\n      <td>0.621531</td>\n      <td>0.5636</td>\n      <td>0.4487</td>\n      <td>0.483759</td>\n      <td>0.3590</td>\n      <td>0.594786</td>\n      <td>0.539467</td>\n      <td>0.6011</td>\n    </tr>\n    <tr>\n      <th>...</th>\n      <td>...</td>\n      <td>...</td>\n      <td>...</td>\n      <td>...</td>\n      <td>...</td>\n      <td>...</td>\n      <td>...</td>\n      <td>...</td>\n      <td>...</td>\n      <td>...</td>\n      <td>...</td>\n      <td>...</td>\n      <td>...</td>\n    </tr>\n    <tr>\n      <th>952_prnn_fglass</th>\n      <td>0.737619</td>\n      <td>0.4144</td>\n      <td>0.4593</td>\n      <td>0.0198</td>\n      <td>0.4087</td>\n      <td>0.565868</td>\n      <td>0.1923</td>\n      <td>0.0198</td>\n      <td>0.279903</td>\n      <td>0.4599</td>\n      <td>0.518129</td>\n      <td>0.732058</td>\n      <td>0.5092</td>\n    </tr>\n    <tr>\n      <th>969_iris</th>\n      <td>1.000000</td>\n      <td>1.0000</td>\n      <td>0.8000</td>\n      <td>0.2500</td>\n      <td>0.9996</td>\n      <td>1.000000</td>\n      <td>0.8000</td>\n      <td>0.2500</td>\n      <td>1.000000</td>\n      <td>0.9985</td>\n      <td>1.000000</td>\n      <td>1.000000</td>\n      <td>0.9940</td>\n    </tr>\n    <tr>\n      <th>973_wine</th>\n      <td>0.986879</td>\n      <td>0.9873</td>\n      <td>0.9956</td>\n      <td>0.2850</td>\n      <td>0.7561</td>\n      <td>0.982680</td>\n      <td>0.6000</td>\n      <td>0.2850</td>\n      <td>0.757768</td>\n      <td>0.9534</td>\n      <td>0.976808</td>\n      <td>0.986359</td>\n      <td>0.9586</td>\n    </tr>\n    <tr>\n      <th>974_hayes-roth</th>\n      <td>0.597198</td>\n      <td>0.6012</td>\n      <td>0.6417</td>\n      <td>0.2789</td>\n      <td>0.3355</td>\n      <td>0.575144</td>\n      <td>0.5233</td>\n      <td>0.2789</td>\n      <td>0.580169</td>\n      <td>0.5454</td>\n      <td>0.552622</td>\n      <td>0.590443</td>\n      <td>0.6322</td>\n    </tr>\n    <tr>\n      <th>996_prnn_fglass</th>\n      <td>0.978211</td>\n      <td>0.5550</td>\n      <td>0.6259</td>\n      <td>0.2618</td>\n      <td>0.7001</td>\n      <td>0.717346</td>\n      <td>0.5569</td>\n      <td>0.2618</td>\n      <td>0.564115</td>\n      <td>0.5928</td>\n      <td>0.682584</td>\n      <td>0.914124</td>\n      <td>0.6277</td>\n    </tr>\n  </tbody>\n</table>\n<p>119 rows × 13 columns</p>\n</div>"
     },
     "metadata": {},
     "execution_count": 113
    }
   ],
   "source": [
    "df_geral"
   ]
  },
  {
   "source": [
    "# Salvando os resultados"
   ],
   "cell_type": "markdown",
   "metadata": {}
  },
  {
   "cell_type": "code",
   "execution_count": 114,
   "metadata": {},
   "outputs": [],
   "source": [
    "df_geral.to_csv(os.path.join(dir_saida, f'{medida}_{algoritmo}_{coluna}.csv'))"
   ]
  },
  {
   "cell_type": "code",
   "execution_count": 115,
   "metadata": {},
   "outputs": [
    {
     "output_type": "execute_result",
     "data": {
      "text/plain": [
       "GP      0.657943\n",
       "ITML    0.625303\n",
       "LFDA    0.629339\n",
       "LMNN    0.285629\n",
       "LSMN    0.593555\n",
       "MD      0.683117\n",
       "NCA     0.567982\n",
       "RCA     0.283536\n",
       "CHD     0.554285\n",
       "Cov     0.596531\n",
       "ED      0.669901\n",
       "GE      0.664564\n",
       "SDML    0.564224\n",
       "Name: mean, dtype: float64"
      ]
     },
     "metadata": {},
     "execution_count": 115
    }
   ],
   "source": [
    "df_geral.describe().loc['mean']"
   ]
  },
  {
   "cell_type": "code",
   "execution_count": null,
   "metadata": {},
   "outputs": [],
   "source": []
  },
  {
   "cell_type": "code",
   "execution_count": 116,
   "metadata": {},
   "outputs": [],
   "source": [
    "final_index = final_index.intersection(set(df_geral.index))"
   ]
  },
  {
   "cell_type": "code",
   "execution_count": 117,
   "metadata": {},
   "outputs": [
    {
     "output_type": "execute_result",
     "data": {
      "text/plain": [
       "113"
      ]
     },
     "metadata": {},
     "execution_count": 117
    }
   ],
   "source": [
    "len(final_index)"
   ]
  },
  {
   "cell_type": "code",
   "execution_count": null,
   "metadata": {},
   "outputs": [],
   "source": []
  },
  {
   "cell_type": "code",
   "execution_count": 118,
   "metadata": {},
   "outputs": [
    {
     "output_type": "execute_result",
     "data": {
      "text/plain": [
       "{'1005_glass',\n",
       " '1011_ecoli',\n",
       " '1045_kc1-top5',\n",
       " '1059_ar1',\n",
       " '1061_ar4',\n",
       " '1064_ar6',\n",
       " '1066_kc1-binary',\n",
       " '1075_datatrieve',\n",
       " '1413_MyIris',\n",
       " '1441_KungChi3',\n",
       " '1442_MegaWatt1',\n",
       " '1448_KnuggetChase3',\n",
       " '1449_MeanWhile1',\n",
       " '1450_MindCave2',\n",
       " '1465_breast-tissue',\n",
       " '1473_fertility',\n",
       " '1484_lsvt',\n",
       " '1488_parkinsons',\n",
       " '1490_planning-relax',\n",
       " '1499_seeds',\n",
       " '1500_seismic-bumps',\n",
       " '1508_user-knowledge',\n",
       " '1512_heart-long-beach',\n",
       " '1513_heart-switzerland',\n",
       " '1519_robot-failures-lp4',\n",
       " '1520_robot-failures-lp5',\n",
       " '1523_vertebra-column',\n",
       " '1524_vertebra-column',\n",
       " '1559_breast-tissue',\n",
       " '1600_SPECTF',\n",
       " '329_hayes-roth',\n",
       " '39_ecoli',\n",
       " '40671_ecoli',\n",
       " '40682_thyroid-new',\n",
       " '40_sonar',\n",
       " '41_glass',\n",
       " '4340_Engine1',\n",
       " '53_heart-statlog',\n",
       " '59_ionosphere',\n",
       " '61_iris',\n",
       " '716_fri_c3_100_50',\n",
       " '721_pwLinear',\n",
       " '726_fri_c2_100_5',\n",
       " '730_fri_c1_250_5',\n",
       " '732_fri_c0_250_50',\n",
       " '733_machine_cpu',\n",
       " '736_visualizing_environmental',\n",
       " '744_fri_c3_250_5',\n",
       " '746_fri_c1_250_25',\n",
       " '749_fri_c3_500_5',\n",
       " '750_pm10',\n",
       " '753_wisconsin',\n",
       " '754_fri_c0_100_5',\n",
       " '756_autoPrice',\n",
       " '762_fri_c2_100_10',\n",
       " '763_fri_c0_250_10',\n",
       " '768_fri_c3_100_25',\n",
       " '769_fri_c1_250_50',\n",
       " '773_fri_c0_250_25',\n",
       " '775_fri_c2_100_25',\n",
       " '776_fri_c0_250_5',\n",
       " '778_bodyfat',\n",
       " '783_fri_c3_100_10',\n",
       " '788_triazines',\n",
       " '789_fri_c1_100_10',\n",
       " '792_fri_c2_500_5',\n",
       " '793_fri_c3_250_10',\n",
       " '794_fri_c2_250_25',\n",
       " '808_fri_c0_100_10',\n",
       " '812_fri_c1_100_25',\n",
       " '820_chatfield_4',\n",
       " '824_fri_c1_500_10',\n",
       " '828_fri_c4_100_100',\n",
       " '829_fri_c1_100_5',\n",
       " '830_fri_c2_250_10',\n",
       " '832_fri_c3_250_25',\n",
       " '850_fri_c0_100_50',\n",
       " '851_tecator',\n",
       " '855_fri_c4_500_10',\n",
       " '863_fri_c4_250_10',\n",
       " '868_fri_c4_100_25',\n",
       " '869_fri_c2_500_10',\n",
       " '870_fri_c1_500_5',\n",
       " '873_fri_c3_250_50',\n",
       " '876_fri_c1_100_50',\n",
       " '877_fri_c2_250_50',\n",
       " '878_fri_c4_100_10',\n",
       " '880_mu284',\n",
       " '884_fri_c0_500_5',\n",
       " '885_transplant',\n",
       " '886_no2',\n",
       " '889_fri_c0_100_25',\n",
       " '8_liver-disorders',\n",
       " '900_chscase_census6',\n",
       " '906_chscase_census5',\n",
       " '907_chscase_census4',\n",
       " '908_chscase_census3',\n",
       " '909_chscase_census2',\n",
       " '911_fri_c2_250_5',\n",
       " '916_fri_c3_100_5',\n",
       " '918_fri_c4_250_50',\n",
       " '922_fri_c2_100_50',\n",
       " '925_visualizing_galaxy',\n",
       " '932_fri_c4_100_50',\n",
       " '933_fri_c4_250_25',\n",
       " '935_fri_c1_250_10',\n",
       " '936_fri_c3_500_10',\n",
       " '943_fri_c0_500_10',\n",
       " '952_prnn_fglass',\n",
       " '969_iris',\n",
       " '973_wine',\n",
       " '974_hayes-roth',\n",
       " '996_prnn_fglass'}"
      ]
     },
     "metadata": {},
     "execution_count": 118
    }
   ],
   "source": [
    "final_index"
   ]
  },
  {
   "cell_type": "code",
   "execution_count": 135,
   "metadata": {},
   "outputs": [
    {
     "output_type": "error",
     "ename": "ValueError",
     "evalue": "dictionary update sequence element #0 has length 17; 2 is required",
     "traceback": [
      "\u001b[0;31m---------------------------------------------------------------------------\u001b[0m",
      "\u001b[0;31mValueError\u001b[0m                                Traceback (most recent call last)",
      "\u001b[0;32m<ipython-input-135-1cd9ba0050ae>\u001b[0m in \u001b[0;36m<module>\u001b[0;34m\u001b[0m\n\u001b[1;32m      1\u001b[0m \u001b[0;32mwith\u001b[0m \u001b[0mopen\u001b[0m\u001b[0;34m(\u001b[0m\u001b[0;34m'indexes.json'\u001b[0m\u001b[0;34m,\u001b[0m \u001b[0;34m'w'\u001b[0m\u001b[0;34m)\u001b[0m \u001b[0;32mas\u001b[0m \u001b[0mfile\u001b[0m\u001b[0;34m:\u001b[0m\u001b[0;34m\u001b[0m\u001b[0;34m\u001b[0m\u001b[0m\n\u001b[0;32m----> 2\u001b[0;31m     \u001b[0mjson\u001b[0m\u001b[0;34m.\u001b[0m\u001b[0mdump\u001b[0m\u001b[0;34m(\u001b[0m\u001b[0mdict\u001b[0m\u001b[0;34m(\u001b[0m\u001b[0mfinal_index\u001b[0m\u001b[0;34m)\u001b[0m\u001b[0;34m,\u001b[0m \u001b[0mfile\u001b[0m\u001b[0;34m)\u001b[0m\u001b[0;34m\u001b[0m\u001b[0;34m\u001b[0m\u001b[0m\n\u001b[0m",
      "\u001b[0;31mValueError\u001b[0m: dictionary update sequence element #0 has length 17; 2 is required"
     ]
    }
   ],
   "source": [
    "with open('indexes.json', 'w') as file: \n",
    "    json.dump(dict(final_index), file)"
   ]
  },
  {
   "cell_type": "code",
   "execution_count": 130,
   "metadata": {},
   "outputs": [],
   "source": [
    "with open('indexes.json', 'r') as file: \n",
    "    teste = json.load(file)"
   ]
  },
  {
   "cell_type": "code",
   "execution_count": 133,
   "metadata": {},
   "outputs": [
    {
     "output_type": "execute_result",
     "data": {
      "text/plain": [
       "\"{'889_fri_c0_100_25', '59_ionosphere', '936_fri_c3_500_10', '754_fri_c0_100_5', '1441_KungChi3', '4340_Engine1', '885_transplant', '1524_vertebra-column', '1499_seeds', '1559_breast-tissue', '884_fri_c0_500_5', '925_visualizing_galaxy', '918_fri_c4_250_50', '768_fri_c3_100_25', '855_fri_c4_500_10', '40682_thyroid-new', '877_fri_c2_250_50', '1519_robot-failures-lp4', '1059_ar1', '730_fri_c1_250_5', '40671_ecoli', '762_fri_c2_100_10', '775_fri_c2_100_25', '794_fri_c2_250_25', '726_fri_c2_100_5', '969_iris', '974_hayes-roth', '789_fri_c1_100_10', '732_fri_c0_250_50', '900_chscase_census6', '1465_breast-tissue', '932_fri_c4_100_50', '922_fri_c2_100_50', '763_fri_c0_250_10', '996_prnn_fglass', '828_fri_c4_100_100', '876_fri_c1_100_50', '1490_planning-relax', '952_prnn_fglass', '935_fri_c1_250_10', '820_chatfield_4', '40_sonar', '878_fri_c4_100_10', '53_heart-statlog', '329_hayes-roth', '829_fri_c1_100_5', '1064_ar6', '916_fri_c3_100_5', '824_fri_c1_500_10', '1011_ecoli', '1045_kc1-top5', '769_fri_c1_250_50', '1066_kc1-binary', '1442_MegaWatt1', '792_fri_c2_500_5', '1473_fertility', '907_chscase_census4', '869_fri_c2_500_10', '868_fri_c4_100_25', '863_fri_c4_250_10', '749_fri_c3_500_5', '906_chscase_census5', '973_wine', '812_fri_c1_100_25', '832_fri_c3_250_25', '1413_MyIris', '1500_seismic-bumps', '1484_lsvt', '1488_parkinsons', '1513_heart-switzerland', '778_bodyfat', '733_machine_cpu', '783_fri_c3_100_10', '911_fri_c2_250_5', '8_liver-disorders', '721_pwLinear', '1508_user-knowledge', '1512_heart-long-beach', '736_visualizing_environmental', '1523_vertebra-column', '850_fri_c0_100_50', '1005_glass', '750_pm10', '773_fri_c0_250_25', '1520_robot-failures-lp5', '744_fri_c3_250_5', '808_fri_c0_100_10', '753_wisconsin', '39_ecoli', '61_iris', '873_fri_c3_250_50', '943_fri_c0_500_10', '1061_ar4', '1449_MeanWhile1', '870_fri_c1_500_5', '1600_SPECTF', '909_chscase_census2', '788_triazines', '793_fri_c3_250_10', '746_fri_c1_250_25', '886_no2', '716_fri_c3_100_50', '756_autoPrice', '908_chscase_census3', '880_mu284', '776_fri_c0_250_5', '830_fri_c2_250_10', '1450_MindCave2', '41_glass', '933_fri_c4_250_25', '851_tecator', '1448_KnuggetChase3', '1075_datatrieve'}\""
      ]
     },
     "metadata": {},
     "execution_count": 133
    }
   ],
   "source": [
    "teste"
   ]
  },
  {
   "cell_type": "code",
   "execution_count": null,
   "metadata": {},
   "outputs": [],
   "source": []
  }
 ]
}