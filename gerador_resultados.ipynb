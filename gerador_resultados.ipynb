{
 "metadata": {
  "language_info": {
   "codemirror_mode": {
    "name": "ipython",
    "version": 3
   },
   "file_extension": ".py",
   "mimetype": "text/x-python",
   "name": "python",
   "nbconvert_exporter": "python",
   "pygments_lexer": "ipython3",
   "version": "3.7.3-final"
  },
  "orig_nbformat": 2,
  "kernelspec": {
   "name": "python3",
   "display_name": "Python 3",
   "language": "python"
  }
 },
 "nbformat": 4,
 "nbformat_minor": 2,
 "cells": [
  {
   "source": [
    "# Definições"
   ],
   "cell_type": "markdown",
   "metadata": {}
  },
  {
   "cell_type": "code",
   "execution_count": 1,
   "metadata": {},
   "outputs": [],
   "source": [
    "dir_results = '/media/rafael/DadosCompartilhados/experimentos/experimentos_marcio/Novos/LLGC'\n",
    "dir_output = '/media/rafael/DadosCompartilhados/experimentos/experimentos_marcio/Resultados'\n",
    "base_name = 'GP_LLGC'\n",
    "medidas = ['Accuracy', 'Macro_F1', 'Micro_F1'] "
   ]
  },
  {
   "source": [
    "# Importações de bibliotecas"
   ],
   "cell_type": "markdown",
   "metadata": {}
  },
  {
   "cell_type": "code",
   "execution_count": 2,
   "metadata": {},
   "outputs": [],
   "source": [
    "import pandas as pd \n",
    "import numpy as np \n",
    "import os\n",
    "from tqdm import tqdm"
   ]
  },
  {
   "source": [
    "# Funções"
   ],
   "cell_type": "markdown",
   "metadata": {}
  },
  {
   "cell_type": "code",
   "execution_count": 3,
   "metadata": {},
   "outputs": [],
   "source": [
    "def list_files_results(dir_results):\n",
    "    list_files = []\n",
    "    for root, dirs, files in os.walk(dir_results, topdown=True): \n",
    "        for file in files: \n",
    "            if file == 'resultadoFinal.csv': \n",
    "                list_files.append(os.path.join(root,file))\n",
    "    return list_files"
   ]
  },
  {
   "cell_type": "code",
   "execution_count": 4,
   "metadata": {},
   "outputs": [],
   "source": [
    "def create_dfs(medidas): \n",
    "    dfs = {}\n",
    "    for medida in medidas:\n",
    "        dfs[medida] = pd.DataFrame()\n",
    "    return dfs"
   ]
  },
  {
   "cell_type": "code",
   "execution_count": 5,
   "metadata": {},
   "outputs": [],
   "source": [
    "def create_metrics(df): \n",
    "    metrics = {}\n",
    "    metrics['Accuracy'] = df.iloc[0]['Accuracy']\n",
    "    metrics['Macro Precision'] = df.iloc[0]['Macro Precision']\n",
    "    metrics['Macro Recall'] = df.iloc[0]['Macro Recall']\n",
    "    metrics[' Micro Precision'] = df.iloc[0][' Micro Precision']\n",
    "    metrics[' Micro Recall'] = df.iloc[0][' Micro Recall']\n",
    "    metrics['Macro_F1'] = (2 * metrics['Macro Precision'] * metrics['Macro Recall']) / (metrics['Macro Precision'] + metrics['Macro Recall'])\n",
    "    metrics['Micro_F1'] = (2 * metrics[' Micro Precision'] * metrics[' Micro Recall']) / (metrics[' Micro Precision'] + metrics[' Micro Recall'])\n",
    "    return metrics"
   ]
  },
  {
   "cell_type": "code",
   "execution_count": 6,
   "metadata": {},
   "outputs": [],
   "source": [
    "def create_column(df): \n",
    "    column = [np.nan for i in range(len(df))]\n",
    "    return column "
   ]
  },
  {
   "cell_type": "code",
   "execution_count": 7,
   "metadata": {},
   "outputs": [],
   "source": [
    "def create_new_row_with_series(parametro, metricas, medida, dataset): \n",
    "    new_row = pd.Series({parametro: metricas[medida]}, name=dataset)\n",
    "    return new_row"
   ]
  },
  {
   "cell_type": "code",
   "execution_count": 8,
   "metadata": {},
   "outputs": [],
   "source": [
    "def create_new_row_with_loc(parametro, metricas, medida, series): \n",
    "    new_row = series\n",
    "    new_row[parametro] = metricas[medida]\n",
    "    return new_row"
   ]
  },
  {
   "cell_type": "code",
   "execution_count": 9,
   "metadata": {},
   "outputs": [],
   "source": [
    "def statistics(series): \n",
    "    series['Máximo'] = series.max()\n",
    "    series['Mínimo'] = series.min()\n",
    "    series['Média'] = series.mean()\n",
    "    series['Desvio Padrão'] = series.std()\n",
    "    return series    "
   ]
  },
  {
   "source": [
    "# Processamento"
   ],
   "cell_type": "markdown",
   "metadata": {}
  },
  {
   "cell_type": "code",
   "execution_count": 10,
   "metadata": {
    "tags": []
   },
   "outputs": [
    {
     "output_type": "stream",
     "name": "stderr",
     "text": [
      "100%|██████████| 2722/2722 [00:20<00:00, 133.33it/s]\n",
      "Done!\n",
      "\n"
     ]
    }
   ],
   "source": [
    "dfs = create_dfs(medidas)\n",
    "for file in tqdm(list_files_results(dir_results)): \n",
    "    df = pd.read_csv(file)\n",
    "    metrics = create_metrics(df)\n",
    "    partes = file.split('/')\n",
    "    dataset = partes[-2]\n",
    "    parametro = partes[-3]\n",
    "    for medida in medidas: \n",
    "        metricas = create_metrics(df)\n",
    "        if parametro not in dfs[medida]: \n",
    "            dfs[medida][parametro] = create_column(dfs[medida])\n",
    "        if dataset not in dfs[medida].index: \n",
    "            new_row = create_new_row_with_series(parametro, metricas, medida, dataset)\n",
    "            dfs[medida] = dfs[medida].append(new_row)\n",
    "        else: \n",
    "            new_row = create_new_row_with_loc(parametro, metricas, medida, dfs[medida].loc[dataset])\n",
    "            df.loc[dataset] = new_row\n",
    "print('\\nDone!')"
   ]
  },
  {
   "source": [
    "# Gerando Estatísticas"
   ],
   "cell_type": "markdown",
   "metadata": {}
  },
  {
   "cell_type": "code",
   "execution_count": 11,
   "metadata": {},
   "outputs": [
    {
     "output_type": "stream",
     "name": "stdout",
     "text": [
      "Done!\n"
     ]
    }
   ],
   "source": [
    "for medida in medidas: \n",
    "    dfs[medida] = dfs[medida].fillna(0) \n",
    "    #dfs[medida] = dfs[medida].dropna\n",
    "    dfs[medida] = dfs[medida].apply(statistics, axis=1)\n",
    "print('Done!')"
   ]
  },
  {
   "source": [
    "# Salvando os Resultados"
   ],
   "cell_type": "markdown",
   "metadata": {}
  },
  {
   "cell_type": "code",
   "execution_count": 12,
   "metadata": {},
   "outputs": [
    {
     "output_type": "stream",
     "name": "stdout",
     "text": [
      "Done!\n"
     ]
    }
   ],
   "source": [
    "for medida in medidas: \n",
    "\n",
    "    df = dfs[medida]\n",
    "    df[df.columns[1:]] = df[df.columns[1:]].replace(to_replace=0, value=np.nan)\n",
    "    df = df.dropna()\n",
    "    df.to_csv(os.path.join(dir_output, f'{medida}_{base_name}.csv'))\n",
    "print('Done!')"
   ]
  },
  {
   "source": [
    "# Área de testes"
   ],
   "cell_type": "markdown",
   "metadata": {}
  },
  {
   "cell_type": "code",
   "execution_count": null,
   "metadata": {},
   "outputs": [],
   "source": []
  },
  {
   "cell_type": "code",
   "execution_count": 13,
   "metadata": {},
   "outputs": [],
   "source": [
    "df_test = pd.read_csv('/media/rafael/DadosCompartilhados/experimentos/experimentos_marcio/Resultados/Accuracy_GP_LLGC.csv')"
   ]
  },
  {
   "cell_type": "code",
   "execution_count": 14,
   "metadata": {},
   "outputs": [
    {
     "output_type": "execute_result",
     "data": {
      "text/plain": [
       "               Unnamed: 0     param1    param10    param11    param12  \\\n",
       "0              1005_glass  65.883721  71.232558  65.395349  64.023256   \n",
       "1              1011_ecoli  99.837037  99.851852  99.925926  99.733333   \n",
       "2           1045_kc1-top5  94.153846  92.444444  92.102564  89.504274   \n",
       "3      1048_jEdit_4.2_4.3  65.824324  66.824324  66.824324  66.324324   \n",
       "4                1059_ar1  87.102041  90.938776  90.571429  91.061224   \n",
       "..                    ...        ...        ...        ...        ...   \n",
       "134  1524_vertebra-column  99.290323  99.129032  99.677419  99.677419   \n",
       "135    1559_breast-tissue  79.862069  89.609195  77.057471  77.011494   \n",
       "136          1565_heart-h  63.713080  63.713080  63.713080  63.713080   \n",
       "137           1600_SPECTF  78.485981  88.934579  92.411215  92.897196   \n",
       "138     937_fri_c3_500_50   0.000000  50.912718  51.401496  52.867830   \n",
       "\n",
       "       param13    param14    param15    param16    param17  ...      param4  \\\n",
       "0    70.953488  70.186047  70.953488  66.813953  64.720930  ...   68.325581   \n",
       "1    99.777778  99.600000  99.777778  99.733333  99.703704  ...  100.000000   \n",
       "2    93.333333  93.025641  90.358974  91.589744  92.923077  ...   94.017094   \n",
       "3    68.297297  66.878378  66.418919  65.864865  64.608108  ...   68.459459   \n",
       "4    88.530612  89.714286  90.775510  91.346939  90.000000  ...   81.673469   \n",
       "..         ...        ...        ...        ...        ...  ...         ...   \n",
       "134  99.677419  98.967742  99.677419  97.870968  99.177419  ...   99.290323   \n",
       "135  77.011494  77.011494  76.827586  60.827586  58.988506  ...   77.839080   \n",
       "136  63.713080  63.713080  63.713080  63.713080  63.713080  ...   63.713080   \n",
       "137  92.616822  90.635514  89.364486  79.495327  80.728972  ...   82.112150   \n",
       "138   0.000000  51.201995  51.890274  51.730673  51.261845  ...   52.778055   \n",
       "\n",
       "        param5     param6     param7     param8     param9      Máximo  \\\n",
       "0    67.069767  70.069767  71.604651  71.395349  69.906977   71.604651   \n",
       "1    99.851852  99.955556  99.614815  99.644444  99.718519  100.000000   \n",
       "2    94.017094  93.435897  92.581197  93.641026  90.495726   94.153846   \n",
       "3    64.783784  66.391892  68.756757  68.243243  68.243243   68.756757   \n",
       "4    80.653061  91.306122  89.918367  91.346939  91.387755   91.387755   \n",
       "..         ...        ...        ...        ...        ...         ...   \n",
       "134  98.935484  99.161290  99.435484  99.387097  99.290323   99.774194   \n",
       "135  81.149425  90.298851  89.379310  89.793103  89.241379   90.298851   \n",
       "136  63.713080  63.713080  63.713080  63.713080  63.713080   63.713080   \n",
       "137  79.046729  90.859813  91.551402  88.579439  91.663551   92.897196   \n",
       "138  51.591022  52.538653  51.541147  51.950125  52.698254   52.867830   \n",
       "\n",
       "        Mínimo      Média  Desvio Padrão  \n",
       "0    61.348837  67.502114   3.374809e+00  \n",
       "1    99.600000  99.789226   1.210942e-01  \n",
       "2    89.504274  92.335664   1.572130e+00  \n",
       "3    64.608108  66.649263   1.332164e+00  \n",
       "4    78.040816  88.248609   4.382940e+00  \n",
       "..         ...        ...            ...  \n",
       "134  97.548387  99.133431   6.434762e-01  \n",
       "135  58.988506  76.735632   1.117501e+01  \n",
       "136  63.713080  63.713080   1.429137e-14  \n",
       "137  77.850467  85.745964   5.725589e+00  \n",
       "138   0.000000  40.101564   2.175520e+01  \n",
       "\n",
       "[139 rows x 25 columns]"
      ],
      "text/html": "<div>\n<style scoped>\n    .dataframe tbody tr th:only-of-type {\n        vertical-align: middle;\n    }\n\n    .dataframe tbody tr th {\n        vertical-align: top;\n    }\n\n    .dataframe thead th {\n        text-align: right;\n    }\n</style>\n<table border=\"1\" class=\"dataframe\">\n  <thead>\n    <tr style=\"text-align: right;\">\n      <th></th>\n      <th>Unnamed: 0</th>\n      <th>param1</th>\n      <th>param10</th>\n      <th>param11</th>\n      <th>param12</th>\n      <th>param13</th>\n      <th>param14</th>\n      <th>param15</th>\n      <th>param16</th>\n      <th>param17</th>\n      <th>...</th>\n      <th>param4</th>\n      <th>param5</th>\n      <th>param6</th>\n      <th>param7</th>\n      <th>param8</th>\n      <th>param9</th>\n      <th>Máximo</th>\n      <th>Mínimo</th>\n      <th>Média</th>\n      <th>Desvio Padrão</th>\n    </tr>\n  </thead>\n  <tbody>\n    <tr>\n      <th>0</th>\n      <td>1005_glass</td>\n      <td>65.883721</td>\n      <td>71.232558</td>\n      <td>65.395349</td>\n      <td>64.023256</td>\n      <td>70.953488</td>\n      <td>70.186047</td>\n      <td>70.953488</td>\n      <td>66.813953</td>\n      <td>64.720930</td>\n      <td>...</td>\n      <td>68.325581</td>\n      <td>67.069767</td>\n      <td>70.069767</td>\n      <td>71.604651</td>\n      <td>71.395349</td>\n      <td>69.906977</td>\n      <td>71.604651</td>\n      <td>61.348837</td>\n      <td>67.502114</td>\n      <td>3.374809e+00</td>\n    </tr>\n    <tr>\n      <th>1</th>\n      <td>1011_ecoli</td>\n      <td>99.837037</td>\n      <td>99.851852</td>\n      <td>99.925926</td>\n      <td>99.733333</td>\n      <td>99.777778</td>\n      <td>99.600000</td>\n      <td>99.777778</td>\n      <td>99.733333</td>\n      <td>99.703704</td>\n      <td>...</td>\n      <td>100.000000</td>\n      <td>99.851852</td>\n      <td>99.955556</td>\n      <td>99.614815</td>\n      <td>99.644444</td>\n      <td>99.718519</td>\n      <td>100.000000</td>\n      <td>99.600000</td>\n      <td>99.789226</td>\n      <td>1.210942e-01</td>\n    </tr>\n    <tr>\n      <th>2</th>\n      <td>1045_kc1-top5</td>\n      <td>94.153846</td>\n      <td>92.444444</td>\n      <td>92.102564</td>\n      <td>89.504274</td>\n      <td>93.333333</td>\n      <td>93.025641</td>\n      <td>90.358974</td>\n      <td>91.589744</td>\n      <td>92.923077</td>\n      <td>...</td>\n      <td>94.017094</td>\n      <td>94.017094</td>\n      <td>93.435897</td>\n      <td>92.581197</td>\n      <td>93.641026</td>\n      <td>90.495726</td>\n      <td>94.153846</td>\n      <td>89.504274</td>\n      <td>92.335664</td>\n      <td>1.572130e+00</td>\n    </tr>\n    <tr>\n      <th>3</th>\n      <td>1048_jEdit_4.2_4.3</td>\n      <td>65.824324</td>\n      <td>66.824324</td>\n      <td>66.824324</td>\n      <td>66.324324</td>\n      <td>68.297297</td>\n      <td>66.878378</td>\n      <td>66.418919</td>\n      <td>65.864865</td>\n      <td>64.608108</td>\n      <td>...</td>\n      <td>68.459459</td>\n      <td>64.783784</td>\n      <td>66.391892</td>\n      <td>68.756757</td>\n      <td>68.243243</td>\n      <td>68.243243</td>\n      <td>68.756757</td>\n      <td>64.608108</td>\n      <td>66.649263</td>\n      <td>1.332164e+00</td>\n    </tr>\n    <tr>\n      <th>4</th>\n      <td>1059_ar1</td>\n      <td>87.102041</td>\n      <td>90.938776</td>\n      <td>90.571429</td>\n      <td>91.061224</td>\n      <td>88.530612</td>\n      <td>89.714286</td>\n      <td>90.775510</td>\n      <td>91.346939</td>\n      <td>90.000000</td>\n      <td>...</td>\n      <td>81.673469</td>\n      <td>80.653061</td>\n      <td>91.306122</td>\n      <td>89.918367</td>\n      <td>91.346939</td>\n      <td>91.387755</td>\n      <td>91.387755</td>\n      <td>78.040816</td>\n      <td>88.248609</td>\n      <td>4.382940e+00</td>\n    </tr>\n    <tr>\n      <th>...</th>\n      <td>...</td>\n      <td>...</td>\n      <td>...</td>\n      <td>...</td>\n      <td>...</td>\n      <td>...</td>\n      <td>...</td>\n      <td>...</td>\n      <td>...</td>\n      <td>...</td>\n      <td>...</td>\n      <td>...</td>\n      <td>...</td>\n      <td>...</td>\n      <td>...</td>\n      <td>...</td>\n      <td>...</td>\n      <td>...</td>\n      <td>...</td>\n      <td>...</td>\n      <td>...</td>\n    </tr>\n    <tr>\n      <th>134</th>\n      <td>1524_vertebra-column</td>\n      <td>99.290323</td>\n      <td>99.129032</td>\n      <td>99.677419</td>\n      <td>99.677419</td>\n      <td>99.677419</td>\n      <td>98.967742</td>\n      <td>99.677419</td>\n      <td>97.870968</td>\n      <td>99.177419</td>\n      <td>...</td>\n      <td>99.290323</td>\n      <td>98.935484</td>\n      <td>99.161290</td>\n      <td>99.435484</td>\n      <td>99.387097</td>\n      <td>99.290323</td>\n      <td>99.774194</td>\n      <td>97.548387</td>\n      <td>99.133431</td>\n      <td>6.434762e-01</td>\n    </tr>\n    <tr>\n      <th>135</th>\n      <td>1559_breast-tissue</td>\n      <td>79.862069</td>\n      <td>89.609195</td>\n      <td>77.057471</td>\n      <td>77.011494</td>\n      <td>77.011494</td>\n      <td>77.011494</td>\n      <td>76.827586</td>\n      <td>60.827586</td>\n      <td>58.988506</td>\n      <td>...</td>\n      <td>77.839080</td>\n      <td>81.149425</td>\n      <td>90.298851</td>\n      <td>89.379310</td>\n      <td>89.793103</td>\n      <td>89.241379</td>\n      <td>90.298851</td>\n      <td>58.988506</td>\n      <td>76.735632</td>\n      <td>1.117501e+01</td>\n    </tr>\n    <tr>\n      <th>136</th>\n      <td>1565_heart-h</td>\n      <td>63.713080</td>\n      <td>63.713080</td>\n      <td>63.713080</td>\n      <td>63.713080</td>\n      <td>63.713080</td>\n      <td>63.713080</td>\n      <td>63.713080</td>\n      <td>63.713080</td>\n      <td>63.713080</td>\n      <td>...</td>\n      <td>63.713080</td>\n      <td>63.713080</td>\n      <td>63.713080</td>\n      <td>63.713080</td>\n      <td>63.713080</td>\n      <td>63.713080</td>\n      <td>63.713080</td>\n      <td>63.713080</td>\n      <td>63.713080</td>\n      <td>1.429137e-14</td>\n    </tr>\n    <tr>\n      <th>137</th>\n      <td>1600_SPECTF</td>\n      <td>78.485981</td>\n      <td>88.934579</td>\n      <td>92.411215</td>\n      <td>92.897196</td>\n      <td>92.616822</td>\n      <td>90.635514</td>\n      <td>89.364486</td>\n      <td>79.495327</td>\n      <td>80.728972</td>\n      <td>...</td>\n      <td>82.112150</td>\n      <td>79.046729</td>\n      <td>90.859813</td>\n      <td>91.551402</td>\n      <td>88.579439</td>\n      <td>91.663551</td>\n      <td>92.897196</td>\n      <td>77.850467</td>\n      <td>85.745964</td>\n      <td>5.725589e+00</td>\n    </tr>\n    <tr>\n      <th>138</th>\n      <td>937_fri_c3_500_50</td>\n      <td>0.000000</td>\n      <td>50.912718</td>\n      <td>51.401496</td>\n      <td>52.867830</td>\n      <td>0.000000</td>\n      <td>51.201995</td>\n      <td>51.890274</td>\n      <td>51.730673</td>\n      <td>51.261845</td>\n      <td>...</td>\n      <td>52.778055</td>\n      <td>51.591022</td>\n      <td>52.538653</td>\n      <td>51.541147</td>\n      <td>51.950125</td>\n      <td>52.698254</td>\n      <td>52.867830</td>\n      <td>0.000000</td>\n      <td>40.101564</td>\n      <td>2.175520e+01</td>\n    </tr>\n  </tbody>\n</table>\n<p>139 rows × 25 columns</p>\n</div>"
     },
     "metadata": {},
     "execution_count": 14
    }
   ],
   "source": [
    "df_test"
   ]
  },
  {
   "cell_type": "code",
   "execution_count": 15,
   "metadata": {},
   "outputs": [
    {
     "output_type": "execute_result",
     "data": {
      "text/plain": [
       "        param1    param10    param11    param12    param13    param14  \\\n",
       "0    65.883721  71.232558  65.395349  64.023256  70.953488  70.186047   \n",
       "1    99.837037  99.851852  99.925926  99.733333  99.777778  99.600000   \n",
       "2    94.153846  92.444444  92.102564  89.504274  93.333333  93.025641   \n",
       "3    65.824324  66.824324  66.824324  66.324324  68.297297  66.878378   \n",
       "4    87.102041  90.938776  90.571429  91.061224  88.530612  89.714286   \n",
       "..         ...        ...        ...        ...        ...        ...   \n",
       "133  94.032258  91.903226  93.854839  94.500000  94.887097  93.935484   \n",
       "134  99.290323  99.129032  99.677419  99.677419  99.677419  98.967742   \n",
       "135  79.862069  89.609195  77.057471  77.011494  77.011494  77.011494   \n",
       "136  63.713080  63.713080  63.713080  63.713080  63.713080  63.713080   \n",
       "137  78.485981  88.934579  92.411215  92.897196  92.616822  90.635514   \n",
       "\n",
       "       param15    param16    param17    param18  ...      param4     param5  \\\n",
       "0    70.953488  66.813953  64.720930  62.790698  ...   68.325581  67.069767   \n",
       "1    99.777778  99.733333  99.703704  99.822222  ...  100.000000  99.851852   \n",
       "2    90.358974  91.589744  92.923077  92.615385  ...   94.017094  94.017094   \n",
       "3    66.418919  65.864865  64.608108  65.500000  ...   68.459459  64.783784   \n",
       "4    90.775510  91.346939  90.000000  91.183673  ...   81.673469  80.653061   \n",
       "..         ...        ...        ...        ...  ...         ...        ...   \n",
       "133  93.483871  92.435484  90.516129  92.145161  ...   93.032258  85.564516   \n",
       "134  99.677419  97.870968  99.177419  97.548387  ...   99.290323  98.935484   \n",
       "135  76.827586  60.827586  58.988506  61.057471  ...   77.839080  81.149425   \n",
       "136  63.713080  63.713080  63.713080  63.713080  ...   63.713080  63.713080   \n",
       "137  89.364486  79.495327  80.728972  85.084112  ...   82.112150  79.046729   \n",
       "\n",
       "        param6     param7     param8     param9      Máximo     Mínimo  \\\n",
       "0    70.069767  71.604651  71.395349  69.906977   71.604651  61.348837   \n",
       "1    99.955556  99.614815  99.644444  99.718519  100.000000  99.600000   \n",
       "2    93.435897  92.581197  93.641026  90.495726   94.153846  89.504274   \n",
       "3    66.391892  68.756757  68.243243  68.243243   68.756757  64.608108   \n",
       "4    91.306122  89.918367  91.346939  91.387755   91.387755  78.040816   \n",
       "..         ...        ...        ...        ...         ...        ...   \n",
       "133  93.548387  91.983871  95.919355  93.000000   95.919355  85.564516   \n",
       "134  99.161290  99.435484  99.387097  99.290323   99.774194  97.548387   \n",
       "135  90.298851  89.379310  89.793103  89.241379   90.298851  58.988506   \n",
       "136  63.713080  63.713080  63.713080  63.713080   63.713080  63.713080   \n",
       "137  90.859813  91.551402  88.579439  91.663551   92.897196  77.850467   \n",
       "\n",
       "         Média  Desvio Padrão  \n",
       "0    67.502114   3.374809e+00  \n",
       "1    99.789226   1.210942e-01  \n",
       "2    92.335664   1.572130e+00  \n",
       "3    66.649263   1.332164e+00  \n",
       "4    88.248609   4.382940e+00  \n",
       "..         ...            ...  \n",
       "133  92.515396   2.577470e+00  \n",
       "134  99.133431   6.434762e-01  \n",
       "135  76.735632   1.117501e+01  \n",
       "136  63.713080   1.429137e-14  \n",
       "137  85.745964   5.725589e+00  \n",
       "\n",
       "[118 rows x 24 columns]"
      ],
      "text/html": "<div>\n<style scoped>\n    .dataframe tbody tr th:only-of-type {\n        vertical-align: middle;\n    }\n\n    .dataframe tbody tr th {\n        vertical-align: top;\n    }\n\n    .dataframe thead th {\n        text-align: right;\n    }\n</style>\n<table border=\"1\" class=\"dataframe\">\n  <thead>\n    <tr style=\"text-align: right;\">\n      <th></th>\n      <th>param1</th>\n      <th>param10</th>\n      <th>param11</th>\n      <th>param12</th>\n      <th>param13</th>\n      <th>param14</th>\n      <th>param15</th>\n      <th>param16</th>\n      <th>param17</th>\n      <th>param18</th>\n      <th>...</th>\n      <th>param4</th>\n      <th>param5</th>\n      <th>param6</th>\n      <th>param7</th>\n      <th>param8</th>\n      <th>param9</th>\n      <th>Máximo</th>\n      <th>Mínimo</th>\n      <th>Média</th>\n      <th>Desvio Padrão</th>\n    </tr>\n  </thead>\n  <tbody>\n    <tr>\n      <th>0</th>\n      <td>65.883721</td>\n      <td>71.232558</td>\n      <td>65.395349</td>\n      <td>64.023256</td>\n      <td>70.953488</td>\n      <td>70.186047</td>\n      <td>70.953488</td>\n      <td>66.813953</td>\n      <td>64.720930</td>\n      <td>62.790698</td>\n      <td>...</td>\n      <td>68.325581</td>\n      <td>67.069767</td>\n      <td>70.069767</td>\n      <td>71.604651</td>\n      <td>71.395349</td>\n      <td>69.906977</td>\n      <td>71.604651</td>\n      <td>61.348837</td>\n      <td>67.502114</td>\n      <td>3.374809e+00</td>\n    </tr>\n    <tr>\n      <th>1</th>\n      <td>99.837037</td>\n      <td>99.851852</td>\n      <td>99.925926</td>\n      <td>99.733333</td>\n      <td>99.777778</td>\n      <td>99.600000</td>\n      <td>99.777778</td>\n      <td>99.733333</td>\n      <td>99.703704</td>\n      <td>99.822222</td>\n      <td>...</td>\n      <td>100.000000</td>\n      <td>99.851852</td>\n      <td>99.955556</td>\n      <td>99.614815</td>\n      <td>99.644444</td>\n      <td>99.718519</td>\n      <td>100.000000</td>\n      <td>99.600000</td>\n      <td>99.789226</td>\n      <td>1.210942e-01</td>\n    </tr>\n    <tr>\n      <th>2</th>\n      <td>94.153846</td>\n      <td>92.444444</td>\n      <td>92.102564</td>\n      <td>89.504274</td>\n      <td>93.333333</td>\n      <td>93.025641</td>\n      <td>90.358974</td>\n      <td>91.589744</td>\n      <td>92.923077</td>\n      <td>92.615385</td>\n      <td>...</td>\n      <td>94.017094</td>\n      <td>94.017094</td>\n      <td>93.435897</td>\n      <td>92.581197</td>\n      <td>93.641026</td>\n      <td>90.495726</td>\n      <td>94.153846</td>\n      <td>89.504274</td>\n      <td>92.335664</td>\n      <td>1.572130e+00</td>\n    </tr>\n    <tr>\n      <th>3</th>\n      <td>65.824324</td>\n      <td>66.824324</td>\n      <td>66.824324</td>\n      <td>66.324324</td>\n      <td>68.297297</td>\n      <td>66.878378</td>\n      <td>66.418919</td>\n      <td>65.864865</td>\n      <td>64.608108</td>\n      <td>65.500000</td>\n      <td>...</td>\n      <td>68.459459</td>\n      <td>64.783784</td>\n      <td>66.391892</td>\n      <td>68.756757</td>\n      <td>68.243243</td>\n      <td>68.243243</td>\n      <td>68.756757</td>\n      <td>64.608108</td>\n      <td>66.649263</td>\n      <td>1.332164e+00</td>\n    </tr>\n    <tr>\n      <th>4</th>\n      <td>87.102041</td>\n      <td>90.938776</td>\n      <td>90.571429</td>\n      <td>91.061224</td>\n      <td>88.530612</td>\n      <td>89.714286</td>\n      <td>90.775510</td>\n      <td>91.346939</td>\n      <td>90.000000</td>\n      <td>91.183673</td>\n      <td>...</td>\n      <td>81.673469</td>\n      <td>80.653061</td>\n      <td>91.306122</td>\n      <td>89.918367</td>\n      <td>91.346939</td>\n      <td>91.387755</td>\n      <td>91.387755</td>\n      <td>78.040816</td>\n      <td>88.248609</td>\n      <td>4.382940e+00</td>\n    </tr>\n    <tr>\n      <th>...</th>\n      <td>...</td>\n      <td>...</td>\n      <td>...</td>\n      <td>...</td>\n      <td>...</td>\n      <td>...</td>\n      <td>...</td>\n      <td>...</td>\n      <td>...</td>\n      <td>...</td>\n      <td>...</td>\n      <td>...</td>\n      <td>...</td>\n      <td>...</td>\n      <td>...</td>\n      <td>...</td>\n      <td>...</td>\n      <td>...</td>\n      <td>...</td>\n      <td>...</td>\n      <td>...</td>\n    </tr>\n    <tr>\n      <th>133</th>\n      <td>94.032258</td>\n      <td>91.903226</td>\n      <td>93.854839</td>\n      <td>94.500000</td>\n      <td>94.887097</td>\n      <td>93.935484</td>\n      <td>93.483871</td>\n      <td>92.435484</td>\n      <td>90.516129</td>\n      <td>92.145161</td>\n      <td>...</td>\n      <td>93.032258</td>\n      <td>85.564516</td>\n      <td>93.548387</td>\n      <td>91.983871</td>\n      <td>95.919355</td>\n      <td>93.000000</td>\n      <td>95.919355</td>\n      <td>85.564516</td>\n      <td>92.515396</td>\n      <td>2.577470e+00</td>\n    </tr>\n    <tr>\n      <th>134</th>\n      <td>99.290323</td>\n      <td>99.129032</td>\n      <td>99.677419</td>\n      <td>99.677419</td>\n      <td>99.677419</td>\n      <td>98.967742</td>\n      <td>99.677419</td>\n      <td>97.870968</td>\n      <td>99.177419</td>\n      <td>97.548387</td>\n      <td>...</td>\n      <td>99.290323</td>\n      <td>98.935484</td>\n      <td>99.161290</td>\n      <td>99.435484</td>\n      <td>99.387097</td>\n      <td>99.290323</td>\n      <td>99.774194</td>\n      <td>97.548387</td>\n      <td>99.133431</td>\n      <td>6.434762e-01</td>\n    </tr>\n    <tr>\n      <th>135</th>\n      <td>79.862069</td>\n      <td>89.609195</td>\n      <td>77.057471</td>\n      <td>77.011494</td>\n      <td>77.011494</td>\n      <td>77.011494</td>\n      <td>76.827586</td>\n      <td>60.827586</td>\n      <td>58.988506</td>\n      <td>61.057471</td>\n      <td>...</td>\n      <td>77.839080</td>\n      <td>81.149425</td>\n      <td>90.298851</td>\n      <td>89.379310</td>\n      <td>89.793103</td>\n      <td>89.241379</td>\n      <td>90.298851</td>\n      <td>58.988506</td>\n      <td>76.735632</td>\n      <td>1.117501e+01</td>\n    </tr>\n    <tr>\n      <th>136</th>\n      <td>63.713080</td>\n      <td>63.713080</td>\n      <td>63.713080</td>\n      <td>63.713080</td>\n      <td>63.713080</td>\n      <td>63.713080</td>\n      <td>63.713080</td>\n      <td>63.713080</td>\n      <td>63.713080</td>\n      <td>63.713080</td>\n      <td>...</td>\n      <td>63.713080</td>\n      <td>63.713080</td>\n      <td>63.713080</td>\n      <td>63.713080</td>\n      <td>63.713080</td>\n      <td>63.713080</td>\n      <td>63.713080</td>\n      <td>63.713080</td>\n      <td>63.713080</td>\n      <td>1.429137e-14</td>\n    </tr>\n    <tr>\n      <th>137</th>\n      <td>78.485981</td>\n      <td>88.934579</td>\n      <td>92.411215</td>\n      <td>92.897196</td>\n      <td>92.616822</td>\n      <td>90.635514</td>\n      <td>89.364486</td>\n      <td>79.495327</td>\n      <td>80.728972</td>\n      <td>85.084112</td>\n      <td>...</td>\n      <td>82.112150</td>\n      <td>79.046729</td>\n      <td>90.859813</td>\n      <td>91.551402</td>\n      <td>88.579439</td>\n      <td>91.663551</td>\n      <td>92.897196</td>\n      <td>77.850467</td>\n      <td>85.745964</td>\n      <td>5.725589e+00</td>\n    </tr>\n  </tbody>\n</table>\n<p>118 rows × 24 columns</p>\n</div>"
     },
     "metadata": {},
     "execution_count": 15
    }
   ],
   "source": [
    "df_test[df_test.columns[1:]].replace(to_replace=0, value=np.nan).dropna()"
   ]
  },
  {
   "cell_type": "code",
   "execution_count": 21,
   "metadata": {},
   "outputs": [],
   "source": [
    "df_test[df_test.columns[1:]] = df_test[df_test.columns[1:]].replace(to_replace=0, value=np.nan)\n",
    "df_test = df_test.dropna()"
   ]
  },
  {
   "cell_type": "code",
   "execution_count": 22,
   "metadata": {},
   "outputs": [
    {
     "output_type": "execute_result",
     "data": {
      "text/plain": [
       "               Unnamed: 0     param1    param10    param11    param12  \\\n",
       "0              1005_glass  65.883721  71.232558  65.395349  64.023256   \n",
       "1              1011_ecoli  99.837037  99.851852  99.925926  99.733333   \n",
       "2           1045_kc1-top5  94.153846  92.444444  92.102564  89.504274   \n",
       "3      1048_jEdit_4.2_4.3  65.824324  66.824324  66.824324  66.324324   \n",
       "4                1059_ar1  87.102041  90.938776  90.571429  91.061224   \n",
       "..                    ...        ...        ...        ...        ...   \n",
       "133  1523_vertebra-column  94.032258  91.903226  93.854839  94.500000   \n",
       "134  1524_vertebra-column  99.290323  99.129032  99.677419  99.677419   \n",
       "135    1559_breast-tissue  79.862069  89.609195  77.057471  77.011494   \n",
       "136          1565_heart-h  63.713080  63.713080  63.713080  63.713080   \n",
       "137           1600_SPECTF  78.485981  88.934579  92.411215  92.897196   \n",
       "\n",
       "       param13    param14    param15    param16    param17  ...      param4  \\\n",
       "0    70.953488  70.186047  70.953488  66.813953  64.720930  ...   68.325581   \n",
       "1    99.777778  99.600000  99.777778  99.733333  99.703704  ...  100.000000   \n",
       "2    93.333333  93.025641  90.358974  91.589744  92.923077  ...   94.017094   \n",
       "3    68.297297  66.878378  66.418919  65.864865  64.608108  ...   68.459459   \n",
       "4    88.530612  89.714286  90.775510  91.346939  90.000000  ...   81.673469   \n",
       "..         ...        ...        ...        ...        ...  ...         ...   \n",
       "133  94.887097  93.935484  93.483871  92.435484  90.516129  ...   93.032258   \n",
       "134  99.677419  98.967742  99.677419  97.870968  99.177419  ...   99.290323   \n",
       "135  77.011494  77.011494  76.827586  60.827586  58.988506  ...   77.839080   \n",
       "136  63.713080  63.713080  63.713080  63.713080  63.713080  ...   63.713080   \n",
       "137  92.616822  90.635514  89.364486  79.495327  80.728972  ...   82.112150   \n",
       "\n",
       "        param5     param6     param7     param8     param9      Máximo  \\\n",
       "0    67.069767  70.069767  71.604651  71.395349  69.906977   71.604651   \n",
       "1    99.851852  99.955556  99.614815  99.644444  99.718519  100.000000   \n",
       "2    94.017094  93.435897  92.581197  93.641026  90.495726   94.153846   \n",
       "3    64.783784  66.391892  68.756757  68.243243  68.243243   68.756757   \n",
       "4    80.653061  91.306122  89.918367  91.346939  91.387755   91.387755   \n",
       "..         ...        ...        ...        ...        ...         ...   \n",
       "133  85.564516  93.548387  91.983871  95.919355  93.000000   95.919355   \n",
       "134  98.935484  99.161290  99.435484  99.387097  99.290323   99.774194   \n",
       "135  81.149425  90.298851  89.379310  89.793103  89.241379   90.298851   \n",
       "136  63.713080  63.713080  63.713080  63.713080  63.713080   63.713080   \n",
       "137  79.046729  90.859813  91.551402  88.579439  91.663551   92.897196   \n",
       "\n",
       "        Mínimo      Média  Desvio Padrão  \n",
       "0    61.348837  67.502114   3.374809e+00  \n",
       "1    99.600000  99.789226   1.210942e-01  \n",
       "2    89.504274  92.335664   1.572130e+00  \n",
       "3    64.608108  66.649263   1.332164e+00  \n",
       "4    78.040816  88.248609   4.382940e+00  \n",
       "..         ...        ...            ...  \n",
       "133  85.564516  92.515396   2.577470e+00  \n",
       "134  97.548387  99.133431   6.434762e-01  \n",
       "135  58.988506  76.735632   1.117501e+01  \n",
       "136  63.713080  63.713080   1.429137e-14  \n",
       "137  77.850467  85.745964   5.725589e+00  \n",
       "\n",
       "[118 rows x 25 columns]"
      ],
      "text/html": "<div>\n<style scoped>\n    .dataframe tbody tr th:only-of-type {\n        vertical-align: middle;\n    }\n\n    .dataframe tbody tr th {\n        vertical-align: top;\n    }\n\n    .dataframe thead th {\n        text-align: right;\n    }\n</style>\n<table border=\"1\" class=\"dataframe\">\n  <thead>\n    <tr style=\"text-align: right;\">\n      <th></th>\n      <th>Unnamed: 0</th>\n      <th>param1</th>\n      <th>param10</th>\n      <th>param11</th>\n      <th>param12</th>\n      <th>param13</th>\n      <th>param14</th>\n      <th>param15</th>\n      <th>param16</th>\n      <th>param17</th>\n      <th>...</th>\n      <th>param4</th>\n      <th>param5</th>\n      <th>param6</th>\n      <th>param7</th>\n      <th>param8</th>\n      <th>param9</th>\n      <th>Máximo</th>\n      <th>Mínimo</th>\n      <th>Média</th>\n      <th>Desvio Padrão</th>\n    </tr>\n  </thead>\n  <tbody>\n    <tr>\n      <th>0</th>\n      <td>1005_glass</td>\n      <td>65.883721</td>\n      <td>71.232558</td>\n      <td>65.395349</td>\n      <td>64.023256</td>\n      <td>70.953488</td>\n      <td>70.186047</td>\n      <td>70.953488</td>\n      <td>66.813953</td>\n      <td>64.720930</td>\n      <td>...</td>\n      <td>68.325581</td>\n      <td>67.069767</td>\n      <td>70.069767</td>\n      <td>71.604651</td>\n      <td>71.395349</td>\n      <td>69.906977</td>\n      <td>71.604651</td>\n      <td>61.348837</td>\n      <td>67.502114</td>\n      <td>3.374809e+00</td>\n    </tr>\n    <tr>\n      <th>1</th>\n      <td>1011_ecoli</td>\n      <td>99.837037</td>\n      <td>99.851852</td>\n      <td>99.925926</td>\n      <td>99.733333</td>\n      <td>99.777778</td>\n      <td>99.600000</td>\n      <td>99.777778</td>\n      <td>99.733333</td>\n      <td>99.703704</td>\n      <td>...</td>\n      <td>100.000000</td>\n      <td>99.851852</td>\n      <td>99.955556</td>\n      <td>99.614815</td>\n      <td>99.644444</td>\n      <td>99.718519</td>\n      <td>100.000000</td>\n      <td>99.600000</td>\n      <td>99.789226</td>\n      <td>1.210942e-01</td>\n    </tr>\n    <tr>\n      <th>2</th>\n      <td>1045_kc1-top5</td>\n      <td>94.153846</td>\n      <td>92.444444</td>\n      <td>92.102564</td>\n      <td>89.504274</td>\n      <td>93.333333</td>\n      <td>93.025641</td>\n      <td>90.358974</td>\n      <td>91.589744</td>\n      <td>92.923077</td>\n      <td>...</td>\n      <td>94.017094</td>\n      <td>94.017094</td>\n      <td>93.435897</td>\n      <td>92.581197</td>\n      <td>93.641026</td>\n      <td>90.495726</td>\n      <td>94.153846</td>\n      <td>89.504274</td>\n      <td>92.335664</td>\n      <td>1.572130e+00</td>\n    </tr>\n    <tr>\n      <th>3</th>\n      <td>1048_jEdit_4.2_4.3</td>\n      <td>65.824324</td>\n      <td>66.824324</td>\n      <td>66.824324</td>\n      <td>66.324324</td>\n      <td>68.297297</td>\n      <td>66.878378</td>\n      <td>66.418919</td>\n      <td>65.864865</td>\n      <td>64.608108</td>\n      <td>...</td>\n      <td>68.459459</td>\n      <td>64.783784</td>\n      <td>66.391892</td>\n      <td>68.756757</td>\n      <td>68.243243</td>\n      <td>68.243243</td>\n      <td>68.756757</td>\n      <td>64.608108</td>\n      <td>66.649263</td>\n      <td>1.332164e+00</td>\n    </tr>\n    <tr>\n      <th>4</th>\n      <td>1059_ar1</td>\n      <td>87.102041</td>\n      <td>90.938776</td>\n      <td>90.571429</td>\n      <td>91.061224</td>\n      <td>88.530612</td>\n      <td>89.714286</td>\n      <td>90.775510</td>\n      <td>91.346939</td>\n      <td>90.000000</td>\n      <td>...</td>\n      <td>81.673469</td>\n      <td>80.653061</td>\n      <td>91.306122</td>\n      <td>89.918367</td>\n      <td>91.346939</td>\n      <td>91.387755</td>\n      <td>91.387755</td>\n      <td>78.040816</td>\n      <td>88.248609</td>\n      <td>4.382940e+00</td>\n    </tr>\n    <tr>\n      <th>...</th>\n      <td>...</td>\n      <td>...</td>\n      <td>...</td>\n      <td>...</td>\n      <td>...</td>\n      <td>...</td>\n      <td>...</td>\n      <td>...</td>\n      <td>...</td>\n      <td>...</td>\n      <td>...</td>\n      <td>...</td>\n      <td>...</td>\n      <td>...</td>\n      <td>...</td>\n      <td>...</td>\n      <td>...</td>\n      <td>...</td>\n      <td>...</td>\n      <td>...</td>\n      <td>...</td>\n    </tr>\n    <tr>\n      <th>133</th>\n      <td>1523_vertebra-column</td>\n      <td>94.032258</td>\n      <td>91.903226</td>\n      <td>93.854839</td>\n      <td>94.500000</td>\n      <td>94.887097</td>\n      <td>93.935484</td>\n      <td>93.483871</td>\n      <td>92.435484</td>\n      <td>90.516129</td>\n      <td>...</td>\n      <td>93.032258</td>\n      <td>85.564516</td>\n      <td>93.548387</td>\n      <td>91.983871</td>\n      <td>95.919355</td>\n      <td>93.000000</td>\n      <td>95.919355</td>\n      <td>85.564516</td>\n      <td>92.515396</td>\n      <td>2.577470e+00</td>\n    </tr>\n    <tr>\n      <th>134</th>\n      <td>1524_vertebra-column</td>\n      <td>99.290323</td>\n      <td>99.129032</td>\n      <td>99.677419</td>\n      <td>99.677419</td>\n      <td>99.677419</td>\n      <td>98.967742</td>\n      <td>99.677419</td>\n      <td>97.870968</td>\n      <td>99.177419</td>\n      <td>...</td>\n      <td>99.290323</td>\n      <td>98.935484</td>\n      <td>99.161290</td>\n      <td>99.435484</td>\n      <td>99.387097</td>\n      <td>99.290323</td>\n      <td>99.774194</td>\n      <td>97.548387</td>\n      <td>99.133431</td>\n      <td>6.434762e-01</td>\n    </tr>\n    <tr>\n      <th>135</th>\n      <td>1559_breast-tissue</td>\n      <td>79.862069</td>\n      <td>89.609195</td>\n      <td>77.057471</td>\n      <td>77.011494</td>\n      <td>77.011494</td>\n      <td>77.011494</td>\n      <td>76.827586</td>\n      <td>60.827586</td>\n      <td>58.988506</td>\n      <td>...</td>\n      <td>77.839080</td>\n      <td>81.149425</td>\n      <td>90.298851</td>\n      <td>89.379310</td>\n      <td>89.793103</td>\n      <td>89.241379</td>\n      <td>90.298851</td>\n      <td>58.988506</td>\n      <td>76.735632</td>\n      <td>1.117501e+01</td>\n    </tr>\n    <tr>\n      <th>136</th>\n      <td>1565_heart-h</td>\n      <td>63.713080</td>\n      <td>63.713080</td>\n      <td>63.713080</td>\n      <td>63.713080</td>\n      <td>63.713080</td>\n      <td>63.713080</td>\n      <td>63.713080</td>\n      <td>63.713080</td>\n      <td>63.713080</td>\n      <td>...</td>\n      <td>63.713080</td>\n      <td>63.713080</td>\n      <td>63.713080</td>\n      <td>63.713080</td>\n      <td>63.713080</td>\n      <td>63.713080</td>\n      <td>63.713080</td>\n      <td>63.713080</td>\n      <td>63.713080</td>\n      <td>1.429137e-14</td>\n    </tr>\n    <tr>\n      <th>137</th>\n      <td>1600_SPECTF</td>\n      <td>78.485981</td>\n      <td>88.934579</td>\n      <td>92.411215</td>\n      <td>92.897196</td>\n      <td>92.616822</td>\n      <td>90.635514</td>\n      <td>89.364486</td>\n      <td>79.495327</td>\n      <td>80.728972</td>\n      <td>...</td>\n      <td>82.112150</td>\n      <td>79.046729</td>\n      <td>90.859813</td>\n      <td>91.551402</td>\n      <td>88.579439</td>\n      <td>91.663551</td>\n      <td>92.897196</td>\n      <td>77.850467</td>\n      <td>85.745964</td>\n      <td>5.725589e+00</td>\n    </tr>\n  </tbody>\n</table>\n<p>118 rows × 25 columns</p>\n</div>"
     },
     "metadata": {},
     "execution_count": 22
    }
   ],
   "source": [
    "df_test"
   ]
  },
  {
   "cell_type": "code",
   "execution_count": null,
   "metadata": {},
   "outputs": [],
   "source": []
  }
 ]
}