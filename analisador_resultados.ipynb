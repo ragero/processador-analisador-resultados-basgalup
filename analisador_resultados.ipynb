{
 "metadata": {
  "language_info": {
   "codemirror_mode": {
    "name": "ipython",
    "version": 3
   },
   "file_extension": ".py",
   "mimetype": "text/x-python",
   "name": "python",
   "nbconvert_exporter": "python",
   "pygments_lexer": "ipython3",
   "version": "3.7.3-final"
  },
  "orig_nbformat": 2,
  "kernelspec": {
   "name": "python3",
   "display_name": "Python 3",
   "language": "python"
  }
 },
 "nbformat": 4,
 "nbformat_minor": 2,
 "cells": [
  {
   "source": [
    "# Definições"
   ],
   "cell_type": "markdown",
   "metadata": {}
  },
  {
   "cell_type": "code",
   "execution_count": 30,
   "metadata": {},
   "outputs": [],
   "source": [
    "df_final = pd.DataFrame()"
   ]
  },
  {
   "cell_type": "code",
   "execution_count": 59,
   "metadata": {},
   "outputs": [],
   "source": [
    "path_resultado = '/media/rafael/DadosCompartilhados/experimentos/experimentos_marcio/ResultadosProcessados/MicroF1_LLGC_Máximo.csv'"
   ]
  },
  {
   "source": [
    "# Importações"
   ],
   "cell_type": "markdown",
   "metadata": {}
  },
  {
   "cell_type": "code",
   "execution_count": 60,
   "metadata": {},
   "outputs": [],
   "source": [
    "import pandas as pd"
   ]
  },
  {
   "source": [
    "# Análises"
   ],
   "cell_type": "markdown",
   "metadata": {}
  },
  {
   "cell_type": "code",
   "execution_count": 61,
   "metadata": {},
   "outputs": [],
   "source": [
    "df = pd.read_csv(path_resultado, index_col=0)"
   ]
  },
  {
   "cell_type": "code",
   "execution_count": 62,
   "metadata": {},
   "outputs": [
    {
     "output_type": "execute_result",
     "data": {
      "text/plain": [
       "                      CHD       Cov        ED      GE        GP      ITML  \\\n",
       "Base                                                                        \n",
       "1005_glass       0.633721  0.720465  0.739535  0.6851  0.716047  0.683488   \n",
       "1011_ecoli       0.743704  0.956741  0.963704  1.0000  1.000000  0.966519   \n",
       "1045_kc1-top5    0.941880  0.059829  0.947009  0.9426  0.941538  0.940171   \n",
       "1059_ar1         0.918367  0.918367  0.914286  0.9184  0.913878  0.909796   \n",
       "1061_ar4         0.802326  0.813953  0.841860  0.8181  0.804186  0.845581   \n",
       "...                   ...       ...       ...     ...       ...       ...   \n",
       "952_prnn_fglass  0.479310  0.588966  0.625287  0.8432  0.876782  0.587356   \n",
       "969_iris         1.000000  0.998667  1.000000  1.0000  1.000000  1.000000   \n",
       "973_wine         0.772028  0.921678  0.965035  0.9849  0.987413  0.987692   \n",
       "974_hayes-roth   0.615094  0.609434  0.620755  0.6577  0.631321  0.658491   \n",
       "996_prnn_fglass  0.637209  0.711395  0.734884  0.9702  0.985116  0.676977   \n",
       "\n",
       "                     LFDA      LMNN      LSMN        MD       NCA       RCA  \\\n",
       "Base                                                                          \n",
       "1005_glass       0.567674  0.354651  0.729535  0.761628  0.639070  0.352651   \n",
       "1011_ecoli       0.854370  0.425926  0.954370  0.968148  0.772741  0.423926   \n",
       "1045_kc1-top5    0.758632  0.059829  0.059829  0.941880  0.763077  0.057829   \n",
       "1059_ar1         0.918367  0.918367  0.917959  0.912245  0.734694  0.916367   \n",
       "1061_ar4         0.814419  0.813953  0.813953  0.844186  0.701395  0.811953   \n",
       "...                   ...       ...       ...       ...       ...       ...   \n",
       "952_prnn_fglass  0.387816  0.063218  0.594483  0.658621  0.507586  0.061218   \n",
       "969_iris         0.866667  0.333333  0.999000  1.000000  0.800000  0.331333   \n",
       "973_wine         0.874126  0.398601  0.941818  0.966434  0.800000  0.396601   \n",
       "974_hayes-roth   0.626792  0.386792  0.516604  0.649057  0.635472  0.384792   \n",
       "996_prnn_fglass  0.651395  0.354651  0.704419  0.779070  0.636279  0.352651   \n",
       "\n",
       "                     SDML  \n",
       "Base                       \n",
       "1005_glass       0.726047  \n",
       "1011_ecoli       0.959407  \n",
       "1045_kc1-top5    0.829402  \n",
       "1059_ar1         0.917959  \n",
       "1061_ar4         0.831628  \n",
       "...                   ...  \n",
       "952_prnn_fglass  0.637241  \n",
       "969_iris         0.998667  \n",
       "973_wine         0.939301  \n",
       "974_hayes-roth   0.638491  \n",
       "996_prnn_fglass  0.727674  \n",
       "\n",
       "[116 rows x 13 columns]"
      ],
      "text/html": "<div>\n<style scoped>\n    .dataframe tbody tr th:only-of-type {\n        vertical-align: middle;\n    }\n\n    .dataframe tbody tr th {\n        vertical-align: top;\n    }\n\n    .dataframe thead th {\n        text-align: right;\n    }\n</style>\n<table border=\"1\" class=\"dataframe\">\n  <thead>\n    <tr style=\"text-align: right;\">\n      <th></th>\n      <th>CHD</th>\n      <th>Cov</th>\n      <th>ED</th>\n      <th>GE</th>\n      <th>GP</th>\n      <th>ITML</th>\n      <th>LFDA</th>\n      <th>LMNN</th>\n      <th>LSMN</th>\n      <th>MD</th>\n      <th>NCA</th>\n      <th>RCA</th>\n      <th>SDML</th>\n    </tr>\n    <tr>\n      <th>Base</th>\n      <th></th>\n      <th></th>\n      <th></th>\n      <th></th>\n      <th></th>\n      <th></th>\n      <th></th>\n      <th></th>\n      <th></th>\n      <th></th>\n      <th></th>\n      <th></th>\n      <th></th>\n    </tr>\n  </thead>\n  <tbody>\n    <tr>\n      <th>1005_glass</th>\n      <td>0.633721</td>\n      <td>0.720465</td>\n      <td>0.739535</td>\n      <td>0.6851</td>\n      <td>0.716047</td>\n      <td>0.683488</td>\n      <td>0.567674</td>\n      <td>0.354651</td>\n      <td>0.729535</td>\n      <td>0.761628</td>\n      <td>0.639070</td>\n      <td>0.352651</td>\n      <td>0.726047</td>\n    </tr>\n    <tr>\n      <th>1011_ecoli</th>\n      <td>0.743704</td>\n      <td>0.956741</td>\n      <td>0.963704</td>\n      <td>1.0000</td>\n      <td>1.000000</td>\n      <td>0.966519</td>\n      <td>0.854370</td>\n      <td>0.425926</td>\n      <td>0.954370</td>\n      <td>0.968148</td>\n      <td>0.772741</td>\n      <td>0.423926</td>\n      <td>0.959407</td>\n    </tr>\n    <tr>\n      <th>1045_kc1-top5</th>\n      <td>0.941880</td>\n      <td>0.059829</td>\n      <td>0.947009</td>\n      <td>0.9426</td>\n      <td>0.941538</td>\n      <td>0.940171</td>\n      <td>0.758632</td>\n      <td>0.059829</td>\n      <td>0.059829</td>\n      <td>0.941880</td>\n      <td>0.763077</td>\n      <td>0.057829</td>\n      <td>0.829402</td>\n    </tr>\n    <tr>\n      <th>1059_ar1</th>\n      <td>0.918367</td>\n      <td>0.918367</td>\n      <td>0.914286</td>\n      <td>0.9184</td>\n      <td>0.913878</td>\n      <td>0.909796</td>\n      <td>0.918367</td>\n      <td>0.918367</td>\n      <td>0.917959</td>\n      <td>0.912245</td>\n      <td>0.734694</td>\n      <td>0.916367</td>\n      <td>0.917959</td>\n    </tr>\n    <tr>\n      <th>1061_ar4</th>\n      <td>0.802326</td>\n      <td>0.813953</td>\n      <td>0.841860</td>\n      <td>0.8181</td>\n      <td>0.804186</td>\n      <td>0.845581</td>\n      <td>0.814419</td>\n      <td>0.813953</td>\n      <td>0.813953</td>\n      <td>0.844186</td>\n      <td>0.701395</td>\n      <td>0.811953</td>\n      <td>0.831628</td>\n    </tr>\n    <tr>\n      <th>...</th>\n      <td>...</td>\n      <td>...</td>\n      <td>...</td>\n      <td>...</td>\n      <td>...</td>\n      <td>...</td>\n      <td>...</td>\n      <td>...</td>\n      <td>...</td>\n      <td>...</td>\n      <td>...</td>\n      <td>...</td>\n      <td>...</td>\n    </tr>\n    <tr>\n      <th>952_prnn_fglass</th>\n      <td>0.479310</td>\n      <td>0.588966</td>\n      <td>0.625287</td>\n      <td>0.8432</td>\n      <td>0.876782</td>\n      <td>0.587356</td>\n      <td>0.387816</td>\n      <td>0.063218</td>\n      <td>0.594483</td>\n      <td>0.658621</td>\n      <td>0.507586</td>\n      <td>0.061218</td>\n      <td>0.637241</td>\n    </tr>\n    <tr>\n      <th>969_iris</th>\n      <td>1.000000</td>\n      <td>0.998667</td>\n      <td>1.000000</td>\n      <td>1.0000</td>\n      <td>1.000000</td>\n      <td>1.000000</td>\n      <td>0.866667</td>\n      <td>0.333333</td>\n      <td>0.999000</td>\n      <td>1.000000</td>\n      <td>0.800000</td>\n      <td>0.331333</td>\n      <td>0.998667</td>\n    </tr>\n    <tr>\n      <th>973_wine</th>\n      <td>0.772028</td>\n      <td>0.921678</td>\n      <td>0.965035</td>\n      <td>0.9849</td>\n      <td>0.987413</td>\n      <td>0.987692</td>\n      <td>0.874126</td>\n      <td>0.398601</td>\n      <td>0.941818</td>\n      <td>0.966434</td>\n      <td>0.800000</td>\n      <td>0.396601</td>\n      <td>0.939301</td>\n    </tr>\n    <tr>\n      <th>974_hayes-roth</th>\n      <td>0.615094</td>\n      <td>0.609434</td>\n      <td>0.620755</td>\n      <td>0.6577</td>\n      <td>0.631321</td>\n      <td>0.658491</td>\n      <td>0.626792</td>\n      <td>0.386792</td>\n      <td>0.516604</td>\n      <td>0.649057</td>\n      <td>0.635472</td>\n      <td>0.384792</td>\n      <td>0.638491</td>\n    </tr>\n    <tr>\n      <th>996_prnn_fglass</th>\n      <td>0.637209</td>\n      <td>0.711395</td>\n      <td>0.734884</td>\n      <td>0.9702</td>\n      <td>0.985116</td>\n      <td>0.676977</td>\n      <td>0.651395</td>\n      <td>0.354651</td>\n      <td>0.704419</td>\n      <td>0.779070</td>\n      <td>0.636279</td>\n      <td>0.352651</td>\n      <td>0.727674</td>\n    </tr>\n  </tbody>\n</table>\n<p>116 rows × 13 columns</p>\n</div>"
     },
     "metadata": {},
     "execution_count": 62
    }
   ],
   "source": [
    "df"
   ]
  },
  {
   "cell_type": "code",
   "execution_count": 63,
   "metadata": {},
   "outputs": [],
   "source": [
    "df = df.dropna()"
   ]
  },
  {
   "cell_type": "code",
   "execution_count": 64,
   "metadata": {},
   "outputs": [
    {
     "output_type": "execute_result",
     "data": {
      "text/plain": [
       "              CHD         Cov          ED          GE          GP        ITML  \\\n",
       "count  116.000000  116.000000  116.000000  116.000000  116.000000  116.000000   \n",
       "mean     0.625999    0.674108    0.721941    0.733838    0.726383    0.714931   \n",
       "std      0.155127    0.167761    0.148185    0.160555    0.163687    0.157388   \n",
       "min      0.259627    0.059829    0.320497    0.285700    0.257888    0.302112   \n",
       "25%      0.522388    0.577015    0.616694    0.593650    0.596850    0.590295   \n",
       "50%      0.564566    0.658776    0.712363    0.710700    0.702972    0.690828   \n",
       "75%      0.747361    0.801096    0.843741    0.878300    0.866384    0.844729   \n",
       "max      1.000000    0.998667    1.000000    1.000000    1.000000    1.000000   \n",
       "\n",
       "             LFDA        LMNN        LSMN          MD         NCA         RCA  \\\n",
       "count  116.000000  116.000000  116.000000  116.000000  116.000000  116.000000   \n",
       "mean     0.660985    0.478276    0.679792    0.734171    0.626658    0.476276   \n",
       "std      0.143847    0.165465    0.170145    0.142102    0.142003    0.165465   \n",
       "min      0.230075    0.059829    0.059829    0.324224    0.288199    0.057829   \n",
       "25%      0.561358    0.413678    0.578778    0.643284    0.523342    0.411678   \n",
       "50%      0.659254    0.456790    0.659083    0.743822    0.642116    0.454790   \n",
       "75%      0.764435    0.517913    0.809247    0.845179    0.727259    0.515913   \n",
       "max      0.918367    0.918367    0.999000    1.000000    0.992000    0.916367   \n",
       "\n",
       "             SDML  \n",
       "count  116.000000  \n",
       "mean     0.685238  \n",
       "std      0.154108  \n",
       "min      0.295901  \n",
       "25%      0.563230  \n",
       "50%      0.665763  \n",
       "75%      0.809725  \n",
       "max      0.998667  "
      ],
      "text/html": "<div>\n<style scoped>\n    .dataframe tbody tr th:only-of-type {\n        vertical-align: middle;\n    }\n\n    .dataframe tbody tr th {\n        vertical-align: top;\n    }\n\n    .dataframe thead th {\n        text-align: right;\n    }\n</style>\n<table border=\"1\" class=\"dataframe\">\n  <thead>\n    <tr style=\"text-align: right;\">\n      <th></th>\n      <th>CHD</th>\n      <th>Cov</th>\n      <th>ED</th>\n      <th>GE</th>\n      <th>GP</th>\n      <th>ITML</th>\n      <th>LFDA</th>\n      <th>LMNN</th>\n      <th>LSMN</th>\n      <th>MD</th>\n      <th>NCA</th>\n      <th>RCA</th>\n      <th>SDML</th>\n    </tr>\n  </thead>\n  <tbody>\n    <tr>\n      <th>count</th>\n      <td>116.000000</td>\n      <td>116.000000</td>\n      <td>116.000000</td>\n      <td>116.000000</td>\n      <td>116.000000</td>\n      <td>116.000000</td>\n      <td>116.000000</td>\n      <td>116.000000</td>\n      <td>116.000000</td>\n      <td>116.000000</td>\n      <td>116.000000</td>\n      <td>116.000000</td>\n      <td>116.000000</td>\n    </tr>\n    <tr>\n      <th>mean</th>\n      <td>0.625999</td>\n      <td>0.674108</td>\n      <td>0.721941</td>\n      <td>0.733838</td>\n      <td>0.726383</td>\n      <td>0.714931</td>\n      <td>0.660985</td>\n      <td>0.478276</td>\n      <td>0.679792</td>\n      <td>0.734171</td>\n      <td>0.626658</td>\n      <td>0.476276</td>\n      <td>0.685238</td>\n    </tr>\n    <tr>\n      <th>std</th>\n      <td>0.155127</td>\n      <td>0.167761</td>\n      <td>0.148185</td>\n      <td>0.160555</td>\n      <td>0.163687</td>\n      <td>0.157388</td>\n      <td>0.143847</td>\n      <td>0.165465</td>\n      <td>0.170145</td>\n      <td>0.142102</td>\n      <td>0.142003</td>\n      <td>0.165465</td>\n      <td>0.154108</td>\n    </tr>\n    <tr>\n      <th>min</th>\n      <td>0.259627</td>\n      <td>0.059829</td>\n      <td>0.320497</td>\n      <td>0.285700</td>\n      <td>0.257888</td>\n      <td>0.302112</td>\n      <td>0.230075</td>\n      <td>0.059829</td>\n      <td>0.059829</td>\n      <td>0.324224</td>\n      <td>0.288199</td>\n      <td>0.057829</td>\n      <td>0.295901</td>\n    </tr>\n    <tr>\n      <th>25%</th>\n      <td>0.522388</td>\n      <td>0.577015</td>\n      <td>0.616694</td>\n      <td>0.593650</td>\n      <td>0.596850</td>\n      <td>0.590295</td>\n      <td>0.561358</td>\n      <td>0.413678</td>\n      <td>0.578778</td>\n      <td>0.643284</td>\n      <td>0.523342</td>\n      <td>0.411678</td>\n      <td>0.563230</td>\n    </tr>\n    <tr>\n      <th>50%</th>\n      <td>0.564566</td>\n      <td>0.658776</td>\n      <td>0.712363</td>\n      <td>0.710700</td>\n      <td>0.702972</td>\n      <td>0.690828</td>\n      <td>0.659254</td>\n      <td>0.456790</td>\n      <td>0.659083</td>\n      <td>0.743822</td>\n      <td>0.642116</td>\n      <td>0.454790</td>\n      <td>0.665763</td>\n    </tr>\n    <tr>\n      <th>75%</th>\n      <td>0.747361</td>\n      <td>0.801096</td>\n      <td>0.843741</td>\n      <td>0.878300</td>\n      <td>0.866384</td>\n      <td>0.844729</td>\n      <td>0.764435</td>\n      <td>0.517913</td>\n      <td>0.809247</td>\n      <td>0.845179</td>\n      <td>0.727259</td>\n      <td>0.515913</td>\n      <td>0.809725</td>\n    </tr>\n    <tr>\n      <th>max</th>\n      <td>1.000000</td>\n      <td>0.998667</td>\n      <td>1.000000</td>\n      <td>1.000000</td>\n      <td>1.000000</td>\n      <td>1.000000</td>\n      <td>0.918367</td>\n      <td>0.918367</td>\n      <td>0.999000</td>\n      <td>1.000000</td>\n      <td>0.992000</td>\n      <td>0.916367</td>\n      <td>0.998667</td>\n    </tr>\n  </tbody>\n</table>\n</div>"
     },
     "metadata": {},
     "execution_count": 64
    }
   ],
   "source": [
    "df.describe()"
   ]
  },
  {
   "cell_type": "code",
   "execution_count": 65,
   "metadata": {},
   "outputs": [],
   "source": [
    "def main_diffs(row):\n",
    "    return row['GE'] - row.max()"
   ]
  },
  {
   "cell_type": "code",
   "execution_count": 66,
   "metadata": {},
   "outputs": [],
   "source": [
    "series_diffs = df.apply(main_diffs, axis=1)"
   ]
  },
  {
   "cell_type": "code",
   "execution_count": 67,
   "metadata": {},
   "outputs": [],
   "source": [
    "df_final['Micro_LLGC'] = series_diffs"
   ]
  },
  {
   "cell_type": "code",
   "execution_count": 68,
   "metadata": {},
   "outputs": [
    {
     "output_type": "execute_result",
     "data": {
      "text/plain": [
       "                 Macro_GFHF  Micro_GFHF  Macro_LLGC  Micro_LLGC\n",
       "1005_glass        -0.108165   -0.089767   -0.070643   -0.076528\n",
       "1011_ecoli        -0.000385   -0.000444    0.000000    0.000000\n",
       "1045_kc1-top5     -0.182211    0.000000    0.000000   -0.004409\n",
       "1059_ar1          -0.044786   -0.015543    0.000000    0.000000\n",
       "1061_ar4          -0.082064   -0.044698   -0.027481   -0.027481\n",
       "...                     ...         ...         ...         ...\n",
       "952_prnn_fglass   -0.005561   -0.049195    0.000000   -0.033582\n",
       "969_iris           0.000000    0.000000    0.000000    0.000000\n",
       "973_wine          -0.009241   -0.009786   -0.002792   -0.002792\n",
       "974_hayes-roth    -0.051257   -0.029802   -0.000791   -0.000791\n",
       "996_prnn_fglass   -0.064088   -0.054419   -0.013749   -0.014916\n",
       "\n",
       "[119 rows x 4 columns]"
      ],
      "text/html": "<div>\n<style scoped>\n    .dataframe tbody tr th:only-of-type {\n        vertical-align: middle;\n    }\n\n    .dataframe tbody tr th {\n        vertical-align: top;\n    }\n\n    .dataframe thead th {\n        text-align: right;\n    }\n</style>\n<table border=\"1\" class=\"dataframe\">\n  <thead>\n    <tr style=\"text-align: right;\">\n      <th></th>\n      <th>Macro_GFHF</th>\n      <th>Micro_GFHF</th>\n      <th>Macro_LLGC</th>\n      <th>Micro_LLGC</th>\n    </tr>\n  </thead>\n  <tbody>\n    <tr>\n      <th>1005_glass</th>\n      <td>-0.108165</td>\n      <td>-0.089767</td>\n      <td>-0.070643</td>\n      <td>-0.076528</td>\n    </tr>\n    <tr>\n      <th>1011_ecoli</th>\n      <td>-0.000385</td>\n      <td>-0.000444</td>\n      <td>0.000000</td>\n      <td>0.000000</td>\n    </tr>\n    <tr>\n      <th>1045_kc1-top5</th>\n      <td>-0.182211</td>\n      <td>0.000000</td>\n      <td>0.000000</td>\n      <td>-0.004409</td>\n    </tr>\n    <tr>\n      <th>1059_ar1</th>\n      <td>-0.044786</td>\n      <td>-0.015543</td>\n      <td>0.000000</td>\n      <td>0.000000</td>\n    </tr>\n    <tr>\n      <th>1061_ar4</th>\n      <td>-0.082064</td>\n      <td>-0.044698</td>\n      <td>-0.027481</td>\n      <td>-0.027481</td>\n    </tr>\n    <tr>\n      <th>...</th>\n      <td>...</td>\n      <td>...</td>\n      <td>...</td>\n      <td>...</td>\n    </tr>\n    <tr>\n      <th>952_prnn_fglass</th>\n      <td>-0.005561</td>\n      <td>-0.049195</td>\n      <td>0.000000</td>\n      <td>-0.033582</td>\n    </tr>\n    <tr>\n      <th>969_iris</th>\n      <td>0.000000</td>\n      <td>0.000000</td>\n      <td>0.000000</td>\n      <td>0.000000</td>\n    </tr>\n    <tr>\n      <th>973_wine</th>\n      <td>-0.009241</td>\n      <td>-0.009786</td>\n      <td>-0.002792</td>\n      <td>-0.002792</td>\n    </tr>\n    <tr>\n      <th>974_hayes-roth</th>\n      <td>-0.051257</td>\n      <td>-0.029802</td>\n      <td>-0.000791</td>\n      <td>-0.000791</td>\n    </tr>\n    <tr>\n      <th>996_prnn_fglass</th>\n      <td>-0.064088</td>\n      <td>-0.054419</td>\n      <td>-0.013749</td>\n      <td>-0.014916</td>\n    </tr>\n  </tbody>\n</table>\n<p>119 rows × 4 columns</p>\n</div>"
     },
     "metadata": {},
     "execution_count": 68
    }
   ],
   "source": [
    "df_final"
   ]
  },
  {
   "cell_type": "code",
   "execution_count": 75,
   "metadata": {},
   "outputs": [],
   "source": [
    "lista_teste = list(df_final.apply(lambda x : x.mean(), axis=1).sort_values(ascending=False).index)"
   ]
  },
  {
   "cell_type": "code",
   "execution_count": 76,
   "metadata": {},
   "outputs": [
    {
     "output_type": "execute_result",
     "data": {
      "text/plain": [
       "['1465_breast-tissue',\n",
       " '969_iris',\n",
       " '851_tecator',\n",
       " '1413_MyIris',\n",
       " '40682_thyroid-new',\n",
       " '1011_ecoli',\n",
       " '749_fri_c3_500_5',\n",
       " '61_iris',\n",
       " '1523_vertebra-column',\n",
       " '1490_planning-relax',\n",
       " '1524_vertebra-column',\n",
       " '744_fri_c3_250_5',\n",
       " '40_sonar',\n",
       " '880_mu284',\n",
       " '973_wine',\n",
       " '885_transplant',\n",
       " '788_triazines',\n",
       " '753_wisconsin',\n",
       " '792_fri_c2_500_5',\n",
       " '4340_Engine1',\n",
       " '907_chscase_census4',\n",
       " '906_chscase_census5',\n",
       " '733_machine_cpu',\n",
       " '1066_kc1-binary',\n",
       " '1059_ar1',\n",
       " '908_chscase_census3',\n",
       " '1559_breast-tissue',\n",
       " '884_fri_c0_500_5',\n",
       " '900_chscase_census6',\n",
       " '925_visualizing_galaxy',\n",
       " '909_chscase_census2',\n",
       " '1519_robot-failures-lp4',\n",
       " '721_pwLinear',\n",
       " '1488_parkinsons',\n",
       " '974_hayes-roth',\n",
       " '40671_ecoli',\n",
       " '952_prnn_fglass',\n",
       " '8_liver-disorders',\n",
       " '850_fri_c0_100_50',\n",
       " '873_fri_c3_250_50',\n",
       " '1441_KungChi3',\n",
       " '1473_fertility',\n",
       " '870_fri_c1_500_5',\n",
       " '59_ionosphere',\n",
       " '756_autoPrice',\n",
       " '1075_datatrieve',\n",
       " '1500_seismic-bumps',\n",
       " '996_prnn_fglass',\n",
       " '750_pm10',\n",
       " '1442_MegaWatt1',\n",
       " '1520_robot-failures-lp5',\n",
       " '834_fri_c4_250_100',\n",
       " '1449_MeanWhile1',\n",
       " '1448_KnuggetChase3',\n",
       " '1513_heart-switzerland',\n",
       " '329_hayes-roth',\n",
       " '869_fri_c2_500_10',\n",
       " '53_heart-statlog',\n",
       " '918_fri_c4_250_50',\n",
       " '1061_ar4',\n",
       " '1484_lsvt',\n",
       " '1045_kc1-top5',\n",
       " '855_fri_c4_500_10',\n",
       " '1499_seeds',\n",
       " '716_fri_c3_100_50',\n",
       " '39_ecoli',\n",
       " '1512_heart-long-beach',\n",
       " '1064_ar6',\n",
       " '778_bodyfat',\n",
       " '935_fri_c1_250_10',\n",
       " '1446_CostaMadre1',\n",
       " '1450_MindCave2',\n",
       " '916_fri_c3_100_5',\n",
       " '730_fri_c1_250_5',\n",
       " '824_fri_c1_500_10',\n",
       " '763_fri_c0_250_10',\n",
       " '736_visualizing_environmental',\n",
       " '943_fri_c0_500_10',\n",
       " '1600_SPECTF',\n",
       " '41_glass',\n",
       " '886_no2',\n",
       " '876_fri_c1_100_50',\n",
       " '878_fri_c4_100_10',\n",
       " '828_fri_c4_100_100',\n",
       " '820_chatfield_4',\n",
       " '776_fri_c0_250_5',\n",
       " '936_fri_c3_500_10',\n",
       " '911_fri_c2_250_5',\n",
       " '754_fri_c0_100_5',\n",
       " '732_fri_c0_250_50',\n",
       " '1005_glass',\n",
       " '920_fri_c2_500_50',\n",
       " '769_fri_c1_250_50',\n",
       " '868_fri_c4_100_25',\n",
       " '830_fri_c2_250_10',\n",
       " '789_fri_c1_100_10',\n",
       " '877_fri_c2_250_50',\n",
       " '863_fri_c4_250_10',\n",
       " '726_fri_c2_100_5',\n",
       " '746_fri_c1_250_25',\n",
       " '762_fri_c2_100_10',\n",
       " '922_fri_c2_100_50',\n",
       " '793_fri_c3_250_10',\n",
       " '829_fri_c1_100_5',\n",
       " '932_fri_c4_100_50',\n",
       " '933_fri_c4_250_25',\n",
       " '838_fri_c4_500_25',\n",
       " '812_fri_c1_100_25',\n",
       " '794_fri_c2_250_25',\n",
       " '779_fri_c1_500_25',\n",
       " '783_fri_c3_100_10',\n",
       " '1508_user-knowledge',\n",
       " '773_fri_c0_250_25',\n",
       " '775_fri_c2_100_25',\n",
       " '808_fri_c0_100_10',\n",
       " '879_fri_c2_500_25',\n",
       " '832_fri_c3_250_25',\n",
       " '768_fri_c3_100_25',\n",
       " '889_fri_c0_100_25']"
      ]
     },
     "metadata": {},
     "execution_count": 76
    }
   ],
   "source": [
    "lista_teste"
   ]
  },
  {
   "cell_type": "code",
   "execution_count": 70,
   "metadata": {},
   "outputs": [],
   "source": [
    "df_final.to_csv('diffs.csv', index=False)"
   ]
  },
  {
   "cell_type": "code",
   "execution_count": 60,
   "metadata": {},
   "outputs": [],
   "source": [
    "lista_invalidos = list(series_diffs.sort_values()[:55].index)"
   ]
  },
  {
   "cell_type": "code",
   "execution_count": 61,
   "metadata": {},
   "outputs": [
    {
     "output_type": "execute_result",
     "data": {
      "text/plain": [
       "['889_fri_c0_100_25',\n",
       " '832_fri_c3_250_25',\n",
       " '773_fri_c0_250_25',\n",
       " '768_fri_c3_100_25',\n",
       " '808_fri_c0_100_10',\n",
       " '783_fri_c3_100_10',\n",
       " '879_fri_c2_500_25',\n",
       " '775_fri_c2_100_25',\n",
       " '794_fri_c2_250_25',\n",
       " '1508_user-knowledge',\n",
       " '933_fri_c4_250_25',\n",
       " '812_fri_c1_100_25',\n",
       " '1045_kc1-top5',\n",
       " '1565_heart-h',\n",
       " '762_fri_c2_100_10',\n",
       " '1600_SPECTF',\n",
       " '926_fri_c0_500_25',\n",
       " '932_fri_c4_100_50',\n",
       " '793_fri_c3_250_10',\n",
       " '863_fri_c4_250_10',\n",
       " '829_fri_c1_100_5',\n",
       " '726_fri_c2_100_5',\n",
       " '1449_MeanWhile1',\n",
       " '1448_KnuggetChase3',\n",
       " '41_glass',\n",
       " '746_fri_c1_250_25',\n",
       " '1075_datatrieve',\n",
       " '1442_MegaWatt1',\n",
       " '769_fri_c1_250_50',\n",
       " '877_fri_c2_250_50',\n",
       " '922_fri_c2_100_50',\n",
       " '936_fri_c3_500_10',\n",
       " '1446_CostaMadre1',\n",
       " '1450_MindCave2',\n",
       " '789_fri_c1_100_10',\n",
       " '1005_glass',\n",
       " '1473_fertility',\n",
       " '886_no2',\n",
       " '736_visualizing_environmental',\n",
       " '732_fri_c0_250_50',\n",
       " '754_fri_c0_100_5',\n",
       " '878_fri_c4_100_10',\n",
       " '776_fri_c0_250_5',\n",
       " '911_fri_c2_250_5',\n",
       " '916_fri_c3_100_5',\n",
       " '1061_ar4',\n",
       " '1512_heart-long-beach',\n",
       " '39_ecoli',\n",
       " '1441_KungChi3',\n",
       " '1447_CastMetal1',\n",
       " '828_fri_c4_100_100',\n",
       " '876_fri_c1_100_50',\n",
       " '943_fri_c0_500_10',\n",
       " '1513_heart-switzerland',\n",
       " '820_chatfield_4']"
      ]
     },
     "metadata": {},
     "execution_count": 61
    }
   ],
   "source": [
    "lista_invalidos"
   ]
  },
  {
   "cell_type": "code",
   "execution_count": 62,
   "metadata": {},
   "outputs": [
    {
     "output_type": "execute_result",
     "data": {
      "text/plain": [
       "                                     GE    SDML       CHD     Cov        ED  \\\n",
       "Base                                                                          \n",
       "886_no2                        0.517679  0.4267  0.494175  0.5403  0.558682   \n",
       "736_visualizing_environmental  0.603981  0.3781  0.595835  0.6476  0.660831   \n",
       "\n",
       "                                     GP    ITML    LFDA    LMNN    LSMN  \\\n",
       "Base                                                                      \n",
       "886_no2                        0.497026  0.5652  0.5312  0.3339  0.5374   \n",
       "736_visualizing_environmental  0.607607  0.6427  0.5358  0.3431  0.6181   \n",
       "\n",
       "                                     MD     NCA     RCA  \n",
       "Base                                                     \n",
       "886_no2                        0.558729  0.6166  0.3339  \n",
       "736_visualizing_environmental  0.657625  0.6997  0.3431  "
      ],
      "text/html": "<div>\n<style scoped>\n    .dataframe tbody tr th:only-of-type {\n        vertical-align: middle;\n    }\n\n    .dataframe tbody tr th {\n        vertical-align: top;\n    }\n\n    .dataframe thead th {\n        text-align: right;\n    }\n</style>\n<table border=\"1\" class=\"dataframe\">\n  <thead>\n    <tr style=\"text-align: right;\">\n      <th></th>\n      <th>GE</th>\n      <th>SDML</th>\n      <th>CHD</th>\n      <th>Cov</th>\n      <th>ED</th>\n      <th>GP</th>\n      <th>ITML</th>\n      <th>LFDA</th>\n      <th>LMNN</th>\n      <th>LSMN</th>\n      <th>MD</th>\n      <th>NCA</th>\n      <th>RCA</th>\n    </tr>\n    <tr>\n      <th>Base</th>\n      <th></th>\n      <th></th>\n      <th></th>\n      <th></th>\n      <th></th>\n      <th></th>\n      <th></th>\n      <th></th>\n      <th></th>\n      <th></th>\n      <th></th>\n      <th></th>\n      <th></th>\n    </tr>\n  </thead>\n  <tbody>\n    <tr>\n      <th>886_no2</th>\n      <td>0.517679</td>\n      <td>0.4267</td>\n      <td>0.494175</td>\n      <td>0.5403</td>\n      <td>0.558682</td>\n      <td>0.497026</td>\n      <td>0.5652</td>\n      <td>0.5312</td>\n      <td>0.3339</td>\n      <td>0.5374</td>\n      <td>0.558729</td>\n      <td>0.6166</td>\n      <td>0.3339</td>\n    </tr>\n    <tr>\n      <th>736_visualizing_environmental</th>\n      <td>0.603981</td>\n      <td>0.3781</td>\n      <td>0.595835</td>\n      <td>0.6476</td>\n      <td>0.660831</td>\n      <td>0.607607</td>\n      <td>0.6427</td>\n      <td>0.5358</td>\n      <td>0.3431</td>\n      <td>0.6181</td>\n      <td>0.657625</td>\n      <td>0.6997</td>\n      <td>0.3431</td>\n    </tr>\n  </tbody>\n</table>\n</div>"
     },
     "metadata": {},
     "execution_count": 62
    }
   ],
   "source": [
    "df.loc[['886_no2','736_visualizing_environmental']]"
   ]
  },
  {
   "cell_type": "code",
   "execution_count": 63,
   "metadata": {},
   "outputs": [],
   "source": [
    "#gerando uma lista de indices válidos\n",
    "\n",
    "lista_ind = list(df.index)"
   ]
  },
  {
   "cell_type": "code",
   "execution_count": 68,
   "metadata": {},
   "outputs": [],
   "source": [
    "lista_ind_validos = []\n",
    "for ind in lista_ind: \n",
    "    if (not ind.count('_fri_') > 0) and (not ind in lista_invalidos): \n",
    "        lista_ind_validos.append(ind)"
   ]
  },
  {
   "cell_type": "code",
   "execution_count": 69,
   "metadata": {},
   "outputs": [
    {
     "output_type": "execute_result",
     "data": {
      "text/plain": [
       "73"
      ]
     },
     "metadata": {},
     "execution_count": 69
    }
   ],
   "source": [
    "len(lista_ind_validos)"
   ]
  },
  {
   "cell_type": "code",
   "execution_count": 70,
   "metadata": {},
   "outputs": [],
   "source": [
    "df_filtered = df.loc[lista_ind_validos]"
   ]
  },
  {
   "cell_type": "code",
   "execution_count": 71,
   "metadata": {},
   "outputs": [
    {
     "output_type": "execute_result",
     "data": {
      "text/plain": [
       "(73, 13)"
      ]
     },
     "metadata": {},
     "execution_count": 71
    }
   ],
   "source": [
    "df_filtered.shape"
   ]
  },
  {
   "cell_type": "code",
   "execution_count": 72,
   "metadata": {},
   "outputs": [
    {
     "output_type": "execute_result",
     "data": {
      "text/plain": [
       "              GE       SDML        CHD        Cov         ED         GP  \\\n",
       "count  73.000000  73.000000  73.000000  73.000000  73.000000  73.000000   \n",
       "mean    0.695291   0.576714   0.583940   0.581562   0.680834   0.621056   \n",
       "std     0.222600   0.194309   0.188304   0.228702   0.186363   0.290169   \n",
       "min     0.165170   0.197900   0.170368   0.056500   0.263411   0.000000   \n",
       "25%     0.519784   0.469800   0.495539   0.449400   0.554486   0.483950   \n",
       "50%     0.665669   0.529800   0.565873   0.547200   0.660831   0.591805   \n",
       "75%     0.914124   0.709900   0.694810   0.770700   0.828450   0.895473   \n",
       "max     1.000000   0.994000   1.000000   0.998500   1.000000   1.000000   \n",
       "\n",
       "            ITML       LFDA       LMNN       LSMN         MD        NCA  \\\n",
       "count  73.000000  73.000000  73.000000  73.000000  73.000000  73.000000   \n",
       "mean    0.628125   0.577004   0.277744   0.561933   0.683960   0.509382   \n",
       "std     0.205436   0.229381   0.125300   0.232298   0.185065   0.216654   \n",
       "min     0.244900   0.163400   0.019800   0.056500   0.263762   0.091500   \n",
       "25%     0.491900   0.431600   0.170500   0.402900   0.558729   0.318400   \n",
       "50%     0.568600   0.530900   0.285000   0.531200   0.657625   0.517400   \n",
       "75%     0.787000   0.748000   0.357100   0.769100   0.833735   0.679400   \n",
       "max     1.000000   0.995600   0.478700   0.999600   1.000000   0.979800   \n",
       "\n",
       "             RCA  \n",
       "count  73.000000  \n",
       "mean    0.279305  \n",
       "std     0.124326  \n",
       "min     0.019800  \n",
       "25%     0.170500  \n",
       "50%     0.295900  \n",
       "75%     0.353400  \n",
       "max     0.478700  "
      ],
      "text/html": "<div>\n<style scoped>\n    .dataframe tbody tr th:only-of-type {\n        vertical-align: middle;\n    }\n\n    .dataframe tbody tr th {\n        vertical-align: top;\n    }\n\n    .dataframe thead th {\n        text-align: right;\n    }\n</style>\n<table border=\"1\" class=\"dataframe\">\n  <thead>\n    <tr style=\"text-align: right;\">\n      <th></th>\n      <th>GE</th>\n      <th>SDML</th>\n      <th>CHD</th>\n      <th>Cov</th>\n      <th>ED</th>\n      <th>GP</th>\n      <th>ITML</th>\n      <th>LFDA</th>\n      <th>LMNN</th>\n      <th>LSMN</th>\n      <th>MD</th>\n      <th>NCA</th>\n      <th>RCA</th>\n    </tr>\n  </thead>\n  <tbody>\n    <tr>\n      <th>count</th>\n      <td>73.000000</td>\n      <td>73.000000</td>\n      <td>73.000000</td>\n      <td>73.000000</td>\n      <td>73.000000</td>\n      <td>73.000000</td>\n      <td>73.000000</td>\n      <td>73.000000</td>\n      <td>73.000000</td>\n      <td>73.000000</td>\n      <td>73.000000</td>\n      <td>73.000000</td>\n      <td>73.000000</td>\n    </tr>\n    <tr>\n      <th>mean</th>\n      <td>0.695291</td>\n      <td>0.576714</td>\n      <td>0.583940</td>\n      <td>0.581562</td>\n      <td>0.680834</td>\n      <td>0.621056</td>\n      <td>0.628125</td>\n      <td>0.577004</td>\n      <td>0.277744</td>\n      <td>0.561933</td>\n      <td>0.683960</td>\n      <td>0.509382</td>\n      <td>0.279305</td>\n    </tr>\n    <tr>\n      <th>std</th>\n      <td>0.222600</td>\n      <td>0.194309</td>\n      <td>0.188304</td>\n      <td>0.228702</td>\n      <td>0.186363</td>\n      <td>0.290169</td>\n      <td>0.205436</td>\n      <td>0.229381</td>\n      <td>0.125300</td>\n      <td>0.232298</td>\n      <td>0.185065</td>\n      <td>0.216654</td>\n      <td>0.124326</td>\n    </tr>\n    <tr>\n      <th>min</th>\n      <td>0.165170</td>\n      <td>0.197900</td>\n      <td>0.170368</td>\n      <td>0.056500</td>\n      <td>0.263411</td>\n      <td>0.000000</td>\n      <td>0.244900</td>\n      <td>0.163400</td>\n      <td>0.019800</td>\n      <td>0.056500</td>\n      <td>0.263762</td>\n      <td>0.091500</td>\n      <td>0.019800</td>\n    </tr>\n    <tr>\n      <th>25%</th>\n      <td>0.519784</td>\n      <td>0.469800</td>\n      <td>0.495539</td>\n      <td>0.449400</td>\n      <td>0.554486</td>\n      <td>0.483950</td>\n      <td>0.491900</td>\n      <td>0.431600</td>\n      <td>0.170500</td>\n      <td>0.402900</td>\n      <td>0.558729</td>\n      <td>0.318400</td>\n      <td>0.170500</td>\n    </tr>\n    <tr>\n      <th>50%</th>\n      <td>0.665669</td>\n      <td>0.529800</td>\n      <td>0.565873</td>\n      <td>0.547200</td>\n      <td>0.660831</td>\n      <td>0.591805</td>\n      <td>0.568600</td>\n      <td>0.530900</td>\n      <td>0.285000</td>\n      <td>0.531200</td>\n      <td>0.657625</td>\n      <td>0.517400</td>\n      <td>0.295900</td>\n    </tr>\n    <tr>\n      <th>75%</th>\n      <td>0.914124</td>\n      <td>0.709900</td>\n      <td>0.694810</td>\n      <td>0.770700</td>\n      <td>0.828450</td>\n      <td>0.895473</td>\n      <td>0.787000</td>\n      <td>0.748000</td>\n      <td>0.357100</td>\n      <td>0.769100</td>\n      <td>0.833735</td>\n      <td>0.679400</td>\n      <td>0.353400</td>\n    </tr>\n    <tr>\n      <th>max</th>\n      <td>1.000000</td>\n      <td>0.994000</td>\n      <td>1.000000</td>\n      <td>0.998500</td>\n      <td>1.000000</td>\n      <td>1.000000</td>\n      <td>1.000000</td>\n      <td>0.995600</td>\n      <td>0.478700</td>\n      <td>0.999600</td>\n      <td>1.000000</td>\n      <td>0.979800</td>\n      <td>0.478700</td>\n    </tr>\n  </tbody>\n</table>\n</div>"
     },
     "metadata": {},
     "execution_count": 72
    }
   ],
   "source": [
    "df_filtered.describe()"
   ]
  },
  {
   "cell_type": "code",
   "execution_count": null,
   "metadata": {},
   "outputs": [],
   "source": [
    "path_in = '/media/rafael/DadosCompartilhados/experimentos/experimentos_marcio/ResultadosProcessados/MicroF1_LLGC_Máximo.csv'"
   ]
  },
  {
   "cell_type": "code",
   "execution_count": 172,
   "metadata": {},
   "outputs": [],
   "source": [
    "df = pd.read_csv('/media/rafael/DadosCompartilhados/experimentos/experimentos_marcio/ResultadosProcessados/MicroF1_LLGC_Máximo.csv', index_col=0)"
   ]
  },
  {
   "cell_type": "code",
   "execution_count": 173,
   "metadata": {},
   "outputs": [
    {
     "output_type": "execute_result",
     "data": {
      "text/plain": [
       "                      CHD       Cov        ED      GE        GP      ITML  \\\n",
       "Base                                                                        \n",
       "1005_glass       0.633721  0.720465  0.739535  0.6851  0.716047  0.683488   \n",
       "1011_ecoli       0.743704  0.956741  0.963704  1.0000  1.000000  0.966519   \n",
       "1045_kc1-top5    0.941880  0.059829  0.947009  0.9426  0.941538  0.940171   \n",
       "1059_ar1         0.918367  0.918367  0.914286  0.9184  0.913878  0.909796   \n",
       "1061_ar4         0.802326  0.813953  0.841860  0.8181  0.804186  0.845581   \n",
       "...                   ...       ...       ...     ...       ...       ...   \n",
       "952_prnn_fglass  0.479310  0.588966  0.625287  0.8432  0.876782  0.587356   \n",
       "969_iris         1.000000  0.998667  1.000000  1.0000  1.000000  1.000000   \n",
       "973_wine         0.772028  0.921678  0.965035  0.9849  0.987413  0.987692   \n",
       "974_hayes-roth   0.615094  0.609434  0.620755  0.6577  0.631321  0.658491   \n",
       "996_prnn_fglass  0.637209  0.711395  0.734884  0.9702  0.985116  0.676977   \n",
       "\n",
       "                     LFDA      LMNN      LSMN        MD       NCA       RCA  \\\n",
       "Base                                                                          \n",
       "1005_glass       0.567674  0.354651  0.729535  0.761628  0.639070  0.352651   \n",
       "1011_ecoli       0.854370  0.425926  0.954370  0.968148  0.772741  0.423926   \n",
       "1045_kc1-top5    0.758632  0.059829  0.059829  0.941880  0.763077  0.057829   \n",
       "1059_ar1         0.918367  0.918367  0.917959  0.912245  0.734694  0.916367   \n",
       "1061_ar4         0.814419  0.813953  0.813953  0.844186  0.701395  0.811953   \n",
       "...                   ...       ...       ...       ...       ...       ...   \n",
       "952_prnn_fglass  0.387816  0.063218  0.594483  0.658621  0.507586  0.061218   \n",
       "969_iris         0.866667  0.333333  0.999000  1.000000  0.800000  0.331333   \n",
       "973_wine         0.874126  0.398601  0.941818  0.966434  0.800000  0.396601   \n",
       "974_hayes-roth   0.626792  0.386792  0.516604  0.649057  0.635472  0.384792   \n",
       "996_prnn_fglass  0.651395  0.354651  0.704419  0.779070  0.636279  0.352651   \n",
       "\n",
       "                     SDML  \n",
       "Base                       \n",
       "1005_glass       0.726047  \n",
       "1011_ecoli       0.959407  \n",
       "1045_kc1-top5    0.829402  \n",
       "1059_ar1         0.917959  \n",
       "1061_ar4         0.831628  \n",
       "...                   ...  \n",
       "952_prnn_fglass  0.637241  \n",
       "969_iris         0.998667  \n",
       "973_wine         0.939301  \n",
       "974_hayes-roth   0.638491  \n",
       "996_prnn_fglass  0.727674  \n",
       "\n",
       "[116 rows x 13 columns]"
      ],
      "text/html": "<div>\n<style scoped>\n    .dataframe tbody tr th:only-of-type {\n        vertical-align: middle;\n    }\n\n    .dataframe tbody tr th {\n        vertical-align: top;\n    }\n\n    .dataframe thead th {\n        text-align: right;\n    }\n</style>\n<table border=\"1\" class=\"dataframe\">\n  <thead>\n    <tr style=\"text-align: right;\">\n      <th></th>\n      <th>CHD</th>\n      <th>Cov</th>\n      <th>ED</th>\n      <th>GE</th>\n      <th>GP</th>\n      <th>ITML</th>\n      <th>LFDA</th>\n      <th>LMNN</th>\n      <th>LSMN</th>\n      <th>MD</th>\n      <th>NCA</th>\n      <th>RCA</th>\n      <th>SDML</th>\n    </tr>\n    <tr>\n      <th>Base</th>\n      <th></th>\n      <th></th>\n      <th></th>\n      <th></th>\n      <th></th>\n      <th></th>\n      <th></th>\n      <th></th>\n      <th></th>\n      <th></th>\n      <th></th>\n      <th></th>\n      <th></th>\n    </tr>\n  </thead>\n  <tbody>\n    <tr>\n      <th>1005_glass</th>\n      <td>0.633721</td>\n      <td>0.720465</td>\n      <td>0.739535</td>\n      <td>0.6851</td>\n      <td>0.716047</td>\n      <td>0.683488</td>\n      <td>0.567674</td>\n      <td>0.354651</td>\n      <td>0.729535</td>\n      <td>0.761628</td>\n      <td>0.639070</td>\n      <td>0.352651</td>\n      <td>0.726047</td>\n    </tr>\n    <tr>\n      <th>1011_ecoli</th>\n      <td>0.743704</td>\n      <td>0.956741</td>\n      <td>0.963704</td>\n      <td>1.0000</td>\n      <td>1.000000</td>\n      <td>0.966519</td>\n      <td>0.854370</td>\n      <td>0.425926</td>\n      <td>0.954370</td>\n      <td>0.968148</td>\n      <td>0.772741</td>\n      <td>0.423926</td>\n      <td>0.959407</td>\n    </tr>\n    <tr>\n      <th>1045_kc1-top5</th>\n      <td>0.941880</td>\n      <td>0.059829</td>\n      <td>0.947009</td>\n      <td>0.9426</td>\n      <td>0.941538</td>\n      <td>0.940171</td>\n      <td>0.758632</td>\n      <td>0.059829</td>\n      <td>0.059829</td>\n      <td>0.941880</td>\n      <td>0.763077</td>\n      <td>0.057829</td>\n      <td>0.829402</td>\n    </tr>\n    <tr>\n      <th>1059_ar1</th>\n      <td>0.918367</td>\n      <td>0.918367</td>\n      <td>0.914286</td>\n      <td>0.9184</td>\n      <td>0.913878</td>\n      <td>0.909796</td>\n      <td>0.918367</td>\n      <td>0.918367</td>\n      <td>0.917959</td>\n      <td>0.912245</td>\n      <td>0.734694</td>\n      <td>0.916367</td>\n      <td>0.917959</td>\n    </tr>\n    <tr>\n      <th>1061_ar4</th>\n      <td>0.802326</td>\n      <td>0.813953</td>\n      <td>0.841860</td>\n      <td>0.8181</td>\n      <td>0.804186</td>\n      <td>0.845581</td>\n      <td>0.814419</td>\n      <td>0.813953</td>\n      <td>0.813953</td>\n      <td>0.844186</td>\n      <td>0.701395</td>\n      <td>0.811953</td>\n      <td>0.831628</td>\n    </tr>\n    <tr>\n      <th>...</th>\n      <td>...</td>\n      <td>...</td>\n      <td>...</td>\n      <td>...</td>\n      <td>...</td>\n      <td>...</td>\n      <td>...</td>\n      <td>...</td>\n      <td>...</td>\n      <td>...</td>\n      <td>...</td>\n      <td>...</td>\n      <td>...</td>\n    </tr>\n    <tr>\n      <th>952_prnn_fglass</th>\n      <td>0.479310</td>\n      <td>0.588966</td>\n      <td>0.625287</td>\n      <td>0.8432</td>\n      <td>0.876782</td>\n      <td>0.587356</td>\n      <td>0.387816</td>\n      <td>0.063218</td>\n      <td>0.594483</td>\n      <td>0.658621</td>\n      <td>0.507586</td>\n      <td>0.061218</td>\n      <td>0.637241</td>\n    </tr>\n    <tr>\n      <th>969_iris</th>\n      <td>1.000000</td>\n      <td>0.998667</td>\n      <td>1.000000</td>\n      <td>1.0000</td>\n      <td>1.000000</td>\n      <td>1.000000</td>\n      <td>0.866667</td>\n      <td>0.333333</td>\n      <td>0.999000</td>\n      <td>1.000000</td>\n      <td>0.800000</td>\n      <td>0.331333</td>\n      <td>0.998667</td>\n    </tr>\n    <tr>\n      <th>973_wine</th>\n      <td>0.772028</td>\n      <td>0.921678</td>\n      <td>0.965035</td>\n      <td>0.9849</td>\n      <td>0.987413</td>\n      <td>0.987692</td>\n      <td>0.874126</td>\n      <td>0.398601</td>\n      <td>0.941818</td>\n      <td>0.966434</td>\n      <td>0.800000</td>\n      <td>0.396601</td>\n      <td>0.939301</td>\n    </tr>\n    <tr>\n      <th>974_hayes-roth</th>\n      <td>0.615094</td>\n      <td>0.609434</td>\n      <td>0.620755</td>\n      <td>0.6577</td>\n      <td>0.631321</td>\n      <td>0.658491</td>\n      <td>0.626792</td>\n      <td>0.386792</td>\n      <td>0.516604</td>\n      <td>0.649057</td>\n      <td>0.635472</td>\n      <td>0.384792</td>\n      <td>0.638491</td>\n    </tr>\n    <tr>\n      <th>996_prnn_fglass</th>\n      <td>0.637209</td>\n      <td>0.711395</td>\n      <td>0.734884</td>\n      <td>0.9702</td>\n      <td>0.985116</td>\n      <td>0.676977</td>\n      <td>0.651395</td>\n      <td>0.354651</td>\n      <td>0.704419</td>\n      <td>0.779070</td>\n      <td>0.636279</td>\n      <td>0.352651</td>\n      <td>0.727674</td>\n    </tr>\n  </tbody>\n</table>\n<p>116 rows × 13 columns</p>\n</div>"
     },
     "metadata": {},
     "execution_count": 173
    }
   ],
   "source": [
    "df"
   ]
  },
  {
   "cell_type": "code",
   "execution_count": 174,
   "metadata": {},
   "outputs": [],
   "source": [
    "lista_top_10 = df.loc[lista_teste[:10]]\n",
    "lista_top_20 = df.loc[lista_teste[:20]]\n",
    "lista_top_30 = df.loc[lista_teste[:30]]\n",
    "lista_top_40 = df.loc[lista_teste[:40]]\n",
    "lista_top_50 = df.loc[lista_teste[:50]]"
   ]
  },
  {
   "cell_type": "code",
   "execution_count": 175,
   "metadata": {},
   "outputs": [],
   "source": [
    "df.loc[lista_teste[:50]].to_csv('/media/rafael/DadosCompartilhados/experimentos/experimentos_marcio/ResultadosProcessados/MicroF1_GFHF_Máximo_top_50.csv')"
   ]
  },
  {
   "cell_type": "code",
   "execution_count": 176,
   "metadata": {},
   "outputs": [],
   "source": [
    "def ranking(series): \n",
    "    return (len(series) - series.rank(ascending=True)) + 1"
   ]
  },
  {
   "cell_type": "code",
   "execution_count": 185,
   "metadata": {},
   "outputs": [
    {
     "output_type": "execute_result",
     "data": {
      "text/plain": [
       "                          GE        GP      ITML      LFDA      LMNN  \\\n",
       "Unnamed: 0                                                             \n",
       "1465_breast-tissue    0.8110  0.790394  0.346207  0.355862  0.206897   \n",
       "969_iris              1.0000  1.000000  1.000000  0.866667  0.333333   \n",
       "851_tecator           0.8837  0.875601  0.565181  0.531813  0.424870   \n",
       "1413_MyIris           1.0000  1.000000  0.979333  0.846667  0.333333   \n",
       "40682_thyroid-new     0.9958  0.992385  0.945814  0.899535  0.697674   \n",
       "1011_ecoli            1.0000  1.000000  0.966519  0.854370  0.425926   \n",
       "749_fri_c3_500_5      0.8508  0.773090  0.756708  0.717207  0.473815   \n",
       "61_iris               1.0000  1.000000  0.979667  0.842667  0.333333   \n",
       "1523_vertebra-column  0.9677  0.963504  0.767419  0.482419  0.193548   \n",
       "1490_planning-relax   0.7085  0.473251  0.703836  0.712329  0.712329   \n",
       "1524_vertebra-column  0.9947  0.997420  0.808387  0.762581  0.677419   \n",
       "744_fri_c3_250_5      0.8082  0.763149  0.750448  0.676617  0.437811   \n",
       "40_sonar              1.0000  0.999282  0.537485  0.513054  0.467066   \n",
       "880_mu284             0.9791  0.983241  0.980351  0.887368  0.500000   \n",
       "973_wine              0.9849  0.986879  0.987692  0.874126  0.398601   \n",
       "885_transplant        0.9796  0.977701  0.976604  0.882642  0.632075   \n",
       "788_triazines         0.6373  0.614501  0.600267  0.578133  0.413333   \n",
       "753_wisconsin         0.6762  0.702072  0.572308  0.535385  0.538462   \n",
       "792_fri_c2_500_5      0.8515  0.790746  0.825636  0.704439  0.403990   \n",
       "4340_Engine1          0.9256  0.570453  0.921176  0.869804  0.673203   \n",
       "\n",
       "                          LSMN        MD       NCA       RCA      SDML  \\\n",
       "Unnamed: 0                                                               \n",
       "1465_breast-tissue    0.335632  0.373014  0.314483  0.204897  0.328736   \n",
       "969_iris              0.999000  1.000000  0.800000  0.331333  0.998667   \n",
       "851_tecator           0.561865  0.781341  0.436891  0.422870  0.554611   \n",
       "1413_MyIris           0.944667  0.957539  0.778667  0.331333  0.939000   \n",
       "40682_thyroid-new     0.940930  0.965861  0.768372  0.695674  0.926512   \n",
       "1011_ecoli            0.954370  0.965600  0.772741  0.423926  0.959407   \n",
       "749_fri_c3_500_5      0.821147  0.842666  0.730574  0.471815  0.829227   \n",
       "61_iris               0.926000  0.957539  0.778667  0.331333  0.947333   \n",
       "1523_vertebra-column  0.658710  0.732029  0.645161  0.191548  0.709839   \n",
       "1490_planning-relax   0.689315  0.499050  0.540274  0.710329  0.683014   \n",
       "1524_vertebra-column  0.705000  0.745862  0.670968  0.675419  0.773548   \n",
       "744_fri_c3_250_5      0.788856  0.806252  0.686965  0.435811  0.759005   \n",
       "40_sonar              0.557126  0.782642  0.563353  0.465066  0.538204   \n",
       "880_mu284             0.917544  0.939028  0.783158  0.498000  0.943509   \n",
       "973_wine              0.941818  0.971069  0.800000  0.396601  0.939301   \n",
       "885_transplant        0.941887  0.980673  0.780377  0.630075  0.967547   \n",
       "788_triazines         0.413333  0.655977  0.413867  0.411333  0.573867   \n",
       "753_wisconsin         0.554359  0.595709  0.438974  0.536462  0.564103   \n",
       "792_fri_c2_500_5      0.830125  0.841856  0.718204  0.401990  0.802594   \n",
       "4340_Engine1          0.918039  0.621069  0.741961  0.671203  0.883660   \n",
       "\n",
       "                           CHD       Cov        ED  \n",
       "Unnamed: 0                                          \n",
       "1465_breast-tissue    0.242204  0.319080  0.342053  \n",
       "969_iris              1.000000  0.998667  1.000000  \n",
       "851_tecator           0.876488  0.505078  0.865255  \n",
       "1413_MyIris           0.962602  0.905000  0.962695  \n",
       "40682_thyroid-new     0.840878  0.923023  0.960442  \n",
       "1011_ecoli            0.765104  0.956741  0.961362  \n",
       "749_fri_c3_500_5      0.609850  0.802594  0.851169  \n",
       "61_iris               0.962602  0.903333  0.962695  \n",
       "1523_vertebra-column  0.656635  0.638871  0.717634  \n",
       "1490_planning-relax   0.542102  0.702740  0.468083  \n",
       "1524_vertebra-column  0.769931  0.683710  0.737951  \n",
       "744_fri_c3_250_5      0.553133  0.760597  0.811167  \n",
       "40_sonar              0.500194  0.534850  0.760788  \n",
       "880_mu284             0.939571  0.912281  0.945453  \n",
       "973_wine              0.766862  0.921678  0.967947  \n",
       "885_transplant        0.787379  0.926038  0.975871  \n",
       "788_triazines         0.501652  0.413333  0.644181  \n",
       "753_wisconsin         0.523160  0.546154  0.590139  \n",
       "792_fri_c2_500_5      0.487872  0.814364  0.831819  \n",
       "4340_Engine1          0.536902  0.915817  0.616418  "
      ],
      "text/html": "<div>\n<style scoped>\n    .dataframe tbody tr th:only-of-type {\n        vertical-align: middle;\n    }\n\n    .dataframe tbody tr th {\n        vertical-align: top;\n    }\n\n    .dataframe thead th {\n        text-align: right;\n    }\n</style>\n<table border=\"1\" class=\"dataframe\">\n  <thead>\n    <tr style=\"text-align: right;\">\n      <th></th>\n      <th>GE</th>\n      <th>GP</th>\n      <th>ITML</th>\n      <th>LFDA</th>\n      <th>LMNN</th>\n      <th>LSMN</th>\n      <th>MD</th>\n      <th>NCA</th>\n      <th>RCA</th>\n      <th>SDML</th>\n      <th>CHD</th>\n      <th>Cov</th>\n      <th>ED</th>\n    </tr>\n    <tr>\n      <th>Unnamed: 0</th>\n      <th></th>\n      <th></th>\n      <th></th>\n      <th></th>\n      <th></th>\n      <th></th>\n      <th></th>\n      <th></th>\n      <th></th>\n      <th></th>\n      <th></th>\n      <th></th>\n      <th></th>\n    </tr>\n  </thead>\n  <tbody>\n    <tr>\n      <th>1465_breast-tissue</th>\n      <td>0.8110</td>\n      <td>0.790394</td>\n      <td>0.346207</td>\n      <td>0.355862</td>\n      <td>0.206897</td>\n      <td>0.335632</td>\n      <td>0.373014</td>\n      <td>0.314483</td>\n      <td>0.204897</td>\n      <td>0.328736</td>\n      <td>0.242204</td>\n      <td>0.319080</td>\n      <td>0.342053</td>\n    </tr>\n    <tr>\n      <th>969_iris</th>\n      <td>1.0000</td>\n      <td>1.000000</td>\n      <td>1.000000</td>\n      <td>0.866667</td>\n      <td>0.333333</td>\n      <td>0.999000</td>\n      <td>1.000000</td>\n      <td>0.800000</td>\n      <td>0.331333</td>\n      <td>0.998667</td>\n      <td>1.000000</td>\n      <td>0.998667</td>\n      <td>1.000000</td>\n    </tr>\n    <tr>\n      <th>851_tecator</th>\n      <td>0.8837</td>\n      <td>0.875601</td>\n      <td>0.565181</td>\n      <td>0.531813</td>\n      <td>0.424870</td>\n      <td>0.561865</td>\n      <td>0.781341</td>\n      <td>0.436891</td>\n      <td>0.422870</td>\n      <td>0.554611</td>\n      <td>0.876488</td>\n      <td>0.505078</td>\n      <td>0.865255</td>\n    </tr>\n    <tr>\n      <th>1413_MyIris</th>\n      <td>1.0000</td>\n      <td>1.000000</td>\n      <td>0.979333</td>\n      <td>0.846667</td>\n      <td>0.333333</td>\n      <td>0.944667</td>\n      <td>0.957539</td>\n      <td>0.778667</td>\n      <td>0.331333</td>\n      <td>0.939000</td>\n      <td>0.962602</td>\n      <td>0.905000</td>\n      <td>0.962695</td>\n    </tr>\n    <tr>\n      <th>40682_thyroid-new</th>\n      <td>0.9958</td>\n      <td>0.992385</td>\n      <td>0.945814</td>\n      <td>0.899535</td>\n      <td>0.697674</td>\n      <td>0.940930</td>\n      <td>0.965861</td>\n      <td>0.768372</td>\n      <td>0.695674</td>\n      <td>0.926512</td>\n      <td>0.840878</td>\n      <td>0.923023</td>\n      <td>0.960442</td>\n    </tr>\n    <tr>\n      <th>1011_ecoli</th>\n      <td>1.0000</td>\n      <td>1.000000</td>\n      <td>0.966519</td>\n      <td>0.854370</td>\n      <td>0.425926</td>\n      <td>0.954370</td>\n      <td>0.965600</td>\n      <td>0.772741</td>\n      <td>0.423926</td>\n      <td>0.959407</td>\n      <td>0.765104</td>\n      <td>0.956741</td>\n      <td>0.961362</td>\n    </tr>\n    <tr>\n      <th>749_fri_c3_500_5</th>\n      <td>0.8508</td>\n      <td>0.773090</td>\n      <td>0.756708</td>\n      <td>0.717207</td>\n      <td>0.473815</td>\n      <td>0.821147</td>\n      <td>0.842666</td>\n      <td>0.730574</td>\n      <td>0.471815</td>\n      <td>0.829227</td>\n      <td>0.609850</td>\n      <td>0.802594</td>\n      <td>0.851169</td>\n    </tr>\n    <tr>\n      <th>61_iris</th>\n      <td>1.0000</td>\n      <td>1.000000</td>\n      <td>0.979667</td>\n      <td>0.842667</td>\n      <td>0.333333</td>\n      <td>0.926000</td>\n      <td>0.957539</td>\n      <td>0.778667</td>\n      <td>0.331333</td>\n      <td>0.947333</td>\n      <td>0.962602</td>\n      <td>0.903333</td>\n      <td>0.962695</td>\n    </tr>\n    <tr>\n      <th>1523_vertebra-column</th>\n      <td>0.9677</td>\n      <td>0.963504</td>\n      <td>0.767419</td>\n      <td>0.482419</td>\n      <td>0.193548</td>\n      <td>0.658710</td>\n      <td>0.732029</td>\n      <td>0.645161</td>\n      <td>0.191548</td>\n      <td>0.709839</td>\n      <td>0.656635</td>\n      <td>0.638871</td>\n      <td>0.717634</td>\n    </tr>\n    <tr>\n      <th>1490_planning-relax</th>\n      <td>0.7085</td>\n      <td>0.473251</td>\n      <td>0.703836</td>\n      <td>0.712329</td>\n      <td>0.712329</td>\n      <td>0.689315</td>\n      <td>0.499050</td>\n      <td>0.540274</td>\n      <td>0.710329</td>\n      <td>0.683014</td>\n      <td>0.542102</td>\n      <td>0.702740</td>\n      <td>0.468083</td>\n    </tr>\n    <tr>\n      <th>1524_vertebra-column</th>\n      <td>0.9947</td>\n      <td>0.997420</td>\n      <td>0.808387</td>\n      <td>0.762581</td>\n      <td>0.677419</td>\n      <td>0.705000</td>\n      <td>0.745862</td>\n      <td>0.670968</td>\n      <td>0.675419</td>\n      <td>0.773548</td>\n      <td>0.769931</td>\n      <td>0.683710</td>\n      <td>0.737951</td>\n    </tr>\n    <tr>\n      <th>744_fri_c3_250_5</th>\n      <td>0.8082</td>\n      <td>0.763149</td>\n      <td>0.750448</td>\n      <td>0.676617</td>\n      <td>0.437811</td>\n      <td>0.788856</td>\n      <td>0.806252</td>\n      <td>0.686965</td>\n      <td>0.435811</td>\n      <td>0.759005</td>\n      <td>0.553133</td>\n      <td>0.760597</td>\n      <td>0.811167</td>\n    </tr>\n    <tr>\n      <th>40_sonar</th>\n      <td>1.0000</td>\n      <td>0.999282</td>\n      <td>0.537485</td>\n      <td>0.513054</td>\n      <td>0.467066</td>\n      <td>0.557126</td>\n      <td>0.782642</td>\n      <td>0.563353</td>\n      <td>0.465066</td>\n      <td>0.538204</td>\n      <td>0.500194</td>\n      <td>0.534850</td>\n      <td>0.760788</td>\n    </tr>\n    <tr>\n      <th>880_mu284</th>\n      <td>0.9791</td>\n      <td>0.983241</td>\n      <td>0.980351</td>\n      <td>0.887368</td>\n      <td>0.500000</td>\n      <td>0.917544</td>\n      <td>0.939028</td>\n      <td>0.783158</td>\n      <td>0.498000</td>\n      <td>0.943509</td>\n      <td>0.939571</td>\n      <td>0.912281</td>\n      <td>0.945453</td>\n    </tr>\n    <tr>\n      <th>973_wine</th>\n      <td>0.9849</td>\n      <td>0.986879</td>\n      <td>0.987692</td>\n      <td>0.874126</td>\n      <td>0.398601</td>\n      <td>0.941818</td>\n      <td>0.971069</td>\n      <td>0.800000</td>\n      <td>0.396601</td>\n      <td>0.939301</td>\n      <td>0.766862</td>\n      <td>0.921678</td>\n      <td>0.967947</td>\n    </tr>\n    <tr>\n      <th>885_transplant</th>\n      <td>0.9796</td>\n      <td>0.977701</td>\n      <td>0.976604</td>\n      <td>0.882642</td>\n      <td>0.632075</td>\n      <td>0.941887</td>\n      <td>0.980673</td>\n      <td>0.780377</td>\n      <td>0.630075</td>\n      <td>0.967547</td>\n      <td>0.787379</td>\n      <td>0.926038</td>\n      <td>0.975871</td>\n    </tr>\n    <tr>\n      <th>788_triazines</th>\n      <td>0.6373</td>\n      <td>0.614501</td>\n      <td>0.600267</td>\n      <td>0.578133</td>\n      <td>0.413333</td>\n      <td>0.413333</td>\n      <td>0.655977</td>\n      <td>0.413867</td>\n      <td>0.411333</td>\n      <td>0.573867</td>\n      <td>0.501652</td>\n      <td>0.413333</td>\n      <td>0.644181</td>\n    </tr>\n    <tr>\n      <th>753_wisconsin</th>\n      <td>0.6762</td>\n      <td>0.702072</td>\n      <td>0.572308</td>\n      <td>0.535385</td>\n      <td>0.538462</td>\n      <td>0.554359</td>\n      <td>0.595709</td>\n      <td>0.438974</td>\n      <td>0.536462</td>\n      <td>0.564103</td>\n      <td>0.523160</td>\n      <td>0.546154</td>\n      <td>0.590139</td>\n    </tr>\n    <tr>\n      <th>792_fri_c2_500_5</th>\n      <td>0.8515</td>\n      <td>0.790746</td>\n      <td>0.825636</td>\n      <td>0.704439</td>\n      <td>0.403990</td>\n      <td>0.830125</td>\n      <td>0.841856</td>\n      <td>0.718204</td>\n      <td>0.401990</td>\n      <td>0.802594</td>\n      <td>0.487872</td>\n      <td>0.814364</td>\n      <td>0.831819</td>\n    </tr>\n    <tr>\n      <th>4340_Engine1</th>\n      <td>0.9256</td>\n      <td>0.570453</td>\n      <td>0.921176</td>\n      <td>0.869804</td>\n      <td>0.673203</td>\n      <td>0.918039</td>\n      <td>0.621069</td>\n      <td>0.741961</td>\n      <td>0.671203</td>\n      <td>0.883660</td>\n      <td>0.536902</td>\n      <td>0.915817</td>\n      <td>0.616418</td>\n    </tr>\n  </tbody>\n</table>\n</div>"
     },
     "metadata": {},
     "execution_count": 185
    }
   ],
   "source": [
    "df = pd.read_csv('/media/rafael/DadosCompartilhados/experimentos/experimentos_marcio/ResultadosProcessados/MacroF1_LLGC_Máximo_top_20.csv', index_col=0)\n",
    "df"
   ]
  },
  {
   "cell_type": "code",
   "execution_count": 186,
   "metadata": {},
   "outputs": [
    {
     "output_type": "execute_result",
     "data": {
      "text/plain": [
       "                       GE    GP  ITML  LFDA  LMNN  LSMN    MD   NCA   RCA  \\\n",
       "Unnamed: 0                                                                  \n",
       "1465_breast-tissue    1.0   2.0   5.0   4.0  12.0   7.0   3.0  10.0  13.0   \n",
       "969_iris              3.5   3.5   3.5  10.0  12.0   7.0   3.5  11.0  13.0   \n",
       "851_tecator           1.0   3.0   6.0   9.0  12.0   7.0   5.0  11.0  13.0   \n",
       "1413_MyIris           1.5   1.5   3.0  10.0  12.0   7.0   6.0  11.0  13.0   \n",
       "40682_thyroid-new     1.0   2.0   5.0   9.0  12.0   6.0   3.0  11.0  13.0   \n",
       "1011_ecoli            1.5   1.5   3.0   9.0  12.0   8.0   4.0  10.0  13.0   \n",
       "749_fri_c3_500_5      2.0   7.0   8.0  10.0  12.0   5.0   3.0   9.0  13.0   \n",
       "61_iris               1.5   1.5   3.0  10.0  12.0   8.0   6.0  11.0  13.0   \n",
       "1523_vertebra-column  1.0   2.0   3.0  11.0  12.0   7.0   4.0   9.0  13.0   \n",
       "1490_planning-relax   4.0  12.0   5.0   1.5   1.5   7.0  11.0  10.0   3.0   \n",
       "1524_vertebra-column  2.0   1.0   3.0   6.0  11.0   9.0   7.0  13.0  12.0   \n",
       "744_fri_c3_250_5      2.0   5.0   8.0  10.0  12.0   4.0   3.0   9.0  13.0   \n",
       "40_sonar              1.0   2.0   8.0  10.0  12.0   6.0   3.0   5.0  13.0   \n",
       "880_mu284             3.0   1.0   2.0  10.0  12.0   8.0   7.0  11.0  13.0   \n",
       "973_wine              3.0   2.0   1.0   9.0  12.0   6.0   4.0  10.0  13.0   \n",
       "885_transplant        2.0   3.0   4.0   9.0  12.0   7.0   1.0  11.0  13.0   \n",
       "788_triazines         3.0   4.0   5.0   6.0  11.0  11.0   1.0   9.0  13.0   \n",
       "753_wisconsin         2.0   1.0   5.0  11.0   9.0   7.0   3.0  13.0  10.0   \n",
       "792_fri_c2_500_5      1.0   8.0   5.0  10.0  12.0   4.0   2.0   9.0  13.0   \n",
       "4340_Engine1          1.0  12.0   2.0   6.0   8.0   3.0  10.0   7.0   9.0   \n",
       "\n",
       "                      SDML   CHD   Cov    ED  \n",
       "Unnamed: 0                                    \n",
       "1465_breast-tissue     8.0  11.0   9.0   6.0  \n",
       "969_iris               8.5   3.5   8.5   3.5  \n",
       "851_tecator            8.0   2.0  10.0   4.0  \n",
       "1413_MyIris            8.0   5.0   9.0   4.0  \n",
       "40682_thyroid-new      7.0  10.0   8.0   4.0  \n",
       "1011_ecoli             6.0  11.0   7.0   5.0  \n",
       "749_fri_c3_500_5       4.0  11.0   6.0   1.0  \n",
       "61_iris                7.0   5.0   9.0   4.0  \n",
       "1523_vertebra-column   6.0   8.0  10.0   5.0  \n",
       "1490_planning-relax    8.0   9.0   6.0  13.0  \n",
       "1524_vertebra-column   4.0   5.0  10.0   8.0  \n",
       "744_fri_c3_250_5       7.0  11.0   6.0   1.0  \n",
       "40_sonar               7.0  11.0   9.0   4.0  \n",
       "880_mu284              5.0   6.0   9.0   4.0  \n",
       "973_wine               7.0  11.0   8.0   5.0  \n",
       "885_transplant         6.0  10.0   8.0   5.0  \n",
       "788_triazines          7.0   8.0  11.0   2.0  \n",
       "753_wisconsin          6.0  12.0   8.0   4.0  \n",
       "792_fri_c2_500_5       7.0  11.0   6.0   3.0  \n",
       "4340_Engine1           5.0  13.0   4.0  11.0  "
      ],
      "text/html": "<div>\n<style scoped>\n    .dataframe tbody tr th:only-of-type {\n        vertical-align: middle;\n    }\n\n    .dataframe tbody tr th {\n        vertical-align: top;\n    }\n\n    .dataframe thead th {\n        text-align: right;\n    }\n</style>\n<table border=\"1\" class=\"dataframe\">\n  <thead>\n    <tr style=\"text-align: right;\">\n      <th></th>\n      <th>GE</th>\n      <th>GP</th>\n      <th>ITML</th>\n      <th>LFDA</th>\n      <th>LMNN</th>\n      <th>LSMN</th>\n      <th>MD</th>\n      <th>NCA</th>\n      <th>RCA</th>\n      <th>SDML</th>\n      <th>CHD</th>\n      <th>Cov</th>\n      <th>ED</th>\n    </tr>\n    <tr>\n      <th>Unnamed: 0</th>\n      <th></th>\n      <th></th>\n      <th></th>\n      <th></th>\n      <th></th>\n      <th></th>\n      <th></th>\n      <th></th>\n      <th></th>\n      <th></th>\n      <th></th>\n      <th></th>\n      <th></th>\n    </tr>\n  </thead>\n  <tbody>\n    <tr>\n      <th>1465_breast-tissue</th>\n      <td>1.0</td>\n      <td>2.0</td>\n      <td>5.0</td>\n      <td>4.0</td>\n      <td>12.0</td>\n      <td>7.0</td>\n      <td>3.0</td>\n      <td>10.0</td>\n      <td>13.0</td>\n      <td>8.0</td>\n      <td>11.0</td>\n      <td>9.0</td>\n      <td>6.0</td>\n    </tr>\n    <tr>\n      <th>969_iris</th>\n      <td>3.5</td>\n      <td>3.5</td>\n      <td>3.5</td>\n      <td>10.0</td>\n      <td>12.0</td>\n      <td>7.0</td>\n      <td>3.5</td>\n      <td>11.0</td>\n      <td>13.0</td>\n      <td>8.5</td>\n      <td>3.5</td>\n      <td>8.5</td>\n      <td>3.5</td>\n    </tr>\n    <tr>\n      <th>851_tecator</th>\n      <td>1.0</td>\n      <td>3.0</td>\n      <td>6.0</td>\n      <td>9.0</td>\n      <td>12.0</td>\n      <td>7.0</td>\n      <td>5.0</td>\n      <td>11.0</td>\n      <td>13.0</td>\n      <td>8.0</td>\n      <td>2.0</td>\n      <td>10.0</td>\n      <td>4.0</td>\n    </tr>\n    <tr>\n      <th>1413_MyIris</th>\n      <td>1.5</td>\n      <td>1.5</td>\n      <td>3.0</td>\n      <td>10.0</td>\n      <td>12.0</td>\n      <td>7.0</td>\n      <td>6.0</td>\n      <td>11.0</td>\n      <td>13.0</td>\n      <td>8.0</td>\n      <td>5.0</td>\n      <td>9.0</td>\n      <td>4.0</td>\n    </tr>\n    <tr>\n      <th>40682_thyroid-new</th>\n      <td>1.0</td>\n      <td>2.0</td>\n      <td>5.0</td>\n      <td>9.0</td>\n      <td>12.0</td>\n      <td>6.0</td>\n      <td>3.0</td>\n      <td>11.0</td>\n      <td>13.0</td>\n      <td>7.0</td>\n      <td>10.0</td>\n      <td>8.0</td>\n      <td>4.0</td>\n    </tr>\n    <tr>\n      <th>1011_ecoli</th>\n      <td>1.5</td>\n      <td>1.5</td>\n      <td>3.0</td>\n      <td>9.0</td>\n      <td>12.0</td>\n      <td>8.0</td>\n      <td>4.0</td>\n      <td>10.0</td>\n      <td>13.0</td>\n      <td>6.0</td>\n      <td>11.0</td>\n      <td>7.0</td>\n      <td>5.0</td>\n    </tr>\n    <tr>\n      <th>749_fri_c3_500_5</th>\n      <td>2.0</td>\n      <td>7.0</td>\n      <td>8.0</td>\n      <td>10.0</td>\n      <td>12.0</td>\n      <td>5.0</td>\n      <td>3.0</td>\n      <td>9.0</td>\n      <td>13.0</td>\n      <td>4.0</td>\n      <td>11.0</td>\n      <td>6.0</td>\n      <td>1.0</td>\n    </tr>\n    <tr>\n      <th>61_iris</th>\n      <td>1.5</td>\n      <td>1.5</td>\n      <td>3.0</td>\n      <td>10.0</td>\n      <td>12.0</td>\n      <td>8.0</td>\n      <td>6.0</td>\n      <td>11.0</td>\n      <td>13.0</td>\n      <td>7.0</td>\n      <td>5.0</td>\n      <td>9.0</td>\n      <td>4.0</td>\n    </tr>\n    <tr>\n      <th>1523_vertebra-column</th>\n      <td>1.0</td>\n      <td>2.0</td>\n      <td>3.0</td>\n      <td>11.0</td>\n      <td>12.0</td>\n      <td>7.0</td>\n      <td>4.0</td>\n      <td>9.0</td>\n      <td>13.0</td>\n      <td>6.0</td>\n      <td>8.0</td>\n      <td>10.0</td>\n      <td>5.0</td>\n    </tr>\n    <tr>\n      <th>1490_planning-relax</th>\n      <td>4.0</td>\n      <td>12.0</td>\n      <td>5.0</td>\n      <td>1.5</td>\n      <td>1.5</td>\n      <td>7.0</td>\n      <td>11.0</td>\n      <td>10.0</td>\n      <td>3.0</td>\n      <td>8.0</td>\n      <td>9.0</td>\n      <td>6.0</td>\n      <td>13.0</td>\n    </tr>\n    <tr>\n      <th>1524_vertebra-column</th>\n      <td>2.0</td>\n      <td>1.0</td>\n      <td>3.0</td>\n      <td>6.0</td>\n      <td>11.0</td>\n      <td>9.0</td>\n      <td>7.0</td>\n      <td>13.0</td>\n      <td>12.0</td>\n      <td>4.0</td>\n      <td>5.0</td>\n      <td>10.0</td>\n      <td>8.0</td>\n    </tr>\n    <tr>\n      <th>744_fri_c3_250_5</th>\n      <td>2.0</td>\n      <td>5.0</td>\n      <td>8.0</td>\n      <td>10.0</td>\n      <td>12.0</td>\n      <td>4.0</td>\n      <td>3.0</td>\n      <td>9.0</td>\n      <td>13.0</td>\n      <td>7.0</td>\n      <td>11.0</td>\n      <td>6.0</td>\n      <td>1.0</td>\n    </tr>\n    <tr>\n      <th>40_sonar</th>\n      <td>1.0</td>\n      <td>2.0</td>\n      <td>8.0</td>\n      <td>10.0</td>\n      <td>12.0</td>\n      <td>6.0</td>\n      <td>3.0</td>\n      <td>5.0</td>\n      <td>13.0</td>\n      <td>7.0</td>\n      <td>11.0</td>\n      <td>9.0</td>\n      <td>4.0</td>\n    </tr>\n    <tr>\n      <th>880_mu284</th>\n      <td>3.0</td>\n      <td>1.0</td>\n      <td>2.0</td>\n      <td>10.0</td>\n      <td>12.0</td>\n      <td>8.0</td>\n      <td>7.0</td>\n      <td>11.0</td>\n      <td>13.0</td>\n      <td>5.0</td>\n      <td>6.0</td>\n      <td>9.0</td>\n      <td>4.0</td>\n    </tr>\n    <tr>\n      <th>973_wine</th>\n      <td>3.0</td>\n      <td>2.0</td>\n      <td>1.0</td>\n      <td>9.0</td>\n      <td>12.0</td>\n      <td>6.0</td>\n      <td>4.0</td>\n      <td>10.0</td>\n      <td>13.0</td>\n      <td>7.0</td>\n      <td>11.0</td>\n      <td>8.0</td>\n      <td>5.0</td>\n    </tr>\n    <tr>\n      <th>885_transplant</th>\n      <td>2.0</td>\n      <td>3.0</td>\n      <td>4.0</td>\n      <td>9.0</td>\n      <td>12.0</td>\n      <td>7.0</td>\n      <td>1.0</td>\n      <td>11.0</td>\n      <td>13.0</td>\n      <td>6.0</td>\n      <td>10.0</td>\n      <td>8.0</td>\n      <td>5.0</td>\n    </tr>\n    <tr>\n      <th>788_triazines</th>\n      <td>3.0</td>\n      <td>4.0</td>\n      <td>5.0</td>\n      <td>6.0</td>\n      <td>11.0</td>\n      <td>11.0</td>\n      <td>1.0</td>\n      <td>9.0</td>\n      <td>13.0</td>\n      <td>7.0</td>\n      <td>8.0</td>\n      <td>11.0</td>\n      <td>2.0</td>\n    </tr>\n    <tr>\n      <th>753_wisconsin</th>\n      <td>2.0</td>\n      <td>1.0</td>\n      <td>5.0</td>\n      <td>11.0</td>\n      <td>9.0</td>\n      <td>7.0</td>\n      <td>3.0</td>\n      <td>13.0</td>\n      <td>10.0</td>\n      <td>6.0</td>\n      <td>12.0</td>\n      <td>8.0</td>\n      <td>4.0</td>\n    </tr>\n    <tr>\n      <th>792_fri_c2_500_5</th>\n      <td>1.0</td>\n      <td>8.0</td>\n      <td>5.0</td>\n      <td>10.0</td>\n      <td>12.0</td>\n      <td>4.0</td>\n      <td>2.0</td>\n      <td>9.0</td>\n      <td>13.0</td>\n      <td>7.0</td>\n      <td>11.0</td>\n      <td>6.0</td>\n      <td>3.0</td>\n    </tr>\n    <tr>\n      <th>4340_Engine1</th>\n      <td>1.0</td>\n      <td>12.0</td>\n      <td>2.0</td>\n      <td>6.0</td>\n      <td>8.0</td>\n      <td>3.0</td>\n      <td>10.0</td>\n      <td>7.0</td>\n      <td>9.0</td>\n      <td>5.0</td>\n      <td>13.0</td>\n      <td>4.0</td>\n      <td>11.0</td>\n    </tr>\n  </tbody>\n</table>\n</div>"
     },
     "metadata": {},
     "execution_count": 186
    }
   ],
   "source": [
    "df.apply(ranking, axis=1)"
   ]
  },
  {
   "cell_type": "code",
   "execution_count": 187,
   "metadata": {},
   "outputs": [
    {
     "output_type": "execute_result",
     "data": {
      "text/plain": [
       "              GE         GP       ITML       LFDA       LMNN       LSMN  \\\n",
       "count  20.000000  20.000000  20.000000  20.000000  20.000000  20.000000   \n",
       "mean    1.900000   3.750000   4.375000   8.525000  11.025000   6.700000   \n",
       "std     0.940325   3.408581   2.018826   2.510373   2.494599   1.809333   \n",
       "min     1.000000   1.000000   1.000000   1.500000   1.500000   3.000000   \n",
       "25%     1.000000   1.500000   3.000000   8.250000  11.750000   6.000000   \n",
       "50%     1.750000   2.000000   4.500000   9.500000  12.000000   7.000000   \n",
       "75%     2.250000   4.250000   5.000000  10.000000  12.000000   7.250000   \n",
       "max     4.000000  12.000000   8.000000  11.000000  12.000000  11.000000   \n",
       "\n",
       "              MD        NCA        RCA       SDML       CHD        Cov  \\\n",
       "count  20.000000  20.000000  20.000000  20.000000  20.00000  20.000000   \n",
       "mean    4.475000  10.000000  12.100000   6.575000   8.67500   8.075000   \n",
       "std     2.672841   1.835326   2.403944   1.310635   3.17173   1.764228   \n",
       "min     1.000000   5.000000   3.000000   4.000000   2.00000   4.000000   \n",
       "25%     3.000000   9.000000  13.000000   6.000000   5.75000   6.750000   \n",
       "50%     3.750000  10.000000  13.000000   7.000000  10.00000   8.250000   \n",
       "75%     6.000000  11.000000  13.000000   7.250000  11.00000   9.000000   \n",
       "max    11.000000  13.000000  13.000000   8.500000  13.00000  11.000000   \n",
       "\n",
       "              ED  \n",
       "count  20.000000  \n",
       "mean    4.825000  \n",
       "std     2.934706  \n",
       "min     1.000000  \n",
       "25%     3.875000  \n",
       "50%     4.000000  \n",
       "75%     5.000000  \n",
       "max    13.000000  "
      ],
      "text/html": "<div>\n<style scoped>\n    .dataframe tbody tr th:only-of-type {\n        vertical-align: middle;\n    }\n\n    .dataframe tbody tr th {\n        vertical-align: top;\n    }\n\n    .dataframe thead th {\n        text-align: right;\n    }\n</style>\n<table border=\"1\" class=\"dataframe\">\n  <thead>\n    <tr style=\"text-align: right;\">\n      <th></th>\n      <th>GE</th>\n      <th>GP</th>\n      <th>ITML</th>\n      <th>LFDA</th>\n      <th>LMNN</th>\n      <th>LSMN</th>\n      <th>MD</th>\n      <th>NCA</th>\n      <th>RCA</th>\n      <th>SDML</th>\n      <th>CHD</th>\n      <th>Cov</th>\n      <th>ED</th>\n    </tr>\n  </thead>\n  <tbody>\n    <tr>\n      <th>count</th>\n      <td>20.000000</td>\n      <td>20.000000</td>\n      <td>20.000000</td>\n      <td>20.000000</td>\n      <td>20.000000</td>\n      <td>20.000000</td>\n      <td>20.000000</td>\n      <td>20.000000</td>\n      <td>20.000000</td>\n      <td>20.000000</td>\n      <td>20.00000</td>\n      <td>20.000000</td>\n      <td>20.000000</td>\n    </tr>\n    <tr>\n      <th>mean</th>\n      <td>1.900000</td>\n      <td>3.750000</td>\n      <td>4.375000</td>\n      <td>8.525000</td>\n      <td>11.025000</td>\n      <td>6.700000</td>\n      <td>4.475000</td>\n      <td>10.000000</td>\n      <td>12.100000</td>\n      <td>6.575000</td>\n      <td>8.67500</td>\n      <td>8.075000</td>\n      <td>4.825000</td>\n    </tr>\n    <tr>\n      <th>std</th>\n      <td>0.940325</td>\n      <td>3.408581</td>\n      <td>2.018826</td>\n      <td>2.510373</td>\n      <td>2.494599</td>\n      <td>1.809333</td>\n      <td>2.672841</td>\n      <td>1.835326</td>\n      <td>2.403944</td>\n      <td>1.310635</td>\n      <td>3.17173</td>\n      <td>1.764228</td>\n      <td>2.934706</td>\n    </tr>\n    <tr>\n      <th>min</th>\n      <td>1.000000</td>\n      <td>1.000000</td>\n      <td>1.000000</td>\n      <td>1.500000</td>\n      <td>1.500000</td>\n      <td>3.000000</td>\n      <td>1.000000</td>\n      <td>5.000000</td>\n      <td>3.000000</td>\n      <td>4.000000</td>\n      <td>2.00000</td>\n      <td>4.000000</td>\n      <td>1.000000</td>\n    </tr>\n    <tr>\n      <th>25%</th>\n      <td>1.000000</td>\n      <td>1.500000</td>\n      <td>3.000000</td>\n      <td>8.250000</td>\n      <td>11.750000</td>\n      <td>6.000000</td>\n      <td>3.000000</td>\n      <td>9.000000</td>\n      <td>13.000000</td>\n      <td>6.000000</td>\n      <td>5.75000</td>\n      <td>6.750000</td>\n      <td>3.875000</td>\n    </tr>\n    <tr>\n      <th>50%</th>\n      <td>1.750000</td>\n      <td>2.000000</td>\n      <td>4.500000</td>\n      <td>9.500000</td>\n      <td>12.000000</td>\n      <td>7.000000</td>\n      <td>3.750000</td>\n      <td>10.000000</td>\n      <td>13.000000</td>\n      <td>7.000000</td>\n      <td>10.00000</td>\n      <td>8.250000</td>\n      <td>4.000000</td>\n    </tr>\n    <tr>\n      <th>75%</th>\n      <td>2.250000</td>\n      <td>4.250000</td>\n      <td>5.000000</td>\n      <td>10.000000</td>\n      <td>12.000000</td>\n      <td>7.250000</td>\n      <td>6.000000</td>\n      <td>11.000000</td>\n      <td>13.000000</td>\n      <td>7.250000</td>\n      <td>11.00000</td>\n      <td>9.000000</td>\n      <td>5.000000</td>\n    </tr>\n    <tr>\n      <th>max</th>\n      <td>4.000000</td>\n      <td>12.000000</td>\n      <td>8.000000</td>\n      <td>11.000000</td>\n      <td>12.000000</td>\n      <td>11.000000</td>\n      <td>11.000000</td>\n      <td>13.000000</td>\n      <td>13.000000</td>\n      <td>8.500000</td>\n      <td>13.00000</td>\n      <td>11.000000</td>\n      <td>13.000000</td>\n    </tr>\n  </tbody>\n</table>\n</div>"
     },
     "metadata": {},
     "execution_count": 187
    }
   ],
   "source": [
    "result_summary = df[df.columns].apply(ranking, axis=1).describe()\n",
    "result_summary"
   ]
  },
  {
   "cell_type": "code",
   "execution_count": 191,
   "metadata": {},
   "outputs": [
    {
     "output_type": "execute_result",
     "data": {
      "text/plain": [
       "              GE         GP       ITML         MD         ED\n",
       "count  20.000000  20.000000  20.000000  20.000000  20.000000\n",
       "mean    1.900000   3.750000   4.375000   4.475000   4.825000\n",
       "std     0.940325   3.408581   2.018826   2.672841   2.934706\n",
       "min     1.000000   1.000000   1.000000   1.000000   1.000000\n",
       "25%     1.000000   1.500000   3.000000   3.000000   3.875000\n",
       "50%     1.750000   2.000000   4.500000   3.750000   4.000000\n",
       "75%     2.250000   4.250000   5.000000   6.000000   5.000000\n",
       "max     4.000000  12.000000   8.000000  11.000000  13.000000"
      ],
      "text/html": "<div>\n<style scoped>\n    .dataframe tbody tr th:only-of-type {\n        vertical-align: middle;\n    }\n\n    .dataframe tbody tr th {\n        vertical-align: top;\n    }\n\n    .dataframe thead th {\n        text-align: right;\n    }\n</style>\n<table border=\"1\" class=\"dataframe\">\n  <thead>\n    <tr style=\"text-align: right;\">\n      <th></th>\n      <th>GE</th>\n      <th>GP</th>\n      <th>ITML</th>\n      <th>MD</th>\n      <th>ED</th>\n    </tr>\n  </thead>\n  <tbody>\n    <tr>\n      <th>count</th>\n      <td>20.000000</td>\n      <td>20.000000</td>\n      <td>20.000000</td>\n      <td>20.000000</td>\n      <td>20.000000</td>\n    </tr>\n    <tr>\n      <th>mean</th>\n      <td>1.900000</td>\n      <td>3.750000</td>\n      <td>4.375000</td>\n      <td>4.475000</td>\n      <td>4.825000</td>\n    </tr>\n    <tr>\n      <th>std</th>\n      <td>0.940325</td>\n      <td>3.408581</td>\n      <td>2.018826</td>\n      <td>2.672841</td>\n      <td>2.934706</td>\n    </tr>\n    <tr>\n      <th>min</th>\n      <td>1.000000</td>\n      <td>1.000000</td>\n      <td>1.000000</td>\n      <td>1.000000</td>\n      <td>1.000000</td>\n    </tr>\n    <tr>\n      <th>25%</th>\n      <td>1.000000</td>\n      <td>1.500000</td>\n      <td>3.000000</td>\n      <td>3.000000</td>\n      <td>3.875000</td>\n    </tr>\n    <tr>\n      <th>50%</th>\n      <td>1.750000</td>\n      <td>2.000000</td>\n      <td>4.500000</td>\n      <td>3.750000</td>\n      <td>4.000000</td>\n    </tr>\n    <tr>\n      <th>75%</th>\n      <td>2.250000</td>\n      <td>4.250000</td>\n      <td>5.000000</td>\n      <td>6.000000</td>\n      <td>5.000000</td>\n    </tr>\n    <tr>\n      <th>max</th>\n      <td>4.000000</td>\n      <td>12.000000</td>\n      <td>8.000000</td>\n      <td>11.000000</td>\n      <td>13.000000</td>\n    </tr>\n  </tbody>\n</table>\n</div>"
     },
     "metadata": {},
     "execution_count": 191
    }
   ],
   "source": [
    "result_summary = result_summary[['GE','GP','ITML','MD','ED']]\n",
    "result_summary"
   ]
  },
  {
   "cell_type": "code",
   "execution_count": 192,
   "metadata": {},
   "outputs": [
    {
     "output_type": "display_data",
     "data": {
      "text/plain": "<Figure size 432x118.8 with 1 Axes>",
      "image/svg+xml": "<?xml version=\"1.0\" encoding=\"utf-8\" standalone=\"no\"?>\n<!DOCTYPE svg PUBLIC \"-//W3C//DTD SVG 1.1//EN\"\n  \"http://www.w3.org/Graphics/SVG/1.1/DTD/svg11.dtd\">\n<!-- Created with matplotlib (https://matplotlib.org/) -->\n<svg height=\"133.2pt\" version=\"1.1\" viewBox=\"0 0 446.4 133.2\" width=\"446.4pt\" xmlns=\"http://www.w3.org/2000/svg\" xmlns:xlink=\"http://www.w3.org/1999/xlink\">\n <defs>\n  <style type=\"text/css\">\n*{stroke-linecap:butt;stroke-linejoin:round;}\n  </style>\n </defs>\n <g id=\"figure_1\">\n  <g id=\"patch_1\">\n   <path d=\"M 0 133.2 \nL 446.4 133.2 \nL 446.4 0 \nL 0 0 \nz\n\" style=\"fill:#ffffff;\"/>\n  </g>\n  <g id=\"axes_1\">\n   <g id=\"line2d_1\">\n    <path clip-path=\"url(#p1acf95d1f8)\" d=\"M 7.2 7.2 \nL 439.2 126 \n\" style=\"fill:none;stroke:#ffffff;stroke-linecap:square;stroke-width:1.5;\"/>\n   </g>\n   <g id=\"line2d_2\">\n    <path clip-path=\"url(#p1acf95d1f8)\" d=\"M 115.2 54 \nL 331.2 54 \n\" style=\"fill:none;stroke:#000000;stroke-linecap:square;stroke-width:0.7;\"/>\n   </g>\n   <g id=\"line2d_3\">\n    <path clip-path=\"url(#p1acf95d1f8)\" d=\"M 115.2 50.4 \nL 115.2 54 \n\" style=\"fill:none;stroke:#000000;stroke-linecap:square;stroke-width:0.7;\"/>\n   </g>\n   <g id=\"line2d_4\">\n    <path clip-path=\"url(#p1acf95d1f8)\" d=\"M 142.2 52.2 \nL 142.2 54 \n\" style=\"fill:none;stroke:#000000;stroke-linecap:square;stroke-width:0.7;\"/>\n   </g>\n   <g id=\"line2d_5\">\n    <path clip-path=\"url(#p1acf95d1f8)\" d=\"M 169.2 50.4 \nL 169.2 54 \n\" style=\"fill:none;stroke:#000000;stroke-linecap:square;stroke-width:0.7;\"/>\n   </g>\n   <g id=\"line2d_6\">\n    <path clip-path=\"url(#p1acf95d1f8)\" d=\"M 196.2 52.2 \nL 196.2 54 \n\" style=\"fill:none;stroke:#000000;stroke-linecap:square;stroke-width:0.7;\"/>\n   </g>\n   <g id=\"line2d_7\">\n    <path clip-path=\"url(#p1acf95d1f8)\" d=\"M 223.2 50.4 \nL 223.2 54 \n\" style=\"fill:none;stroke:#000000;stroke-linecap:square;stroke-width:0.7;\"/>\n   </g>\n   <g id=\"line2d_8\">\n    <path clip-path=\"url(#p1acf95d1f8)\" d=\"M 250.2 52.2 \nL 250.2 54 \n\" style=\"fill:none;stroke:#000000;stroke-linecap:square;stroke-width:0.7;\"/>\n   </g>\n   <g id=\"line2d_9\">\n    <path clip-path=\"url(#p1acf95d1f8)\" d=\"M 277.2 50.4 \nL 277.2 54 \n\" style=\"fill:none;stroke:#000000;stroke-linecap:square;stroke-width:0.7;\"/>\n   </g>\n   <g id=\"line2d_10\">\n    <path clip-path=\"url(#p1acf95d1f8)\" d=\"M 304.2 52.2 \nL 304.2 54 \n\" style=\"fill:none;stroke:#000000;stroke-linecap:square;stroke-width:0.7;\"/>\n   </g>\n   <g id=\"line2d_11\">\n    <path clip-path=\"url(#p1acf95d1f8)\" d=\"M 331.2 50.4 \nL 331.2 54 \n\" style=\"fill:none;stroke:#000000;stroke-linecap:square;stroke-width:0.7;\"/>\n   </g>\n   <g id=\"line2d_12\">\n    <path clip-path=\"url(#p1acf95d1f8)\" d=\"M 163.8 54 \nL 163.8 82.8 \nL 108 82.8 \n\" style=\"fill:none;stroke:#000000;stroke-linecap:square;stroke-width:0.7;\"/>\n   </g>\n   <g id=\"line2d_13\">\n    <path clip-path=\"url(#p1acf95d1f8)\" d=\"M 263.7 54 \nL 263.7 97.2 \nL 108 97.2 \n\" style=\"fill:none;stroke:#000000;stroke-linecap:square;stroke-width:0.7;\"/>\n   </g>\n   <g id=\"line2d_14\">\n    <path clip-path=\"url(#p1acf95d1f8)\" d=\"M 297.45 54 \nL 297.45 111.6 \nL 108 111.6 \n\" style=\"fill:none;stroke:#000000;stroke-linecap:square;stroke-width:0.7;\"/>\n   </g>\n   <g id=\"line2d_15\">\n    <path clip-path=\"url(#p1acf95d1f8)\" d=\"M 302.85 54 \nL 302.85 97.2 \nL 338.4 97.2 \n\" style=\"fill:none;stroke:#000000;stroke-linecap:square;stroke-width:0.7;\"/>\n   </g>\n   <g id=\"line2d_16\">\n    <path clip-path=\"url(#p1acf95d1f8)\" d=\"M 321.75 54 \nL 321.75 82.8 \nL 338.4 82.8 \n\" style=\"fill:none;stroke:#000000;stroke-linecap:square;stroke-width:0.7;\"/>\n   </g>\n   <g id=\"line2d_17\">\n    <path clip-path=\"url(#p1acf95d1f8)\" d=\"M 115.2 25.2 \nL 188.849898 25.2 \n\" style=\"fill:none;stroke:#000000;stroke-linecap:square;stroke-width:0.7;\"/>\n   </g>\n   <g id=\"line2d_18\">\n    <path clip-path=\"url(#p1acf95d1f8)\" d=\"M 115.2 28.8 \nL 115.2 21.6 \n\" style=\"fill:none;stroke:#000000;stroke-linecap:square;stroke-width:0.7;\"/>\n   </g>\n   <g id=\"line2d_19\">\n    <path clip-path=\"url(#p1acf95d1f8)\" d=\"M 188.849898 28.8 \nL 188.849898 21.6 \n\" style=\"fill:none;stroke:#000000;stroke-linecap:square;stroke-width:0.7;\"/>\n   </g>\n   <g id=\"line2d_20\">\n    <path clip-path=\"url(#p1acf95d1f8)\" d=\"M 260.1 68.4 \nL 325.35 68.4 \n\" style=\"fill:none;stroke:#000000;stroke-linecap:square;stroke-width:2.5;\"/>\n   </g>\n   <g id=\"text_1\">\n    <!-- 1 -->\n    <defs>\n     <path d=\"M 12.40625 8.296875 \nL 28.515625 8.296875 \nL 28.515625 63.921875 \nL 10.984375 60.40625 \nL 10.984375 69.390625 \nL 28.421875 72.90625 \nL 38.28125 72.90625 \nL 38.28125 8.296875 \nL 54.390625 8.296875 \nL 54.390625 0 \nL 12.40625 0 \nz\n\" id=\"DejaVuSans-49\"/>\n    </defs>\n    <g transform=\"translate(112.01875 44.720313)scale(0.1 -0.1)\">\n     <use xlink:href=\"#DejaVuSans-49\"/>\n    </g>\n   </g>\n   <g id=\"text_2\">\n    <!-- 2 -->\n    <defs>\n     <path d=\"M 19.1875 8.296875 \nL 53.609375 8.296875 \nL 53.609375 0 \nL 7.328125 0 \nL 7.328125 8.296875 \nQ 12.9375 14.109375 22.625 23.890625 \nQ 32.328125 33.6875 34.8125 36.53125 \nQ 39.546875 41.84375 41.421875 45.53125 \nQ 43.3125 49.21875 43.3125 52.78125 \nQ 43.3125 58.59375 39.234375 62.25 \nQ 35.15625 65.921875 28.609375 65.921875 \nQ 23.96875 65.921875 18.8125 64.3125 \nQ 13.671875 62.703125 7.8125 59.421875 \nL 7.8125 69.390625 \nQ 13.765625 71.78125 18.9375 73 \nQ 24.125 74.21875 28.421875 74.21875 \nQ 39.75 74.21875 46.484375 68.546875 \nQ 53.21875 62.890625 53.21875 53.421875 \nQ 53.21875 48.921875 51.53125 44.890625 \nQ 49.859375 40.875 45.40625 35.40625 \nQ 44.1875 33.984375 37.640625 27.21875 \nQ 31.109375 20.453125 19.1875 8.296875 \nz\n\" id=\"DejaVuSans-50\"/>\n    </defs>\n    <g transform=\"translate(166.01875 44.720313)scale(0.1 -0.1)\">\n     <use xlink:href=\"#DejaVuSans-50\"/>\n    </g>\n   </g>\n   <g id=\"text_3\">\n    <!-- 3 -->\n    <defs>\n     <path d=\"M 40.578125 39.3125 \nQ 47.65625 37.796875 51.625 33 \nQ 55.609375 28.21875 55.609375 21.1875 \nQ 55.609375 10.40625 48.1875 4.484375 \nQ 40.765625 -1.421875 27.09375 -1.421875 \nQ 22.515625 -1.421875 17.65625 -0.515625 \nQ 12.796875 0.390625 7.625 2.203125 \nL 7.625 11.71875 \nQ 11.71875 9.328125 16.59375 8.109375 \nQ 21.484375 6.890625 26.8125 6.890625 \nQ 36.078125 6.890625 40.9375 10.546875 \nQ 45.796875 14.203125 45.796875 21.1875 \nQ 45.796875 27.640625 41.28125 31.265625 \nQ 36.765625 34.90625 28.71875 34.90625 \nL 20.21875 34.90625 \nL 20.21875 43.015625 \nL 29.109375 43.015625 \nQ 36.375 43.015625 40.234375 45.921875 \nQ 44.09375 48.828125 44.09375 54.296875 \nQ 44.09375 59.90625 40.109375 62.90625 \nQ 36.140625 65.921875 28.71875 65.921875 \nQ 24.65625 65.921875 20.015625 65.03125 \nQ 15.375 64.15625 9.8125 62.3125 \nL 9.8125 71.09375 \nQ 15.4375 72.65625 20.34375 73.4375 \nQ 25.25 74.21875 29.59375 74.21875 \nQ 40.828125 74.21875 47.359375 69.109375 \nQ 53.90625 64.015625 53.90625 55.328125 \nQ 53.90625 49.265625 50.4375 45.09375 \nQ 46.96875 40.921875 40.578125 39.3125 \nz\n\" id=\"DejaVuSans-51\"/>\n    </defs>\n    <g transform=\"translate(220.01875 44.720313)scale(0.1 -0.1)\">\n     <use xlink:href=\"#DejaVuSans-51\"/>\n    </g>\n   </g>\n   <g id=\"text_4\">\n    <!-- 4 -->\n    <defs>\n     <path d=\"M 37.796875 64.3125 \nL 12.890625 25.390625 \nL 37.796875 25.390625 \nz\nM 35.203125 72.90625 \nL 47.609375 72.90625 \nL 47.609375 25.390625 \nL 58.015625 25.390625 \nL 58.015625 17.1875 \nL 47.609375 17.1875 \nL 47.609375 0 \nL 37.796875 0 \nL 37.796875 17.1875 \nL 4.890625 17.1875 \nL 4.890625 26.703125 \nz\n\" id=\"DejaVuSans-52\"/>\n    </defs>\n    <g transform=\"translate(274.01875 44.720313)scale(0.1 -0.1)\">\n     <use xlink:href=\"#DejaVuSans-52\"/>\n    </g>\n   </g>\n   <g id=\"text_5\">\n    <!-- 5 -->\n    <defs>\n     <path d=\"M 10.796875 72.90625 \nL 49.515625 72.90625 \nL 49.515625 64.59375 \nL 19.828125 64.59375 \nL 19.828125 46.734375 \nQ 21.96875 47.46875 24.109375 47.828125 \nQ 26.265625 48.1875 28.421875 48.1875 \nQ 40.625 48.1875 47.75 41.5 \nQ 54.890625 34.8125 54.890625 23.390625 \nQ 54.890625 11.625 47.5625 5.09375 \nQ 40.234375 -1.421875 26.90625 -1.421875 \nQ 22.3125 -1.421875 17.546875 -0.640625 \nQ 12.796875 0.140625 7.71875 1.703125 \nL 7.71875 11.625 \nQ 12.109375 9.234375 16.796875 8.0625 \nQ 21.484375 6.890625 26.703125 6.890625 \nQ 35.15625 6.890625 40.078125 11.328125 \nQ 45.015625 15.765625 45.015625 23.390625 \nQ 45.015625 31 40.078125 35.4375 \nQ 35.15625 39.890625 26.703125 39.890625 \nQ 22.75 39.890625 18.8125 39.015625 \nQ 14.890625 38.140625 10.796875 36.28125 \nz\n\" id=\"DejaVuSans-53\"/>\n    </defs>\n    <g transform=\"translate(328.01875 44.720313)scale(0.1 -0.1)\">\n     <use xlink:href=\"#DejaVuSans-53\"/>\n    </g>\n   </g>\n   <g id=\"text_6\">\n    <!-- GE -->\n    <defs>\n     <path d=\"M 59.515625 10.40625 \nL 59.515625 29.984375 \nL 43.40625 29.984375 \nL 43.40625 38.09375 \nL 69.28125 38.09375 \nL 69.28125 6.78125 \nQ 63.578125 2.734375 56.6875 0.65625 \nQ 49.8125 -1.421875 42 -1.421875 \nQ 24.90625 -1.421875 15.25 8.5625 \nQ 5.609375 18.5625 5.609375 36.375 \nQ 5.609375 54.25 15.25 64.234375 \nQ 24.90625 74.21875 42 74.21875 \nQ 49.125 74.21875 55.546875 72.453125 \nQ 61.96875 70.703125 67.390625 67.28125 \nL 67.390625 56.78125 \nQ 61.921875 61.421875 55.765625 63.765625 \nQ 49.609375 66.109375 42.828125 66.109375 \nQ 29.4375 66.109375 22.71875 58.640625 \nQ 16.015625 51.171875 16.015625 36.375 \nQ 16.015625 21.625 22.71875 14.15625 \nQ 29.4375 6.6875 42.828125 6.6875 \nQ 48.046875 6.6875 52.140625 7.59375 \nQ 56.25 8.5 59.515625 10.40625 \nz\n\" id=\"DejaVuSans-71\"/>\n     <path d=\"M 9.8125 72.90625 \nL 55.90625 72.90625 \nL 55.90625 64.59375 \nL 19.671875 64.59375 \nL 19.671875 43.015625 \nL 54.390625 43.015625 \nL 54.390625 34.71875 \nL 19.671875 34.71875 \nL 19.671875 8.296875 \nL 56.78125 8.296875 \nL 56.78125 0 \nL 9.8125 0 \nz\n\" id=\"DejaVuSans-69\"/>\n    </defs>\n    <g transform=\"translate(86.732813 85.559375)scale(0.1 -0.1)\">\n     <use xlink:href=\"#DejaVuSans-71\"/>\n     <use x=\"77.490234\" xlink:href=\"#DejaVuSans-69\"/>\n    </g>\n   </g>\n   <g id=\"text_7\">\n    <!-- GP -->\n    <defs>\n     <path d=\"M 19.671875 64.796875 \nL 19.671875 37.40625 \nL 32.078125 37.40625 \nQ 38.96875 37.40625 42.71875 40.96875 \nQ 46.484375 44.53125 46.484375 51.125 \nQ 46.484375 57.671875 42.71875 61.234375 \nQ 38.96875 64.796875 32.078125 64.796875 \nz\nM 9.8125 72.90625 \nL 32.078125 72.90625 \nQ 44.34375 72.90625 50.609375 67.359375 \nQ 56.890625 61.8125 56.890625 51.125 \nQ 56.890625 40.328125 50.609375 34.8125 \nQ 44.34375 29.296875 32.078125 29.296875 \nL 19.671875 29.296875 \nL 19.671875 0 \nL 9.8125 0 \nz\n\" id=\"DejaVuSans-80\"/>\n    </defs>\n    <g transform=\"translate(87.021875 99.959375)scale(0.1 -0.1)\">\n     <use xlink:href=\"#DejaVuSans-71\"/>\n     <use x=\"77.490234\" xlink:href=\"#DejaVuSans-80\"/>\n    </g>\n   </g>\n   <g id=\"text_8\">\n    <!-- ITML -->\n    <defs>\n     <path d=\"M 9.8125 72.90625 \nL 19.671875 72.90625 \nL 19.671875 0 \nL 9.8125 0 \nz\n\" id=\"DejaVuSans-73\"/>\n     <path d=\"M -0.296875 72.90625 \nL 61.375 72.90625 \nL 61.375 64.59375 \nL 35.5 64.59375 \nL 35.5 0 \nL 25.59375 0 \nL 25.59375 64.59375 \nL -0.296875 64.59375 \nz\n\" id=\"DejaVuSans-84\"/>\n     <path d=\"M 9.8125 72.90625 \nL 24.515625 72.90625 \nL 43.109375 23.296875 \nL 61.8125 72.90625 \nL 76.515625 72.90625 \nL 76.515625 0 \nL 66.890625 0 \nL 66.890625 64.015625 \nL 48.09375 14.015625 \nL 38.1875 14.015625 \nL 19.390625 64.015625 \nL 19.390625 0 \nL 9.8125 0 \nz\n\" id=\"DejaVuSans-77\"/>\n     <path d=\"M 9.8125 72.90625 \nL 19.671875 72.90625 \nL 19.671875 8.296875 \nL 55.171875 8.296875 \nL 55.171875 0 \nL 9.8125 0 \nz\n\" id=\"DejaVuSans-76\"/>\n    </defs>\n    <g transform=\"translate(77.542188 114.359375)scale(0.1 -0.1)\">\n     <use xlink:href=\"#DejaVuSans-73\"/>\n     <use x=\"29.492188\" xlink:href=\"#DejaVuSans-84\"/>\n     <use x=\"90.576172\" xlink:href=\"#DejaVuSans-77\"/>\n     <use x=\"176.855469\" xlink:href=\"#DejaVuSans-76\"/>\n    </g>\n   </g>\n   <g id=\"text_9\">\n    <!-- MD -->\n    <defs>\n     <path d=\"M 19.671875 64.796875 \nL 19.671875 8.109375 \nL 31.59375 8.109375 \nQ 46.6875 8.109375 53.6875 14.9375 \nQ 60.6875 21.78125 60.6875 36.53125 \nQ 60.6875 51.171875 53.6875 57.984375 \nQ 46.6875 64.796875 31.59375 64.796875 \nz\nM 9.8125 72.90625 \nL 30.078125 72.90625 \nQ 51.265625 72.90625 61.171875 64.09375 \nQ 71.09375 55.28125 71.09375 36.53125 \nQ 71.09375 17.671875 61.125 8.828125 \nQ 51.171875 0 30.078125 0 \nL 9.8125 0 \nz\n\" id=\"DejaVuSans-68\"/>\n    </defs>\n    <g transform=\"translate(345.6 99.959375)scale(0.1 -0.1)\">\n     <use xlink:href=\"#DejaVuSans-77\"/>\n     <use x=\"86.279297\" xlink:href=\"#DejaVuSans-68\"/>\n    </g>\n   </g>\n   <g id=\"text_10\">\n    <!-- ED -->\n    <g transform=\"translate(345.6 85.559375)scale(0.1 -0.1)\">\n     <use xlink:href=\"#DejaVuSans-69\"/>\n     <use x=\"63.183594\" xlink:href=\"#DejaVuSans-68\"/>\n    </g>\n   </g>\n   <g id=\"text_11\">\n    <!-- CD -->\n    <defs>\n     <path d=\"M 64.40625 67.28125 \nL 64.40625 56.890625 \nQ 59.421875 61.53125 53.78125 63.8125 \nQ 48.140625 66.109375 41.796875 66.109375 \nQ 29.296875 66.109375 22.65625 58.46875 \nQ 16.015625 50.828125 16.015625 36.375 \nQ 16.015625 21.96875 22.65625 14.328125 \nQ 29.296875 6.6875 41.796875 6.6875 \nQ 48.140625 6.6875 53.78125 8.984375 \nQ 59.421875 11.28125 64.40625 15.921875 \nL 64.40625 5.609375 \nQ 59.234375 2.09375 53.4375 0.328125 \nQ 47.65625 -1.421875 41.21875 -1.421875 \nQ 24.65625 -1.421875 15.125 8.703125 \nQ 5.609375 18.84375 5.609375 36.375 \nQ 5.609375 53.953125 15.125 64.078125 \nQ 24.65625 74.21875 41.21875 74.21875 \nQ 47.75 74.21875 53.53125 72.484375 \nQ 59.328125 70.75 64.40625 67.28125 \nz\n\" id=\"DejaVuSans-67\"/>\n    </defs>\n    <g transform=\"translate(144.683543 19.520313)scale(0.1 -0.1)\">\n     <use xlink:href=\"#DejaVuSans-67\"/>\n     <use x=\"69.824219\" xlink:href=\"#DejaVuSans-68\"/>\n    </g>\n   </g>\n  </g>\n </g>\n <defs>\n  <clipPath id=\"p1acf95d1f8\">\n   <rect height=\"118.8\" width=\"432\" x=\"7.2\" y=\"7.2\"/>\n  </clipPath>\n </defs>\n</svg>\n",
      "image/png": "[encoded data removed]"
     },
     "metadata": {}
    }
   ],
   "source": [
    "import Orange\n",
    "import matplotlib.pyplot as plt\n",
    "names = result_summary.columns\n",
    "avranks =  result_summary.loc['mean']\n",
    "cd = Orange.evaluation.compute_CD(avranks, 20) \n",
    "Orange.evaluation.graph_ranks(avranks, names, cd=cd, width=6, textspace=1.5)\n",
    "plt.show()"
   ]
  },
  {
   "cell_type": "code",
   "execution_count": 193,
   "metadata": {},
   "outputs": [],
   "source": [
    "from scipy import stats"
   ]
  },
  {
   "cell_type": "code",
   "execution_count": 197,
   "metadata": {},
   "outputs": [
    {
     "output_type": "execute_result",
     "data": {
      "text/plain": [
       "WilcoxonResult(statistic=55.0, pvalue=0.10743055826425381)"
      ]
     },
     "metadata": {},
     "execution_count": 197
    }
   ],
   "source": [
    "stats.wilcoxon(df['GP'], df['ED'])"
   ]
  },
  {
   "cell_type": "code",
   "execution_count": null,
   "metadata": {},
   "outputs": [],
   "source": []
  }
 ]
}